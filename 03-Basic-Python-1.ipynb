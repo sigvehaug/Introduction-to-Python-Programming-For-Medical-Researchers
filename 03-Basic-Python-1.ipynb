{
  "nbformat": 4,
  "nbformat_minor": 0,
  "metadata": {
    "anaconda-cloud": {},
    "kernelspec": {
      "display_name": "Python 3",
      "language": "python",
      "name": "python3"
    },
    "language_info": {
      "codemirror_mode": {
        "name": "ipython",
        "version": 3
      },
      "file_extension": ".py",
      "mimetype": "text/x-python",
      "name": "python",
      "nbconvert_exporter": "python",
      "pygments_lexer": "ipython3",
      "version": "3.6.8"
    },
    "colab": {
      "name": "02-Basic-Python-Syntax.ipynb",
      "provenance": [],
      "include_colab_link": true
    }
  },
  "cells": [
    {
      "cell_type": "markdown",
      "metadata": {
        "id": "view-in-github",
        "colab_type": "text"
      },
      "source": [
        "<a href=\"https://colab.research.google.com/github/sigvehaug/Introduction-to-Python-for-Medical-Researchers/blob/master/03-Basic-Python-1.ipynb\" target=\"_parent\"><img src=\"https://colab.research.google.com/assets/colab-badge.svg\" alt=\"Open In Colab\"/></a>"
      ]
    },
    {
      "cell_type": "markdown",
      "metadata": {
        "id": "GbB2F0nUnmkv"
      },
      "source": [
        "<!--BOOK_INFORMATION-->\n",
        "<img align=\"left\" style=\"padding-right:10px;\" src=\"https://github.com/sigvehaug/Introduction-to-Python-Programming-For-Medical-Researchers/blob/master/cover-small.jpg?raw=1\">\n",
        "\n",
        "*This notebook contains an excerpt from the [Whirlwind Tour of Python](http://www.oreilly.com/programming/free/a-whirlwind-tour-of-python.csp) by Jake VanderPlas; the content is available [on GitHub](https://github.com/jakevdp/WhirlwindTourOfPython).*\n",
        "\n",
        "*The text and code are released under the [CC0](https://github.com/jakevdp/WhirlwindTourOfPython/blob/master/LICENSE) license; see also the companion project, the [Python Data Science Handbook](https://github.com/jakevdp/PythonDataScienceHandbook).*\n"
      ]
    },
    {
      "cell_type": "markdown",
      "metadata": {
        "id": "rzrzHykrUoFO"
      },
      "source": [
        "Introduction to Python Programming for Medical Researchers, 2021-09-06, University of Bern, Sigve Haug"
      ]
    },
    {
      "cell_type": "markdown",
      "metadata": {
        "id": "cpigRldCUqre"
      },
      "source": [
        "# Basic Python (60 min)\n",
        "\n",
        "This notebook is a systematic and very condenced overview of\n",
        "- Python Syntax\n",
        "- Python Semantics\n",
        "- Python Operators\n",
        "- Python Data Types (Built-In)\n",
        "- Python Data Structures (Built-In)\n",
        "\n",
        "The content is basic and belongs to necessary knowledge by any Python programmers. One does not learn it by heart, however, after some hours of practicing Python, it automatically becomes active knowledge.\n",
        "\n",
        "It corresponds to the first six chapters of the book referenced above. There you may get more detailed descriptions."
      ]
    },
    {
      "cell_type": "markdown",
      "metadata": {
        "id": "7o5d-zXknmk0"
      },
      "source": [
        "# Python Language Syntax"
      ]
    },
    {
      "cell_type": "code",
      "metadata": {
        "id": "6yvQawUpn-2u"
      },
      "source": [
        "# Comments start with a #. They can also come after the code on the same line\n"
      ],
      "execution_count": 1,
      "outputs": []
    },
    {
      "cell_type": "code",
      "metadata": {
        "id": "tOcDxEO4oSjf"
      },
      "source": [
        "# Multiline commands can be written with backslash \\ or ()\n"
      ],
      "execution_count": 2,
      "outputs": []
    },
    {
      "cell_type": "code",
      "metadata": {
        "id": "gclk2kU9pP1F"
      },
      "source": [
        "# One may write multiple statements on one line by separating with ;\n"
      ],
      "execution_count": 3,
      "outputs": []
    },
    {
      "cell_type": "code",
      "metadata": {
        "id": "3Jj0aXlHpv-c"
      },
      "source": [
        "# Codeblocks are indicated by intendation and :\n"
      ],
      "execution_count": 4,
      "outputs": []
    },
    {
      "cell_type": "code",
      "metadata": {
        "id": "_xJAPCu3qd7n"
      },
      "source": [
        "# Parentheses () Are for Grouping or Calling\n"
      ],
      "execution_count": 5,
      "outputs": []
    },
    {
      "cell_type": "markdown",
      "metadata": {
        "id": "lK-q9bm8nmlC"
      },
      "source": [
        "## Finishing Up on the Syntax and Learning More\n",
        "\n",
        "This has been a very brief exploration of the essential features of Python syntax; its purpose is to give you a good frame of reference for when you're reading the code in later sections.\n",
        "Several times we've mentioned Python \"style guides\", which can help teams to write code in a consistent style.\n",
        "The most widely used style guide in Python is known as PEP8, and can be found at https://www.python.org/dev/peps/pep-0008/.\n",
        "As you begin to write more Python code, it would be useful to read through this!\n",
        "The style suggestions contain the wisdom of many Python gurus, and most suggestions go beyond simple pedantry: they are experience-based recommendations that can help avoid subtle mistakes and bugs in your code."
      ]
    },
    {
      "cell_type": "markdown",
      "metadata": {
        "id": "TZ3BVJjMrd6Q"
      },
      "source": [
        "#Python Semantics - Variables and Objects\n"
      ]
    },
    {
      "cell_type": "markdown",
      "metadata": {
        "id": "pPERC7iCwJwp"
      },
      "source": [
        "In Python data type declaration on variables is not needed. It has dynamic typing."
      ]
    },
    {
      "cell_type": "code",
      "metadata": {
        "id": "9yuRI1lnuTrX"
      },
      "source": [
        "# Assignment by =\n",
        "\n"
      ],
      "execution_count": 6,
      "outputs": []
    },
    {
      "cell_type": "markdown",
      "metadata": {
        "id": "s5fGC5Eburr_"
      },
      "source": [
        "In Python variables are pointers, i.e. they point to the memory buckets with the actual values. \n",
        "\n",
        "In Python everything is an object, it contains not only the value, but also attributes and methods. Methods are invoked by the dot."
      ]
    },
    {
      "cell_type": "code",
      "metadata": {
        "id": "xj-ENQ2IufWS"
      },
      "source": [
        ""
      ],
      "execution_count": 6,
      "outputs": []
    },
    {
      "cell_type": "markdown",
      "metadata": {
        "id": "-EildO57xNAa"
      },
      "source": [
        "Since everything is an object and variables are pointers, Python becomes its beauty and slowness. Against slwoness there is the library NumPy. "
      ]
    },
    {
      "cell_type": "markdown",
      "metadata": {
        "id": "R7RPX5MwyMGD"
      },
      "source": [
        "# Python Operators"
      ]
    },
    {
      "cell_type": "markdown",
      "metadata": {
        "id": "GxcOnpIx0C_w"
      },
      "source": [
        "### Arithmetic operators"
      ]
    },
    {
      "cell_type": "code",
      "metadata": {
        "id": "njo0-N1zyQhc"
      },
      "source": [
        "# Python arithmetic operators\n",
        "# addition, subtraction, multiplication\n",
        "\n",
        "# True division\n",
        "\n",
        "# Floor division\n",
        "\n",
        "# Modulus\n",
        "\n",
        "# Exponentation\n",
        "\n",
        "\n"
      ],
      "execution_count": 7,
      "outputs": []
    },
    {
      "cell_type": "markdown",
      "metadata": {
        "id": "JcqJGJEMzyLA"
      },
      "source": [
        "There are also bitwise operators. These are rarely used and you can looked them up if you think you need them."
      ]
    },
    {
      "cell_type": "markdown",
      "metadata": {
        "id": "bzIQISck0KfO"
      },
      "source": [
        "### Assignment operators"
      ]
    },
    {
      "cell_type": "code",
      "metadata": {
        "id": "O6tB-XpA0AoM"
      },
      "source": [
        ""
      ],
      "execution_count": 7,
      "outputs": []
    },
    {
      "cell_type": "markdown",
      "metadata": {
        "id": "O_NcxVXu1-iJ"
      },
      "source": [
        "### Comparison operators"
      ]
    },
    {
      "cell_type": "code",
      "metadata": {
        "id": "TtBl0NO82ODI"
      },
      "source": [
        ""
      ],
      "execution_count": 7,
      "outputs": []
    },
    {
      "cell_type": "markdown",
      "metadata": {
        "id": "LxyrMMXGnmlC"
      },
      "source": [
        "<!--NAVIGATION-->\n",
        "< [How to Run Python Code](01-How-to-Run-Python-Code.ipynb) | [Contents](Index.ipynb) | [Basic Python Semantics: Variables and Objects](03-Semantics-Variables.ipynb) >"
      ]
    },
    {
      "cell_type": "markdown",
      "metadata": {
        "id": "T1xRnGRm3NhL"
      },
      "source": [
        "### Boolean operators\n",
        "\n",
        "and, or, not, xor"
      ]
    },
    {
      "cell_type": "code",
      "metadata": {
        "id": "N81Fdidx3RL3"
      },
      "source": [
        ""
      ],
      "execution_count": 7,
      "outputs": []
    },
    {
      "cell_type": "code",
      "metadata": {
        "id": "YQ-d1kDi3qTr"
      },
      "source": [
        ""
      ],
      "execution_count": null,
      "outputs": []
    },
    {
      "cell_type": "markdown",
      "metadata": {
        "id": "Ca8MDA3q3_50"
      },
      "source": [
        "### Identity and Membership Operators"
      ]
    },
    {
      "cell_type": "markdown",
      "metadata": {
        "id": "JvqCnRnb4Ogq"
      },
      "source": [
        "is, is not, in, not in"
      ]
    },
    {
      "cell_type": "code",
      "metadata": {
        "id": "PaTNlA1j4HPo"
      },
      "source": [
        "\n"
      ],
      "execution_count": 7,
      "outputs": []
    },
    {
      "cell_type": "code",
      "metadata": {
        "id": "PgEmp4wb4dA6"
      },
      "source": [
        ""
      ],
      "execution_count": null,
      "outputs": []
    },
    {
      "cell_type": "markdown",
      "metadata": {
        "id": "Az_lm8r85NNs"
      },
      "source": [
        "# Python Built-In Types"
      ]
    },
    {
      "cell_type": "markdown",
      "metadata": {
        "id": "wviVbNfM5aIl"
      },
      "source": [
        "A computer needs to now the data type, i.e. the representation, in order to do calculations. So every computer langueage has built-in types. In Python the simple, in contrast to compund types (data structures), are summarized in the following table:\n",
        "\n",
        "<center>**Python Scalar Types**</center>\n",
        "\n",
        "| Type        | Example        | Description                                                  |\n",
        "|-------------|----------------|--------------------------------------------------------------|\n",
        "| ``int``     | ``x = 1``      | integers (i.e., whole numbers)                               |\n",
        "| ``float``   | ``x = 1.0``    | floating-point numbers (i.e., real numbers)                  |\n",
        "| ``complex`` | ``x = 1 + 2j`` | Complex numbers (i.e., numbers with real and imaginary part) |\n",
        "| ``bool``    | ``x = True``   | Boolean: True/False values                                   |\n",
        "| ``str``     | ``x = 'abc'``  | String: characters or text                                   |\n",
        "| ``NoneType``| ``x = None``   | Special object indicating nulls                              |\n",
        "\n"
      ]
    },
    {
      "cell_type": "code",
      "metadata": {
        "id": "IXnw-EOs5S-L"
      },
      "source": [
        "# Integer\n",
        "\n",
        "# Float (real numbers)\n",
        "\n",
        "         # Exponential notation - 6 times ten to the minus 4\n",
        "# Complex\n"
      ],
      "execution_count": 8,
      "outputs": []
    },
    {
      "cell_type": "code",
      "metadata": {
        "id": "Mu_1mNvrBzVv"
      },
      "source": [
        "# String\n",
        "\n",
        "\n",
        "# There are attributes and many methods for string objects. Some examples:\n"
      ],
      "execution_count": 9,
      "outputs": []
    },
    {
      "cell_type": "markdown",
      "metadata": {
        "id": "MNZ0hrJmDY3A"
      },
      "source": [
        "There is also a None type which has the value 'None' and a Boolean type. If you should encounter then, look them up."
      ]
    },
    {
      "cell_type": "markdown",
      "metadata": {
        "id": "HM2zv2J3Dn77"
      },
      "source": [
        "# Built-In Data Structures"
      ]
    },
    {
      "cell_type": "markdown",
      "metadata": {
        "id": "_CR2GA0BEVGk"
      },
      "source": [
        "Python also has several built-in compound types, which act as containers for other types.\n",
        "These compound types are:\n",
        "\n",
        "| Type Name | Example                   |Description                            |\n",
        "|-----------|---------------------------|---------------------------------------|\n",
        "| ``list``  | ``[1, 2, 3]``             | Ordered collection                    |\n",
        "| ``tuple`` | ``(1, 2, 3)``             | Immutable ordered collection          |\n",
        "| ``dict``  | ``{'a':1, 'b':2, 'c':3}`` | Unordered (key,value) mapping         |\n",
        "| ``set``   | ``{1, 2, 3}``             | Unordered collection of unique values |\n",
        "\n",
        "As you can see, round, square, and curly brackets have distinct meanings when it comes to the type of collection produced.\n",
        "We'll take a quick tour of these data structures here."
      ]
    },
    {
      "cell_type": "code",
      "metadata": {
        "id": "c-rL0WU0A8Zt"
      },
      "source": [
        "# Lists with some built-in methods\n"
      ],
      "execution_count": 10,
      "outputs": []
    },
    {
      "cell_type": "code",
      "metadata": {
        "id": "tk70jf5YFeLB"
      },
      "source": [
        "# Indexing and slicing on lists\n"
      ],
      "execution_count": 11,
      "outputs": []
    },
    {
      "cell_type": "code",
      "metadata": {
        "id": "_iL52nNeGgqS"
      },
      "source": [
        "# Tuples are like lists, but cannot be changed once defined\n",
        "     # t = 2,3,5,7,11 also works\n",
        " # Not allowed"
      ],
      "execution_count": 12,
      "outputs": []
    },
    {
      "cell_type": "code",
      "metadata": {
        "id": "QTasitpgH5eT"
      },
      "source": [
        "# Dictionaries are like a normal language dictionaries, there is a key word (car) for look up and a value, e.g. what is it in German (Auto).\n"
      ],
      "execution_count": 13,
      "outputs": []
    },
    {
      "cell_type": "markdown",
      "metadata": {
        "id": "EpGiUL5qJiVW"
      },
      "source": [
        "The [python documentation](https://docs.python.org/3/library/stdtypes.html) has a complete list of the methods available for dictionaries."
      ]
    },
    {
      "cell_type": "code",
      "metadata": {
        "colab": {
          "base_uri": "https://localhost:8080/"
        },
        "id": "Zgdqk6NoJDBu",
        "outputId": "2a50ef69-04b8-4638-fd4c-369fd0cbc078"
      },
      "source": [
        "# Sets are much like tuples and you can to set mathematics with them (not so often needed by medical researchers)\n"
      ],
      "execution_count": null,
      "outputs": [
        {
          "output_type": "execute_result",
          "data": {
            "text/plain": [
              "{1, 2, 3, 5, 7, 9}"
            ]
          },
          "metadata": {},
          "execution_count": 25
        }
      ]
    },
    {
      "cell_type": "code",
      "metadata": {
        "id": "sl37O-vmKSQ3"
      },
      "source": [
        "# Sometimes you need to start with an empty data structure. You create them like this:\n"
      ],
      "execution_count": 14,
      "outputs": []
    },
    {
      "cell_type": "markdown",
      "metadata": {
        "id": "TfVDNuVGKvs7"
      },
      "source": [
        "## More Specialized Data Structures\n",
        "\n",
        "Python contains several other data structures that you might find useful; these can generally be found in the built-in ``collections`` module.\n",
        "The collections module is fully-documented in [Python's online documentation](https://docs.python.org/3/library/collections.html), and you can read more about the various objects available there.\n",
        "\n",
        "In particular, I've found the following very useful on occasion:\n",
        "\n",
        "- ``collections.namedtuple``: Like a tuple, but each value has a name\n",
        "- ``collections.defaultdict``: Like a dictionary, but unspecified keys have a user-specified default value\n",
        "- ``collections.OrderedDict``: Like a dictionary, but the order of keys is maintained\n",
        "\n",
        "Once you've seen the standard built-in collection types, the use of these extended functionalities is very intuitive, and I'd suggest [reading about their use](https://docs.python.org/3/library/collections.html)."
      ]
    },
    {
      "cell_type": "markdown",
      "metadata": {
        "id": "qt67raTnLGeA"
      },
      "source": [
        "## The ``del`` statement\n",
        "\n",
        "The syntax of the ``del`` statement is:\n",
        "\n",
        "``del object_name``,\n",
        "\n",
        "where ``object_name`` can be variable(s), user-defined objects (also classes, attributes of classes), lists, items within lists, dictionaries etc.\n",
        "\n",
        "### ``del`` removes variable names from the namespace\n",
        "As a result of using del one can free up for example some variable names from the namespace. This command doesn't necessarily affect the object associated to the variable name, it frees up just the pointer (so that it can be used for other purposes maybe). However in some memory intensive applications it might be also used to prepare the objects to be erased by the garbage collector of Python."
      ]
    },
    {
      "cell_type": "markdown",
      "metadata": {
        "id": "7bFEZGYaTxuE"
      },
      "source": [
        "## Creating custom data structures\n",
        "\n",
        "Many times we would like to handle data of a specific structure, for example we want to keep track of students of a class or clients of a business. For this purpose one can create custom data structures, this can be achieved by the ``class`` statement. To see a short introduction into classes consult [this link](https://www.mikedane.com/programming-languages/python/classes-objects/). A handy use case for classes can be found [here](https://www.mikedane.com/programming-languages/python/building-a-quiz/)."
      ]
    },
    {
      "cell_type": "code",
      "metadata": {
        "id": "bQ_6CPCULCRO"
      },
      "source": [
        ""
      ],
      "execution_count": null,
      "outputs": []
    }
  ]
}