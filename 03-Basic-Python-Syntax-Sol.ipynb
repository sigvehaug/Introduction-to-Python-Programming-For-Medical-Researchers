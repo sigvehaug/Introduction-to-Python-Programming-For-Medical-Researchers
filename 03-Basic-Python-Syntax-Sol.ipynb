{
  "nbformat": 4,
  "nbformat_minor": 0,
  "metadata": {
    "anaconda-cloud": {},
    "kernelspec": {
      "display_name": "Python 3",
      "language": "python",
      "name": "python3"
    },
    "language_info": {
      "codemirror_mode": {
        "name": "ipython",
        "version": 3
      },
      "file_extension": ".py",
      "mimetype": "text/x-python",
      "name": "python",
      "nbconvert_exporter": "python",
      "pygments_lexer": "ipython3",
      "version": "3.6.8"
    },
    "colab": {
      "name": "03-Basic-Python-Syntax-Sol.ipynb",
      "provenance": [],
      "include_colab_link": true
    }
  },
  "cells": [
    {
      "cell_type": "markdown",
      "metadata": {
        "id": "view-in-github",
        "colab_type": "text"
      },
      "source": [
        "<a href=\"https://colab.research.google.com/github/sigvehaug/Introduction-to-Python-for-Medical-Researchers/blob/master/03-Basic-Python-Syntax-Sol.ipynb\" target=\"_parent\"><img src=\"https://colab.research.google.com/assets/colab-badge.svg\" alt=\"Open In Colab\"/></a>"
      ]
    },
    {
      "cell_type": "markdown",
      "metadata": {
        "id": "GbB2F0nUnmkv"
      },
      "source": [
        "<!--BOOK_INFORMATION-->\n",
        "<img align=\"left\" style=\"padding-right:10px;\" src=\"https://github.com/sigvehaug/Introduction-to-Python-Programming-For-Medical-Researchers/blob/master/cover-small.jpg?raw=1\">\n",
        "\n",
        "*This notebook contains an excerpt from the [Whirlwind Tour of Python](http://www.oreilly.com/programming/free/a-whirlwind-tour-of-python.csp) by Jake VanderPlas; the content is available [on GitHub](https://github.com/jakevdp/WhirlwindTourOfPython).*\n",
        "\n",
        "*The text and code are released under the [CC0](https://github.com/jakevdp/WhirlwindTourOfPython/blob/master/LICENSE) license; see also the companion project, the [Python Data Science Handbook](https://github.com/jakevdp/PythonDataScienceHandbook).*\n"
      ]
    },
    {
      "cell_type": "markdown",
      "metadata": {
        "id": "rzrzHykrUoFO"
      },
      "source": [
        "Introduction to Python Programming for Medical Researchers, 2021-09-06, University of Bern, Sigve Haug"
      ]
    },
    {
      "cell_type": "markdown",
      "metadata": {
        "id": "cpigRldCUqre"
      },
      "source": [
        "# Basic Python (60 min)\n",
        "\n",
        "This notebook is a systematic and very condenced overview of\n",
        "- Python Syntax\n",
        "- Python Semantics\n",
        "- Python Operators\n",
        "- Python Data Types (Built-In)\n",
        "- Python Data Structures (Built-In)\n",
        "\n",
        "The content is basic and belongs to necessary knowledge by any Python programmers. One does not learn it by heart, however, after some hours of practicing Python, it automatically becomes active knowledge.\n",
        "\n",
        "It corresponds to the first six chapters of the book referenced above. There you may get more detailed descriptions."
      ]
    },
    {
      "cell_type": "markdown",
      "metadata": {
        "id": "7o5d-zXknmk0"
      },
      "source": [
        "# Python Language Syntax"
      ]
    },
    {
      "cell_type": "code",
      "metadata": {
        "id": "6yvQawUpn-2u"
      },
      "source": [
        "# Comments start with a #. They can also come after the code on the same line\n",
        "print('Hello') # Write Hello "
      ],
      "execution_count": null,
      "outputs": []
    },
    {
      "cell_type": "code",
      "metadata": {
        "colab": {
          "base_uri": "https://localhost:8080/"
        },
        "id": "tOcDxEO4oSjf",
        "outputId": "a3d27ea3-1bbb-4894-9d76-19dcb7259670"
      },
      "source": [
        "# Multiline commands can be written with backslash \\ or ()\n",
        "\n",
        "sum = 2 + 3 + 5 \\\n",
        "      - 5*2\n",
        "print(sum)\n",
        "sum = (2 + 3 + 5\n",
        "      - 5*2)\n",
        "print(sum)"
      ],
      "execution_count": null,
      "outputs": [
        {
          "output_type": "stream",
          "name": "stdout",
          "text": [
            "0\n",
            "0\n"
          ]
        }
      ]
    },
    {
      "cell_type": "code",
      "metadata": {
        "colab": {
          "base_uri": "https://localhost:8080/"
        },
        "id": "gclk2kU9pP1F",
        "outputId": "7d4398e2-9751-49fb-dbc8-111e1149d38a"
      },
      "source": [
        "# One may write multiple statements on one line by separating with ;\n",
        "x=5; y=6; print(x-y)"
      ],
      "execution_count": null,
      "outputs": [
        {
          "output_type": "stream",
          "name": "stdout",
          "text": [
            "-1\n"
          ]
        }
      ]
    },
    {
      "cell_type": "code",
      "metadata": {
        "colab": {
          "base_uri": "https://localhost:8080/"
        },
        "id": "3Jj0aXlHpv-c",
        "outputId": "02b5e2ab-bc19-458d-8c01-daf58db580bf"
      },
      "source": [
        "# Codeblocks are indicated by intendation and :\n",
        "for i in range(3):\n",
        "  sum+=i\n",
        "print(sum) # Note that Python starts counting at 0"
      ],
      "execution_count": null,
      "outputs": [
        {
          "output_type": "stream",
          "name": "stdout",
          "text": [
            "3\n"
          ]
        }
      ]
    },
    {
      "cell_type": "code",
      "metadata": {
        "colab": {
          "base_uri": "https://localhost:8080/"
        },
        "id": "_xJAPCu3qd7n",
        "outputId": "24e3fa17-4233-4e08-ab31-8a418512e765"
      },
      "source": [
        "# Parentheses () Are for Grouping or Calling\n",
        "y = 2 * (3+4) # Grouping\n",
        "print(y) # Calling\n",
        "L = [4,2,3,1]\n",
        "L.sort()  # Calling\n",
        "print(L) # Calling\n"
      ],
      "execution_count": null,
      "outputs": [
        {
          "output_type": "stream",
          "name": "stdout",
          "text": [
            "14\n",
            "[1, 2, 3, 4]\n"
          ]
        }
      ]
    },
    {
      "cell_type": "markdown",
      "metadata": {
        "id": "lK-q9bm8nmlC"
      },
      "source": [
        "## Finishing Up on the Syntax and Learning More\n",
        "\n",
        "This has been a very brief exploration of the essential features of Python syntax; its purpose is to give you a good frame of reference for when you're reading the code in later sections.\n",
        "Several times we've mentioned Python \"style guides\", which can help teams to write code in a consistent style.\n",
        "The most widely used style guide in Python is known as PEP8, and can be found at https://www.python.org/dev/peps/pep-0008/.\n",
        "As you begin to write more Python code, it would be useful to read through this!\n",
        "The style suggestions contain the wisdom of many Python gurus, and most suggestions go beyond simple pedantry: they are experience-based recommendations that can help avoid subtle mistakes and bugs in your code."
      ]
    },
    {
      "cell_type": "markdown",
      "metadata": {
        "id": "TZ3BVJjMrd6Q"
      },
      "source": [
        "#Python Semantics - Variables and Objects\n"
      ]
    },
    {
      "cell_type": "markdown",
      "metadata": {
        "id": "pPERC7iCwJwp"
      },
      "source": [
        "In Python data type declaration on variables is not needed. It has dynamic typing."
      ]
    },
    {
      "cell_type": "code",
      "metadata": {
        "id": "9yuRI1lnuTrX",
        "colab": {
          "base_uri": "https://localhost:8080/"
        },
        "outputId": "9a94cb26-52aa-46cd-96ee-2d862f5fd67d"
      },
      "source": [
        "# Assignment by =\n",
        "my_variable = 5; print(type(my_variable))\n",
        "my_variable = 5.0; print(type(my_variable))\n"
      ],
      "execution_count": null,
      "outputs": [
        {
          "output_type": "stream",
          "name": "stdout",
          "text": [
            "<class 'int'>\n",
            "<class 'float'>\n"
          ]
        }
      ]
    },
    {
      "cell_type": "markdown",
      "metadata": {
        "id": "s5fGC5Eburr_"
      },
      "source": [
        "In Python variables are pointers, i.e. they point to the memory buckets with the actual values. \n",
        "\n",
        "In Python everything is an object, it contains not only the value, but also attributes and methods. Methods are invoked by the dot."
      ]
    },
    {
      "cell_type": "code",
      "metadata": {
        "id": "xj-ENQ2IufWS",
        "colab": {
          "base_uri": "https://localhost:8080/"
        },
        "outputId": "79c53319-c9a0-4330-cb05-9524b313b0ee"
      },
      "source": [
        "x = 5.1\n",
        "print(x.is_integer(), x.real, '+',x.imag) # A method and two attributes"
      ],
      "execution_count": null,
      "outputs": [
        {
          "output_type": "stream",
          "name": "stdout",
          "text": [
            "False 5.1 + 0.0\n"
          ]
        }
      ]
    },
    {
      "cell_type": "markdown",
      "metadata": {
        "id": "-EildO57xNAa"
      },
      "source": [
        "Since everything is an object and variables are pointers, Python becomes its beauty and slowness. Against slwoness there is the library NumPy. "
      ]
    },
    {
      "cell_type": "markdown",
      "metadata": {
        "id": "R7RPX5MwyMGD"
      },
      "source": [
        "# Python Operators"
      ]
    },
    {
      "cell_type": "markdown",
      "metadata": {
        "id": "GxcOnpIx0C_w"
      },
      "source": [
        "### Arithmetic operators"
      ]
    },
    {
      "cell_type": "code",
      "metadata": {
        "id": "njo0-N1zyQhc",
        "colab": {
          "base_uri": "https://localhost:8080/"
        },
        "outputId": "52afa697-a12d-4bf1-e552-ee5987241569"
      },
      "source": [
        "# Python arithmetic operators\n",
        "# addition, subtraction, multiplication\n",
        "print((4 + 8) * (6.5 - 3))\n",
        "# True division\n",
        "print(11 / 2)\n",
        "# Floor division\n",
        "print(11 // 2)\n",
        "# Modulus\n",
        "print(11 % 2)\n",
        "# Exponentation\n",
        "print(4 ** 0.5)\n",
        "\n"
      ],
      "execution_count": null,
      "outputs": [
        {
          "output_type": "stream",
          "name": "stdout",
          "text": [
            "42.0\n",
            "5.5\n",
            "5\n",
            "1\n",
            "2.0\n"
          ]
        }
      ]
    },
    {
      "cell_type": "markdown",
      "metadata": {
        "id": "JcqJGJEMzyLA"
      },
      "source": [
        "There are also bitwise operators. These are rarely used and you can looked them up if you think you need them."
      ]
    },
    {
      "cell_type": "markdown",
      "metadata": {
        "id": "bzIQISck0KfO"
      },
      "source": [
        "### Assignment operators"
      ]
    },
    {
      "cell_type": "code",
      "metadata": {
        "id": "O6tB-XpA0AoM",
        "colab": {
          "base_uri": "https://localhost:8080/"
        },
        "outputId": "bccf4a83-d756-47c5-a33d-1169c58476ad"
      },
      "source": [
        "x = 2; x += 2; print(x)\n",
        "x *= 2; print(x)\n",
        "print('etc')"
      ],
      "execution_count": null,
      "outputs": [
        {
          "output_type": "stream",
          "name": "stdout",
          "text": [
            "4\n",
            "8\n",
            "etc\n"
          ]
        }
      ]
    },
    {
      "cell_type": "markdown",
      "metadata": {
        "id": "O_NcxVXu1-iJ"
      },
      "source": [
        "### Comparison operators"
      ]
    },
    {
      "cell_type": "code",
      "metadata": {
        "id": "TtBl0NO82ODI",
        "colab": {
          "base_uri": "https://localhost:8080/"
        },
        "outputId": "ece793ab-d3c2-4128-ebe5-e729189dfc4c"
      },
      "source": [
        "print(4 == 6); print(4 != 6); print(4<6); print(4>6); print(4<=6); print(4>=6)"
      ],
      "execution_count": null,
      "outputs": [
        {
          "output_type": "stream",
          "name": "stdout",
          "text": [
            "False\n",
            "True\n",
            "True\n",
            "False\n",
            "True\n",
            "False\n"
          ]
        }
      ]
    },
    {
      "cell_type": "markdown",
      "metadata": {
        "id": "LxyrMMXGnmlC"
      },
      "source": [
        "<!--NAVIGATION-->\n",
        "< [How to Run Python Code](01-How-to-Run-Python-Code.ipynb) | [Contents](Index.ipynb) | [Basic Python Semantics: Variables and Objects](03-Semantics-Variables.ipynb) >"
      ]
    },
    {
      "cell_type": "markdown",
      "metadata": {
        "id": "T1xRnGRm3NhL"
      },
      "source": [
        "### Boolean operators\n",
        "\n",
        "and, or, not, xor"
      ]
    },
    {
      "cell_type": "code",
      "metadata": {
        "id": "N81Fdidx3RL3",
        "colab": {
          "base_uri": "https://localhost:8080/"
        },
        "outputId": "7c832911-3526-4ffc-823c-689c0cfc6647"
      },
      "source": [
        "x = 4\n",
        "print((x < 6) and (x > 2))\n",
        "print((x > 10) or (x % 2 == 0))\n",
        "print(not (x < 6))\n",
        "# (x > 1) xor (x < 10)\n",
        "print((x > 1) != (x < 10))"
      ],
      "execution_count": null,
      "outputs": [
        {
          "output_type": "stream",
          "name": "stdout",
          "text": [
            "True\n",
            "True\n",
            "False\n",
            "False\n"
          ]
        }
      ]
    },
    {
      "cell_type": "code",
      "metadata": {
        "id": "YQ-d1kDi3qTr"
      },
      "source": [
        ""
      ],
      "execution_count": null,
      "outputs": []
    },
    {
      "cell_type": "markdown",
      "metadata": {
        "id": "Ca8MDA3q3_50"
      },
      "source": [
        "### Identity and Membership Operators"
      ]
    },
    {
      "cell_type": "markdown",
      "metadata": {
        "id": "JvqCnRnb4Ogq"
      },
      "source": [
        "is, is not, in, not in"
      ]
    },
    {
      "cell_type": "code",
      "metadata": {
        "id": "PaTNlA1j4HPo",
        "colab": {
          "base_uri": "https://localhost:8080/"
        },
        "outputId": "8ef86f19-b382-447a-e68f-adb9957f8c6b"
      },
      "source": [
        "print(1 is 2)\n",
        "print(1 is 1)\n",
        "print(1 in [1, 2, 3])\n",
        "print(2 not in [1, 2, 3])\n",
        "\n"
      ],
      "execution_count": null,
      "outputs": [
        {
          "output_type": "stream",
          "name": "stdout",
          "text": [
            "False\n",
            "True\n",
            "True\n",
            "False\n"
          ]
        }
      ]
    },
    {
      "cell_type": "code",
      "metadata": {
        "id": "PgEmp4wb4dA6"
      },
      "source": [
        ""
      ],
      "execution_count": null,
      "outputs": []
    },
    {
      "cell_type": "markdown",
      "metadata": {
        "id": "Az_lm8r85NNs"
      },
      "source": [
        "# Python Built-In Types"
      ]
    },
    {
      "cell_type": "markdown",
      "metadata": {
        "id": "wviVbNfM5aIl"
      },
      "source": [
        "A computer needs to now the data type, i.e. the representation, in order to do calculations. So every computer langueage has built-in types. In Python the simple, in contrast to compund types (data structures), are summarized in the following table:\n",
        "\n",
        "<center>**Python Scalar Types**</center>\n",
        "\n",
        "| Type        | Example        | Description                                                  |\n",
        "|-------------|----------------|--------------------------------------------------------------|\n",
        "| ``int``     | ``x = 1``      | integers (i.e., whole numbers)                               |\n",
        "| ``float``   | ``x = 1.0``    | floating-point numbers (i.e., real numbers)                  |\n",
        "| ``complex`` | ``x = 1 + 2j`` | Complex numbers (i.e., numbers with real and imaginary part) |\n",
        "| ``bool``    | ``x = True``   | Boolean: True/False values                                   |\n",
        "| ``str``     | ``x = 'abc'``  | String: characters or text                                   |\n",
        "| ``NoneType``| ``x = None``   | Special object indicating nulls                              |\n",
        "\n"
      ]
    },
    {
      "cell_type": "code",
      "metadata": {
        "id": "IXnw-EOs5S-L",
        "colab": {
          "base_uri": "https://localhost:8080/"
        },
        "outputId": "3a8a99ac-d26f-4391-f101-56bf26dbeff7"
      },
      "source": [
        "# Integer\n",
        "x = -3; print(type(x))\n",
        "# Float (real numbers)\n",
        "y1 = 5.3; print(type(y1))\n",
        "y2 = 6e-4; print(y2)          # Exponential notation - 6 times ten to the minus 4\n",
        "# Complex\n",
        "c = 2 + 3j; print(c.real, c.imag)"
      ],
      "execution_count": null,
      "outputs": [
        {
          "output_type": "stream",
          "name": "stdout",
          "text": [
            "<class 'int'>\n",
            "<class 'float'>\n",
            "0.0006\n",
            "2.0 3.0\n"
          ]
        }
      ]
    },
    {
      "cell_type": "code",
      "metadata": {
        "colab": {
          "base_uri": "https://localhost:8080/"
        },
        "id": "Mu_1mNvrBzVv",
        "outputId": "b2f8dbd5-f74e-4ae3-b6e8-d2c17ca17fc4"
      },
      "source": [
        "# String\n",
        "message = 'Hi Bern. We are happy.'\n",
        "print(message)\n",
        "# There are attributes and many methods for string objects. Some examples:\n",
        "print(len(message), message.upper())\n",
        "response = 'Nice'\n",
        "print(message,' ',response)\n",
        "print(message[3:6])"
      ],
      "execution_count": null,
      "outputs": [
        {
          "output_type": "stream",
          "name": "stdout",
          "text": [
            "Hi Bern. We are happy.\n",
            "22 HI BERN. WE ARE HAPPY.\n",
            "Hi Bern. We are happy.   Nice\n",
            "Ber\n"
          ]
        }
      ]
    },
    {
      "cell_type": "markdown",
      "metadata": {
        "id": "MNZ0hrJmDY3A"
      },
      "source": [
        "There is also a None type which has the value 'None' and a Boolean type. If you should encounter then, look them up."
      ]
    },
    {
      "cell_type": "markdown",
      "metadata": {
        "id": "HM2zv2J3Dn77"
      },
      "source": [
        "# Built-In Data Structures"
      ]
    },
    {
      "cell_type": "markdown",
      "metadata": {
        "id": "_CR2GA0BEVGk"
      },
      "source": [
        "Python also has several built-in compound types, which act as containers for other types.\n",
        "These compound types are:\n",
        "\n",
        "| Type Name | Example                   |Description                            |\n",
        "|-----------|---------------------------|---------------------------------------|\n",
        "| ``list``  | ``[1, 2, 3]``             | Ordered collection                    |\n",
        "| ``tuple`` | ``(1, 2, 3)``             | Immutable ordered collection          |\n",
        "| ``dict``  | ``{'a':1, 'b':2, 'c':3}`` | Unordered (key,value) mapping         |\n",
        "| ``set``   | ``{1, 2, 3}``             | Unordered collection of unique values |\n",
        "\n",
        "As you can see, round, square, and curly brackets have distinct meanings when it comes to the type of collection produced.\n",
        "We'll take a quick tour of these data structures here."
      ]
    },
    {
      "cell_type": "code",
      "metadata": {
        "colab": {
          "base_uri": "https://localhost:8080/"
        },
        "id": "c-rL0WU0A8Zt",
        "outputId": "6ea2784d-4fcf-401a-862c-882eecd22eec"
      },
      "source": [
        "# Lists with some built-in methods\n",
        "L = [2, 3, 5, 7]\n",
        "print(len(L))\n",
        "L.append(11); print(L)\n",
        "print(L + [13, 17, 19])\n",
        "L = [2, 5, 1, 6, 3, 4]\n",
        "L.sort()\n",
        "print(L)\n",
        "L = [1, 'two', 3.14, [0, 3, 5]] # Lists can contain various objects\n",
        "print(L)"
      ],
      "execution_count": null,
      "outputs": [
        {
          "output_type": "stream",
          "name": "stdout",
          "text": [
            "4\n",
            "[2, 3, 5, 7, 11]\n",
            "[2, 3, 5, 7, 11, 13, 17, 19]\n",
            "[1, 2, 3, 4, 5, 6]\n",
            "[1, 'two', 3.14, [0, 3, 5]]\n"
          ]
        }
      ]
    },
    {
      "cell_type": "code",
      "metadata": {
        "colab": {
          "base_uri": "https://localhost:8080/"
        },
        "id": "tk70jf5YFeLB",
        "outputId": "ff0d001a-d035-43cc-d538-7e368114e154"
      },
      "source": [
        "# Indexing and slicing on lists\n",
        "L=[2,4,5,'sigve']\n",
        "print(L[0], L[len(L)-1], L[-1]) # Indexing\n",
        "print(L[2:4]) # Sclicing\n",
        "print(L[3:], L[:],L[0:-1:2],L[::-1]) # The third argument is the step size\n"
      ],
      "execution_count": null,
      "outputs": [
        {
          "output_type": "stream",
          "name": "stdout",
          "text": [
            "2 sigve sigve\n",
            "[5, 'sigve']\n",
            "['sigve'] [2, 4, 5, 'sigve'] [2, 5] ['sigve', 5, 4, 2]\n"
          ]
        }
      ]
    },
    {
      "cell_type": "code",
      "metadata": {
        "colab": {
          "base_uri": "https://localhost:8080/",
          "height": 203
        },
        "id": "_iL52nNeGgqS",
        "outputId": "ea84219e-22d2-44a6-c913-f9927984e9dc"
      },
      "source": [
        "# Tuples are like lists, but cannot be changed once defined\n",
        "t = (2, 3, 5, 7, 11)     # t = 2,3,5,7,11 also works\n",
        "t[0] = 3 # Not allowed"
      ],
      "execution_count": null,
      "outputs": [
        {
          "output_type": "error",
          "ename": "TypeError",
          "evalue": "ignored",
          "traceback": [
            "\u001b[0;31m---------------------------------------------------------------------------\u001b[0m",
            "\u001b[0;31mTypeError\u001b[0m                                 Traceback (most recent call last)",
            "\u001b[0;32m<ipython-input-24-ac35c5a3e8f0>\u001b[0m in \u001b[0;36m<module>\u001b[0;34m()\u001b[0m\n\u001b[1;32m      1\u001b[0m \u001b[0;31m# Tuples are like lists, but cannot be changed once defined\u001b[0m\u001b[0;34m\u001b[0m\u001b[0;34m\u001b[0m\u001b[0;34m\u001b[0m\u001b[0m\n\u001b[1;32m      2\u001b[0m \u001b[0mt\u001b[0m \u001b[0;34m=\u001b[0m \u001b[0;34m(\u001b[0m\u001b[0;36m2\u001b[0m\u001b[0;34m,\u001b[0m \u001b[0;36m3\u001b[0m\u001b[0;34m,\u001b[0m \u001b[0;36m5\u001b[0m\u001b[0;34m,\u001b[0m \u001b[0;36m7\u001b[0m\u001b[0;34m,\u001b[0m \u001b[0;36m11\u001b[0m\u001b[0;34m)\u001b[0m     \u001b[0;31m# t = 2,3,5,7,11 also works\u001b[0m\u001b[0;34m\u001b[0m\u001b[0;34m\u001b[0m\u001b[0m\n\u001b[0;32m----> 3\u001b[0;31m \u001b[0mt\u001b[0m\u001b[0;34m[\u001b[0m\u001b[0;36m0\u001b[0m\u001b[0;34m]\u001b[0m \u001b[0;34m=\u001b[0m \u001b[0;36m3\u001b[0m \u001b[0;31m# Not allowed\u001b[0m\u001b[0;34m\u001b[0m\u001b[0;34m\u001b[0m\u001b[0m\n\u001b[0m",
            "\u001b[0;31mTypeError\u001b[0m: 'tuple' object does not support item assignment"
          ]
        }
      ]
    },
    {
      "cell_type": "code",
      "metadata": {
        "colab": {
          "base_uri": "https://localhost:8080/",
          "height": 71
        },
        "id": "QTasitpgH5eT",
        "outputId": "837b6236-6a9a-40ac-a616-6a84844c0f22"
      },
      "source": [
        "# Dictionaries are like a normal language dictionaries, there is a key word (car) for look up and a value, e.g. what is it in German (Auto).\n",
        "numbers = {'one':1, 'two':2, 'three':3}\n",
        "print(numbers['two'])\n",
        "numbers['car']='Auto'\n",
        "print(numbers)\n",
        "numbers.get('car')"
      ],
      "execution_count": null,
      "outputs": [
        {
          "output_type": "stream",
          "name": "stdout",
          "text": [
            "2\n",
            "{'one': 1, 'two': 2, 'three': 3, 'car': 'Auto'}\n"
          ]
        },
        {
          "output_type": "execute_result",
          "data": {
            "application/vnd.google.colaboratory.intrinsic+json": {
              "type": "string"
            },
            "text/plain": [
              "'Auto'"
            ]
          },
          "metadata": {},
          "execution_count": 23
        }
      ]
    },
    {
      "cell_type": "markdown",
      "metadata": {
        "id": "EpGiUL5qJiVW"
      },
      "source": [
        "The [python documentation](https://docs.python.org/3/library/stdtypes.html) has a complete list of the methods available for dictionaries."
      ]
    },
    {
      "cell_type": "code",
      "metadata": {
        "colab": {
          "base_uri": "https://localhost:8080/"
        },
        "id": "Zgdqk6NoJDBu",
        "outputId": "2a50ef69-04b8-4638-fd4c-369fd0cbc078"
      },
      "source": [
        "# Sets are much like tuples and you can to set mathematics with them (not so often needed by medical researchers)\n",
        "primes = {2, 3, 5, 7}\n",
        "odds = {1, 3, 5, 7, 9}\n",
        "primes.union(odds)"
      ],
      "execution_count": null,
      "outputs": [
        {
          "output_type": "execute_result",
          "data": {
            "text/plain": [
              "{1, 2, 3, 5, 7, 9}"
            ]
          },
          "metadata": {},
          "execution_count": 25
        }
      ]
    },
    {
      "cell_type": "code",
      "metadata": {
        "colab": {
          "base_uri": "https://localhost:8080/"
        },
        "id": "sl37O-vmKSQ3",
        "outputId": "204d8a54-8620-4b63-aa76-8ae478b5682a"
      },
      "source": [
        "# Sometimes you need to start with an empty data structure. You create them like this:\n",
        "L=[]; t=(); dic={}\n",
        "print(L,t,dic)"
      ],
      "execution_count": null,
      "outputs": [
        {
          "output_type": "stream",
          "name": "stdout",
          "text": [
            "[] () {}\n"
          ]
        }
      ]
    },
    {
      "cell_type": "markdown",
      "metadata": {
        "id": "TfVDNuVGKvs7"
      },
      "source": [
        "## More Specialized Data Structures\n",
        "\n",
        "Python contains several other data structures that you might find useful; these can generally be found in the built-in ``collections`` module.\n",
        "The collections module is fully-documented in [Python's online documentation](https://docs.python.org/3/library/collections.html), and you can read more about the various objects available there.\n",
        "\n",
        "In particular, I've found the following very useful on occasion:\n",
        "\n",
        "- ``collections.namedtuple``: Like a tuple, but each value has a name\n",
        "- ``collections.defaultdict``: Like a dictionary, but unspecified keys have a user-specified default value\n",
        "- ``collections.OrderedDict``: Like a dictionary, but the order of keys is maintained\n",
        "\n",
        "Once you've seen the standard built-in collection types, the use of these extended functionalities is very intuitive, and I'd suggest [reading about their use](https://docs.python.org/3/library/collections.html)."
      ]
    },
    {
      "cell_type": "markdown",
      "metadata": {
        "id": "qt67raTnLGeA"
      },
      "source": [
        "## The ``del`` statement\n",
        "\n",
        "The syntax of the ``del`` statement is:\n",
        "\n",
        "``del object_name``,\n",
        "\n",
        "where ``object_name`` can be variable(s), user-defined objects (also classes, attributes of classes), lists, items within lists, dictionaries etc.\n",
        "\n",
        "### ``del`` removes variable names from the namespace\n",
        "As a result of using del one can free up for example some variable names from the namespace. This command doesn't necessarily affect the object associated to the variable name, it frees up just the pointer (so that it can be used for other purposes maybe). However in some memory intensive applications it might be also used to prepare the objects to be erased by the garbage collector of Python."
      ]
    },
    {
      "cell_type": "markdown",
      "metadata": {
        "id": "7bFEZGYaTxuE"
      },
      "source": [
        "## Creating custom data structures\n",
        "\n",
        "Many times we would like to handle data of a specific structure, for example we want to keep track of students of a class or clients of a business. For this purpose one can create custom data structures, this can be achieved by the ``class`` statement. To see a short introduction into classes consult [this link](https://www.mikedane.com/programming-languages/python/classes-objects/). A handy use case for classes can be found [here](https://www.mikedane.com/programming-languages/python/building-a-quiz/)."
      ]
    },
    {
      "cell_type": "code",
      "metadata": {
        "id": "bQ_6CPCULCRO"
      },
      "source": [
        ""
      ],
      "execution_count": null,
      "outputs": []
    }
  ]
}