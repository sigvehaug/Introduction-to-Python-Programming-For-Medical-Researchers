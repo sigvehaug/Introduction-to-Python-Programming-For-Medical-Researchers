{
  "nbformat": 4,
  "nbformat_minor": 0,
  "metadata": {
    "celltoolbar": "Slideshow",
    "kernelspec": {
      "display_name": "Python 3",
      "language": "python",
      "name": "python3"
    },
    "language_info": {
      "codemirror_mode": {
        "name": "ipython",
        "version": 3
      },
      "file_extension": ".py",
      "mimetype": "text/x-python",
      "name": "python",
      "nbconvert_exporter": "python",
      "pygments_lexer": "ipython3",
      "version": "3.6.10"
    },
    "colab": {
      "name": "PythonAndJupyter.ipynb",
      "provenance": [],
      "include_colab_link": true
    }
  },
  "cells": [
    {
      "cell_type": "markdown",
      "metadata": {
        "id": "view-in-github",
        "colab_type": "text"
      },
      "source": [
        "<a href=\"https://colab.research.google.com/github/sigvehaug/Introduction-to-Python-Programming-For-Medical-Researchers/blob/master/1-PythonAndJupyter.ipynb\" target=\"_parent\"><img src=\"https://colab.research.google.com/assets/colab-badge.svg\" alt=\"Open In Colab\"/></a>"
      ]
    },
    {
      "cell_type": "markdown",
      "metadata": {
        "id": "eWM_s5V7x7mg"
      },
      "source": [
        "Introduction to Python Programming for Medical Researchers, 2021-09-06, University of Bern, Sigve Haug\n"
      ]
    },
    {
      "cell_type": "markdown",
      "metadata": {
        "id": "zIyueUzWhrgR"
      },
      "source": [
        "# 1. Jupyter Notebooks and Python\n",
        "\n",
        "(Use 30 minutes to go through this notebook on colab)\n",
        "\n",
        "[Jupyter notebooks](https://en.wikipedia.org/wiki/Project_Jupyter) \n",
        "* is a browser based graphical interface\n",
        "* can execute Python (and other programming language) statements\n",
        "* can handle formatted text, maths equations (LaTeX)\n",
        "* can contain static or dynamic visualisations\n",
        "* connect to a running Python process (kernel) to execute Python code\n",
        "* is this\n",
        "\n",
        "Over the last years Jupyter notebooks have become popular for\n",
        "* data science and data analysis\n",
        "* teaching and presenting\n",
        "* publication of reproducible research\n",
        "* development of code\n",
        "\n",
        "Jupyter notebooks are not always the right tool. It is not optimal for\n",
        "* programming large software codes\n",
        "* running in production\n",
        "* automatisation \n",
        "* etc\n",
        "\n"
      ]
    },
    {
      "cell_type": "markdown",
      "metadata": {
        "id": "iOE-QtGXjueI"
      },
      "source": [
        "## Text and Code Cells\n",
        "\n",
        "A Jupyter notebook consists of text and code cells. Text cells are markdown cells, i.e. a very simple and easy format for producing simple but well rendered html (which webbrowser understand)."
      ]
    },
    {
      "cell_type": "markdown",
      "metadata": {
        "id": "SUrme7CukFif"
      },
      "source": [
        "### Text Cell Example\n",
        "\n",
        "Double click on this cell and add a picture, hyperlink and a bullet list."
      ]
    },
    {
      "cell_type": "markdown",
      "metadata": {
        "id": "bZheNPtFlV7r"
      },
      "source": [
        "### Code Cell Example "
      ]
    },
    {
      "cell_type": "code",
      "metadata": {
        "colab": {
          "base_uri": "https://localhost:8080/"
        },
        "id": "b10IDckBlNVC",
        "outputId": "0abf637a-773f-4a68-e593-d83b6e14112f"
      },
      "source": [
        "# Change and run/execute this first line of Python\n",
        "print('In Python # means a comment, i.e. a code line that is not executed')"
      ],
      "execution_count": 1,
      "outputs": [
        {
          "output_type": "stream",
          "name": "stdout",
          "text": [
            "In Python # means a comment, i.e. a code line that is not executed\n"
          ]
        }
      ]
    },
    {
      "cell_type": "markdown",
      "metadata": {
        "id": "LOfw4GWEl_c3"
      },
      "source": [
        "### The Menutabs\n",
        "\n",
        "* Use 5 minutes to study the menutabs (File, Edit, View etc). \n",
        "* Download this notebook to your computer\n",
        "* Rename the notebook and upload it to colab egain\n",
        "* If you have google drive, save a copy on google drive\n",
        "\n",
        "Any questions?"
      ]
    },
    {
      "cell_type": "markdown",
      "metadata": {
        "id": "sCOUxu5NqC7g"
      },
      "source": [
        "### Latex\n",
        "\n",
        "The Latex text formatting language is very good for texts with mathemathical formulas. Jupyter understands Latex math:\n",
        "$$\\mu = \\frac{1}{n} \\sum_i^n x_i$$"
      ]
    },
    {
      "cell_type": "markdown",
      "metadata": {
        "id": "gqRROYrSmxa3"
      },
      "source": [
        "### The Filename Extension and the Jupyter Name\n",
        "\n",
        "* The filename extension .ipynb stands for interactive python notebook\n",
        "* Jupyter is and abreviation for the three popular data science languages Julia, Python and R."
      ]
    },
    {
      "cell_type": "markdown",
      "metadata": {
        "id": "IrRoMikunfhH"
      },
      "source": [
        "### Colab versus other ways of running Jupyter Notebooks\n",
        "\n",
        "* [Colab](https://en.wikipedia.org/wiki/Colab) is a service offered by google and runs Jupyter notebooks. It is interfaced with google login, drive etc which makes it nice for sharing and coworking in the same environment. \n",
        "* You can install and run notebooks locally on your laptop. To do so you need to install it. It is recommended to install via the Anaconda platform.\n",
        "* There are also other cloud platforms for running Jupyter notebooks\n",
        "\n",
        "In this course we use colab and there is no need for you to install anything."
      ]
    },
    {
      "cell_type": "markdown",
      "metadata": {
        "id": "i2wTjT6tx7mp"
      },
      "source": [
        "# The Python Programming Language\n",
        "\n",
        "## Why Python?\n",
        "\n",
        "- open source\n",
        "- readable, writable user friendly code (Python fans say: \"beautiful\", \"intuitive\", \"fun\")\n",
        "- a big community contributes to its development and extension -> many frameworks and tools exist\n",
        "- widely used also among scientists for data analysis, machine learning\n",
        "- ...\n",
        "\n",
        "## Where is it used?\n",
        "- Instagram\n",
        "- Google (\"Python where we can, C++ where we must\")\n",
        "- Spotify, Netflix\n",
        "- Uber\n",
        "- Dropbox\n",
        "- Pinterest\n",
        "- ...\n"
      ]
    },
    {
      "cell_type": "markdown",
      "metadata": {
        "id": "T7N0jDYKx7mq"
      },
      "source": [
        "# The history of [Python](https://en.wikipedia.org/wiki/Python_(programming_language))\n",
        "\n",
        "[2018 Fellow Award Honoree Introduction](https://www.youtube.com/watch?v=cL_p6zrKQNU) (3 min 22 sec - 5 min)"
      ]
    },
    {
      "cell_type": "markdown",
      "metadata": {
        "id": "FvaHZeYLx7mx"
      },
      "source": [
        "# What is programming?\n",
        "\n",
        "“Programming is the act of instructing computers to carry out tasks.” By programming we tell computers to carry out sets of instructions, i.e. algorithms. We can relate programming already to many different fields of study in Computer Science, like\n",
        "- Robotics\n",
        "- Architecture\n",
        "- Graphics\n",
        "- Artificial Intelligence\n",
        "\n",
        "Some of these serve not just Computer Science anymore, but all other branches of science,\n",
        "- formal sciences\n",
        "- natural sciences (physical science and life science, e.g. **medicine**)\n",
        "- social sciences\n",
        "\n",
        "and we encounter them even in everyday applications."
      ]
    },
    {
      "cell_type": "code",
      "metadata": {
        "colab": {
          "base_uri": "https://localhost:8080/"
        },
        "id": "x-2y0jQgsyIJ",
        "outputId": "c6577337-9364-499a-cf1a-29ad57c889e2"
      },
      "source": [
        "# This is a Python code carrying out an algorithm which sums ob the natural number from 1 to 100. Play with it.\n",
        "sum = 0\n",
        "for i in range (1,100):\n",
        "  sum = sum + i\n",
        "print(sum) "
      ],
      "execution_count": 2,
      "outputs": [
        {
          "output_type": "stream",
          "name": "stdout",
          "text": [
            "4950\n"
          ]
        }
      ]
    },
    {
      "cell_type": "markdown",
      "metadata": {
        "id": "Ppm640Hutgmx"
      },
      "source": [
        "Now lets us proceed to an example showing a small data analysis for medicine. Please go to the next notebook !"
      ]
    }
  ]
}