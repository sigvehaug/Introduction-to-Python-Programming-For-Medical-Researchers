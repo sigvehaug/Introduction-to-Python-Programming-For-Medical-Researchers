{
  "nbformat": 4,
  "nbformat_minor": 0,
  "metadata": {
    "anaconda-cloud": {},
    "kernelspec": {
      "display_name": "Python 3",
      "language": "python",
      "name": "python3"
    },
    "language_info": {
      "codemirror_mode": {
        "name": "ipython",
        "version": 3
      },
      "file_extension": ".py",
      "mimetype": "text/x-python",
      "name": "python",
      "nbconvert_exporter": "python",
      "pygments_lexer": "ipython3",
      "version": "3.6.8"
    },
    "colab": {
      "name": "04-Exercise-1-Sol.ipynb",
      "provenance": [],
      "include_colab_link": true
    }
  },
  "cells": [
    {
      "cell_type": "markdown",
      "metadata": {
        "id": "view-in-github",
        "colab_type": "text"
      },
      "source": [
        "<a href=\"https://colab.research.google.com/github/sigvehaug/Introduction-to-Python-for-Medical-Researchers/blob/master/04-Exercise-1-Sol.ipynb\" target=\"_parent\"><img src=\"https://colab.research.google.com/assets/colab-badge.svg\" alt=\"Open In Colab\"/></a>"
      ]
    },
    {
      "cell_type": "markdown",
      "metadata": {
        "id": "rzrzHykrUoFO"
      },
      "source": [
        "Introduction to Python Programming for Medical Researchers, University of Bern, Sigve Haug"
      ]
    },
    {
      "cell_type": "markdown",
      "metadata": {
        "id": "cpigRldCUqre"
      },
      "source": [
        "# Exercise 1 - (30 min)\n",
        "\n",
        "**Task:** What is the the repsective average blood pressure of men over 70 and below 70 in the dataset provided in the example notebook?\n",
        "\n",
        "**Steps (copy and paste from the example)**\n",
        "\n",
        "- Read the dataset into a dataframe\n",
        "- Clean the dataset\n",
        "- Make a dataset containing only men over 70\n",
        "- Make a dataset containing only men below 70\n",
        "- Retrieve the means\n",
        "\n",
        "If you have time, do more things!\n",
        "\n",
        "---\n"
      ]
    },
    {
      "cell_type": "code",
      "metadata": {
        "id": "gagw2fOVeEqK"
      },
      "source": [
        "import pandas as pd\n",
        "url  = 'https://drive.google.com/uc?export=download&id=1d8x5ZSwa9Yn-8J8NxiygFDaoMO8PRNWc'\n",
        "data = pd.read_csv(url)"
      ],
      "execution_count": null,
      "outputs": []
    },
    {
      "cell_type": "code",
      "metadata": {
        "id": "DRyTB83-99Hg"
      },
      "source": [
        "pd.set_option('max_rows', None)"
      ],
      "execution_count": null,
      "outputs": []
    },
    {
      "cell_type": "code",
      "metadata": {
        "id": "2jIk5KRvpA7i"
      },
      "source": [
        "# Removing all rows without good blood pressure values\n",
        "clean_data = data.drop(data[data['BP_SYS']=='#NULL!'].index)\n",
        "clean_data = data.drop(data[data['BP_DIA']=='#NULL!'].index)\n",
        "\n"
      ],
      "execution_count": null,
      "outputs": []
    },
    {
      "cell_type": "code",
      "metadata": {
        "colab": {
          "base_uri": "https://localhost:8080/"
        },
        "id": "RqsZxT56-TNW",
        "outputId": "3e31ce97-2db2-4286-87a6-20790a246765"
      },
      "source": [
        "clean_data.info()"
      ],
      "execution_count": null,
      "outputs": [
        {
          "output_type": "stream",
          "name": "stdout",
          "text": [
            "<class 'pandas.core.frame.DataFrame'>\n",
            "Int64Index: 71 entries, 1 to 99\n",
            "Data columns (total 4 columns):\n",
            " #   Column  Non-Null Count  Dtype  \n",
            "---  ------  --------------  -----  \n",
            " 0   Age     71 non-null     float64\n",
            " 1   Sex     71 non-null     int64  \n",
            " 2   BP_SYS  71 non-null     object \n",
            " 3   BP_DIA  71 non-null     object \n",
            "dtypes: float64(1), int64(1), object(2)\n",
            "memory usage: 5.3+ KB\n"
          ]
        }
      ]
    },
    {
      "cell_type": "code",
      "metadata": {
        "id": "2VpEgLfN_ABE"
      },
      "source": [
        "clean_data['BP_SYS'] = pd.to_numeric(clean_data['BP_SYS'])\n",
        "clean_data['BP_DIA'] = pd.to_numeric(clean_data['BP_DIA'])"
      ],
      "execution_count": null,
      "outputs": []
    },
    {
      "cell_type": "code",
      "metadata": {
        "colab": {
          "base_uri": "https://localhost:8080/",
          "height": 421
        },
        "id": "BJA7rnyi_EDc",
        "outputId": "b9c25ed6-f770-42ed-d474-b65219fc813a"
      },
      "source": [
        "male_df = clean_data[clean_data['Sex']==1]\n",
        "male_df_old = male_df[male_df['Age']>=70.0] \n",
        "male_df_old.head()\n",
        "male_df_young = male_df[male_df['Age']<70.0]\n",
        "male_df_young"
      ],
      "execution_count": null,
      "outputs": [
        {
          "output_type": "execute_result",
          "data": {
            "text/html": [
              "<div>\n",
              "<style scoped>\n",
              "    .dataframe tbody tr th:only-of-type {\n",
              "        vertical-align: middle;\n",
              "    }\n",
              "\n",
              "    .dataframe tbody tr th {\n",
              "        vertical-align: top;\n",
              "    }\n",
              "\n",
              "    .dataframe thead th {\n",
              "        text-align: right;\n",
              "    }\n",
              "</style>\n",
              "<table border=\"1\" class=\"dataframe\">\n",
              "  <thead>\n",
              "    <tr style=\"text-align: right;\">\n",
              "      <th></th>\n",
              "      <th>Age</th>\n",
              "      <th>Sex</th>\n",
              "      <th>BP_SYS</th>\n",
              "      <th>BP_DIA</th>\n",
              "    </tr>\n",
              "  </thead>\n",
              "  <tbody>\n",
              "    <tr>\n",
              "      <th>9</th>\n",
              "      <td>68.64</td>\n",
              "      <td>1</td>\n",
              "      <td>150</td>\n",
              "      <td>80</td>\n",
              "    </tr>\n",
              "    <tr>\n",
              "      <th>22</th>\n",
              "      <td>49.19</td>\n",
              "      <td>1</td>\n",
              "      <td>160</td>\n",
              "      <td>105</td>\n",
              "    </tr>\n",
              "    <tr>\n",
              "      <th>26</th>\n",
              "      <td>65.62</td>\n",
              "      <td>1</td>\n",
              "      <td>105</td>\n",
              "      <td>70</td>\n",
              "    </tr>\n",
              "    <tr>\n",
              "      <th>29</th>\n",
              "      <td>22.08</td>\n",
              "      <td>1</td>\n",
              "      <td>126</td>\n",
              "      <td>70</td>\n",
              "    </tr>\n",
              "    <tr>\n",
              "      <th>42</th>\n",
              "      <td>55.48</td>\n",
              "      <td>1</td>\n",
              "      <td>161</td>\n",
              "      <td>56</td>\n",
              "    </tr>\n",
              "    <tr>\n",
              "      <th>44</th>\n",
              "      <td>49.14</td>\n",
              "      <td>1</td>\n",
              "      <td>143</td>\n",
              "      <td>86</td>\n",
              "    </tr>\n",
              "    <tr>\n",
              "      <th>52</th>\n",
              "      <td>66.71</td>\n",
              "      <td>1</td>\n",
              "      <td>127</td>\n",
              "      <td>60</td>\n",
              "    </tr>\n",
              "    <tr>\n",
              "      <th>60</th>\n",
              "      <td>50.99</td>\n",
              "      <td>1</td>\n",
              "      <td>166</td>\n",
              "      <td>98</td>\n",
              "    </tr>\n",
              "    <tr>\n",
              "      <th>67</th>\n",
              "      <td>43.86</td>\n",
              "      <td>1</td>\n",
              "      <td>145</td>\n",
              "      <td>75</td>\n",
              "    </tr>\n",
              "    <tr>\n",
              "      <th>70</th>\n",
              "      <td>48.87</td>\n",
              "      <td>1</td>\n",
              "      <td>90</td>\n",
              "      <td>50</td>\n",
              "    </tr>\n",
              "    <tr>\n",
              "      <th>83</th>\n",
              "      <td>69.19</td>\n",
              "      <td>1</td>\n",
              "      <td>131</td>\n",
              "      <td>90</td>\n",
              "    </tr>\n",
              "    <tr>\n",
              "      <th>88</th>\n",
              "      <td>65.13</td>\n",
              "      <td>1</td>\n",
              "      <td>158</td>\n",
              "      <td>89</td>\n",
              "    </tr>\n",
              "  </tbody>\n",
              "</table>\n",
              "</div>"
            ],
            "text/plain": [
              "      Age  Sex  BP_SYS  BP_DIA\n",
              "9   68.64    1     150      80\n",
              "22  49.19    1     160     105\n",
              "26  65.62    1     105      70\n",
              "29  22.08    1     126      70\n",
              "42  55.48    1     161      56\n",
              "44  49.14    1     143      86\n",
              "52  66.71    1     127      60\n",
              "60  50.99    1     166      98\n",
              "67  43.86    1     145      75\n",
              "70  48.87    1      90      50\n",
              "83  69.19    1     131      90\n",
              "88  65.13    1     158      89"
            ]
          },
          "metadata": {},
          "execution_count": 39
        }
      ]
    },
    {
      "cell_type": "code",
      "metadata": {
        "colab": {
          "base_uri": "https://localhost:8080/",
          "height": 419
        },
        "id": "-gEh_MUuoDiL",
        "outputId": "2661a40d-0d41-49e6-b4cc-ae8cc2f3dca2"
      },
      "source": [
        "clean_data = data.replace('#NULL!',float(0))\n",
        "clean_data['BP_SYS'] = pd.to_numeric(clean_data['BP_SYS'])\n",
        "clean_data['BP_DIA'] = pd.to_numeric(clean_data['BP_DIA'])\n",
        "clean_data['BP_SYS'] = clean_data['BP_SYS'].replace(float(0),clean_data['BP_SYS'].mean())\n",
        "clean_data['BP_DIA'] = clean_data['BP_DIA'].replace(float(0),clean_data['BP_DIA'].mean())\n",
        "clean_data"
      ],
      "execution_count": null,
      "outputs": [
        {
          "output_type": "execute_result",
          "data": {
            "text/html": [
              "<div>\n",
              "<style scoped>\n",
              "    .dataframe tbody tr th:only-of-type {\n",
              "        vertical-align: middle;\n",
              "    }\n",
              "\n",
              "    .dataframe tbody tr th {\n",
              "        vertical-align: top;\n",
              "    }\n",
              "\n",
              "    .dataframe thead th {\n",
              "        text-align: right;\n",
              "    }\n",
              "</style>\n",
              "<table border=\"1\" class=\"dataframe\">\n",
              "  <thead>\n",
              "    <tr style=\"text-align: right;\">\n",
              "      <th></th>\n",
              "      <th>Age</th>\n",
              "      <th>Sex</th>\n",
              "      <th>BP_SYS</th>\n",
              "      <th>BP_DIA</th>\n",
              "    </tr>\n",
              "  </thead>\n",
              "  <tbody>\n",
              "    <tr>\n",
              "      <th>0</th>\n",
              "      <td>87.76</td>\n",
              "      <td>0</td>\n",
              "      <td>103.42</td>\n",
              "      <td>60.00</td>\n",
              "    </tr>\n",
              "    <tr>\n",
              "      <th>1</th>\n",
              "      <td>76.22</td>\n",
              "      <td>0</td>\n",
              "      <td>150.00</td>\n",
              "      <td>77.00</td>\n",
              "    </tr>\n",
              "    <tr>\n",
              "      <th>2</th>\n",
              "      <td>70.28</td>\n",
              "      <td>0</td>\n",
              "      <td>115.00</td>\n",
              "      <td>72.00</td>\n",
              "    </tr>\n",
              "    <tr>\n",
              "      <th>3</th>\n",
              "      <td>100.28</td>\n",
              "      <td>1</td>\n",
              "      <td>183.00</td>\n",
              "      <td>82.00</td>\n",
              "    </tr>\n",
              "    <tr>\n",
              "      <th>4</th>\n",
              "      <td>61.62</td>\n",
              "      <td>0</td>\n",
              "      <td>103.42</td>\n",
              "      <td>57.53</td>\n",
              "    </tr>\n",
              "    <tr>\n",
              "      <th>...</th>\n",
              "      <td>...</td>\n",
              "      <td>...</td>\n",
              "      <td>...</td>\n",
              "      <td>...</td>\n",
              "    </tr>\n",
              "    <tr>\n",
              "      <th>95</th>\n",
              "      <td>93.16</td>\n",
              "      <td>1</td>\n",
              "      <td>103.42</td>\n",
              "      <td>57.53</td>\n",
              "    </tr>\n",
              "    <tr>\n",
              "      <th>96</th>\n",
              "      <td>62.69</td>\n",
              "      <td>0</td>\n",
              "      <td>133.00</td>\n",
              "      <td>72.00</td>\n",
              "    </tr>\n",
              "    <tr>\n",
              "      <th>97</th>\n",
              "      <td>79.45</td>\n",
              "      <td>1</td>\n",
              "      <td>200.00</td>\n",
              "      <td>70.00</td>\n",
              "    </tr>\n",
              "    <tr>\n",
              "      <th>98</th>\n",
              "      <td>86.94</td>\n",
              "      <td>1</td>\n",
              "      <td>149.00</td>\n",
              "      <td>54.00</td>\n",
              "    </tr>\n",
              "    <tr>\n",
              "      <th>99</th>\n",
              "      <td>81.09</td>\n",
              "      <td>1</td>\n",
              "      <td>175.00</td>\n",
              "      <td>88.00</td>\n",
              "    </tr>\n",
              "  </tbody>\n",
              "</table>\n",
              "<p>100 rows × 4 columns</p>\n",
              "</div>"
            ],
            "text/plain": [
              "       Age  Sex  BP_SYS  BP_DIA\n",
              "0    87.76    0  103.42   60.00\n",
              "1    76.22    0  150.00   77.00\n",
              "2    70.28    0  115.00   72.00\n",
              "3   100.28    1  183.00   82.00\n",
              "4    61.62    0  103.42   57.53\n",
              "..     ...  ...     ...     ...\n",
              "95   93.16    1  103.42   57.53\n",
              "96   62.69    0  133.00   72.00\n",
              "97   79.45    1  200.00   70.00\n",
              "98   86.94    1  149.00   54.00\n",
              "99   81.09    1  175.00   88.00\n",
              "\n",
              "[100 rows x 4 columns]"
            ]
          },
          "metadata": {},
          "execution_count": 15
        }
      ]
    },
    {
      "cell_type": "code",
      "metadata": {
        "colab": {
          "base_uri": "https://localhost:8080/",
          "height": 514
        },
        "id": "cwhVbxF07ZpU",
        "outputId": "520386a6-6cc5-4b01-bb6c-ef433ffab809"
      },
      "source": [
        "male_df = clean_data[clean_data['Sex']==1]\n",
        "male_df_old = male_df[male_df['Age']>=70.0] \n",
        "male_df_old.head()\n",
        "male_df_young = male_df[male_df['Age']<70.0]\n",
        "male_df_young"
      ],
      "execution_count": null,
      "outputs": [
        {
          "output_type": "execute_result",
          "data": {
            "text/html": [
              "<div>\n",
              "<style scoped>\n",
              "    .dataframe tbody tr th:only-of-type {\n",
              "        vertical-align: middle;\n",
              "    }\n",
              "\n",
              "    .dataframe tbody tr th {\n",
              "        vertical-align: top;\n",
              "    }\n",
              "\n",
              "    .dataframe thead th {\n",
              "        text-align: right;\n",
              "    }\n",
              "</style>\n",
              "<table border=\"1\" class=\"dataframe\">\n",
              "  <thead>\n",
              "    <tr style=\"text-align: right;\">\n",
              "      <th></th>\n",
              "      <th>Age</th>\n",
              "      <th>Sex</th>\n",
              "      <th>BP_SYS</th>\n",
              "      <th>BP_DIA</th>\n",
              "    </tr>\n",
              "  </thead>\n",
              "  <tbody>\n",
              "    <tr>\n",
              "      <th>9</th>\n",
              "      <td>68.64</td>\n",
              "      <td>1</td>\n",
              "      <td>150.00</td>\n",
              "      <td>80.00</td>\n",
              "    </tr>\n",
              "    <tr>\n",
              "      <th>15</th>\n",
              "      <td>65.65</td>\n",
              "      <td>1</td>\n",
              "      <td>103.42</td>\n",
              "      <td>57.53</td>\n",
              "    </tr>\n",
              "    <tr>\n",
              "      <th>22</th>\n",
              "      <td>49.19</td>\n",
              "      <td>1</td>\n",
              "      <td>160.00</td>\n",
              "      <td>105.00</td>\n",
              "    </tr>\n",
              "    <tr>\n",
              "      <th>26</th>\n",
              "      <td>65.62</td>\n",
              "      <td>1</td>\n",
              "      <td>105.00</td>\n",
              "      <td>70.00</td>\n",
              "    </tr>\n",
              "    <tr>\n",
              "      <th>29</th>\n",
              "      <td>22.08</td>\n",
              "      <td>1</td>\n",
              "      <td>126.00</td>\n",
              "      <td>70.00</td>\n",
              "    </tr>\n",
              "    <tr>\n",
              "      <th>41</th>\n",
              "      <td>64.89</td>\n",
              "      <td>1</td>\n",
              "      <td>103.42</td>\n",
              "      <td>57.53</td>\n",
              "    </tr>\n",
              "    <tr>\n",
              "      <th>42</th>\n",
              "      <td>55.48</td>\n",
              "      <td>1</td>\n",
              "      <td>161.00</td>\n",
              "      <td>56.00</td>\n",
              "    </tr>\n",
              "    <tr>\n",
              "      <th>44</th>\n",
              "      <td>49.14</td>\n",
              "      <td>1</td>\n",
              "      <td>143.00</td>\n",
              "      <td>86.00</td>\n",
              "    </tr>\n",
              "    <tr>\n",
              "      <th>52</th>\n",
              "      <td>66.71</td>\n",
              "      <td>1</td>\n",
              "      <td>127.00</td>\n",
              "      <td>60.00</td>\n",
              "    </tr>\n",
              "    <tr>\n",
              "      <th>60</th>\n",
              "      <td>50.99</td>\n",
              "      <td>1</td>\n",
              "      <td>166.00</td>\n",
              "      <td>98.00</td>\n",
              "    </tr>\n",
              "    <tr>\n",
              "      <th>67</th>\n",
              "      <td>43.86</td>\n",
              "      <td>1</td>\n",
              "      <td>145.00</td>\n",
              "      <td>75.00</td>\n",
              "    </tr>\n",
              "    <tr>\n",
              "      <th>70</th>\n",
              "      <td>48.87</td>\n",
              "      <td>1</td>\n",
              "      <td>90.00</td>\n",
              "      <td>50.00</td>\n",
              "    </tr>\n",
              "    <tr>\n",
              "      <th>76</th>\n",
              "      <td>69.66</td>\n",
              "      <td>1</td>\n",
              "      <td>103.42</td>\n",
              "      <td>57.53</td>\n",
              "    </tr>\n",
              "    <tr>\n",
              "      <th>83</th>\n",
              "      <td>69.19</td>\n",
              "      <td>1</td>\n",
              "      <td>131.00</td>\n",
              "      <td>90.00</td>\n",
              "    </tr>\n",
              "    <tr>\n",
              "      <th>88</th>\n",
              "      <td>65.13</td>\n",
              "      <td>1</td>\n",
              "      <td>158.00</td>\n",
              "      <td>89.00</td>\n",
              "    </tr>\n",
              "  </tbody>\n",
              "</table>\n",
              "</div>"
            ],
            "text/plain": [
              "      Age  Sex  BP_SYS  BP_DIA\n",
              "9   68.64    1  150.00   80.00\n",
              "15  65.65    1  103.42   57.53\n",
              "22  49.19    1  160.00  105.00\n",
              "26  65.62    1  105.00   70.00\n",
              "29  22.08    1  126.00   70.00\n",
              "41  64.89    1  103.42   57.53\n",
              "42  55.48    1  161.00   56.00\n",
              "44  49.14    1  143.00   86.00\n",
              "52  66.71    1  127.00   60.00\n",
              "60  50.99    1  166.00   98.00\n",
              "67  43.86    1  145.00   75.00\n",
              "70  48.87    1   90.00   50.00\n",
              "76  69.66    1  103.42   57.53\n",
              "83  69.19    1  131.00   90.00\n",
              "88  65.13    1  158.00   89.00"
            ]
          },
          "metadata": {},
          "execution_count": 20
        }
      ]
    },
    {
      "cell_type": "code",
      "metadata": {
        "colab": {
          "base_uri": "https://localhost:8080/"
        },
        "id": "pMejIGqm8U5F",
        "outputId": "b70cba1e-65c2-49da-e21e-00846aadaa38"
      },
      "source": [
        "male_df_young.info()"
      ],
      "execution_count": null,
      "outputs": [
        {
          "output_type": "stream",
          "name": "stdout",
          "text": [
            "<class 'pandas.core.frame.DataFrame'>\n",
            "Int64Index: 15 entries, 9 to 88\n",
            "Data columns (total 4 columns):\n",
            " #   Column  Non-Null Count  Dtype  \n",
            "---  ------  --------------  -----  \n",
            " 0   Age     15 non-null     float64\n",
            " 1   Sex     15 non-null     int64  \n",
            " 2   BP_SYS  15 non-null     float64\n",
            " 3   BP_DIA  15 non-null     float64\n",
            "dtypes: float64(3), int64(1)\n",
            "memory usage: 600.0 bytes\n"
          ]
        }
      ]
    },
    {
      "cell_type": "code",
      "metadata": {
        "colab": {
          "base_uri": "https://localhost:8080/"
        },
        "id": "34qwypmh8f7g",
        "outputId": "42d17a2e-b464-4be8-94cb-0282f7fa49ae"
      },
      "source": [
        "male_df_young.mean()"
      ],
      "execution_count": null,
      "outputs": [
        {
          "output_type": "execute_result",
          "data": {
            "text/plain": [
              "Age        54.575000\n",
              "Sex         1.000000\n",
              "BP_SYS    138.500000\n",
              "BP_DIA     77.416667\n",
              "dtype: float64"
            ]
          },
          "metadata": {},
          "execution_count": 40
        }
      ]
    },
    {
      "cell_type": "markdown",
      "metadata": {
        "id": "1b7ZWKZgeln0"
      },
      "source": [
        "---\n",
        "\n",
        "Now we will continue with a second example tutorial illustrating how medical researchers can use Python to work with images. The notebook is [here](https://github.com/sigvehaug/Introduction-to-Python-Programming-For-Medical-Researchers/blob/master/5-Example-2-Medical_Analysis.ipynb). "
      ]
    }
  ]
}
