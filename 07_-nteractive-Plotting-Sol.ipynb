{
  "nbformat": 4,
  "nbformat_minor": 0,
  "metadata": {
    "kernelspec": {
      "display_name": "Python 3",
      "language": "python",
      "name": "python3"
    },
    "language_info": {
      "codemirror_mode": {
        "name": "ipython",
        "version": 3
      },
      "file_extension": ".py",
      "mimetype": "text/x-python",
      "name": "python",
      "nbconvert_exporter": "python",
      "pygments_lexer": "ipython3",
      "version": "3.6.7"
    },
    "toc": {
      "base_numbering": 1,
      "nav_menu": {},
      "number_sections": false,
      "sideBar": true,
      "skip_h1_title": false,
      "title_cell": "Table of Contents",
      "title_sidebar": "Contents",
      "toc_cell": false,
      "toc_position": {},
      "toc_section_display": true,
      "toc_window_display": true
    },
    "colab": {
      "name": "07-Interactive-Plotting-Sol.ipynb",
      "provenance": [],
      "include_colab_link": true
    },
    "widgets": {
      "application/vnd.jupyter.widget-state+json": {
        "6a0c037fcb23486caae4ae3f3e31fff5": {
          "model_module": "@jupyter-widgets/controls",
          "model_name": "VBoxModel",
          "model_module_version": "1.5.0",
          "state": {
            "_view_name": "VBoxView",
            "_dom_classes": [
              "widget-interact"
            ],
            "_model_name": "VBoxModel",
            "_view_module": "@jupyter-widgets/controls",
            "_model_module_version": "1.5.0",
            "_view_count": null,
            "_view_module_version": "1.5.0",
            "box_style": "",
            "layout": "IPY_MODEL_afa15e0da81c4aa491be0699c5545b87",
            "_model_module": "@jupyter-widgets/controls",
            "children": [
              "IPY_MODEL_e3582472fff54cb4ba11ef6b5102149a",
              "IPY_MODEL_d5ce0d43352749f4bebcfd4552d402ad"
            ]
          }
        },
        "afa15e0da81c4aa491be0699c5545b87": {
          "model_module": "@jupyter-widgets/base",
          "model_name": "LayoutModel",
          "model_module_version": "1.2.0",
          "state": {
            "_view_name": "LayoutView",
            "grid_template_rows": null,
            "right": null,
            "justify_content": null,
            "_view_module": "@jupyter-widgets/base",
            "overflow": null,
            "_model_module_version": "1.2.0",
            "_view_count": null,
            "flex_flow": null,
            "width": null,
            "min_width": null,
            "border": null,
            "align_items": null,
            "bottom": null,
            "_model_module": "@jupyter-widgets/base",
            "top": null,
            "grid_column": null,
            "overflow_y": null,
            "overflow_x": null,
            "grid_auto_flow": null,
            "grid_area": null,
            "grid_template_columns": null,
            "flex": null,
            "_model_name": "LayoutModel",
            "justify_items": null,
            "grid_row": null,
            "max_height": null,
            "align_content": null,
            "visibility": null,
            "align_self": null,
            "height": null,
            "min_height": null,
            "padding": null,
            "grid_auto_rows": null,
            "grid_gap": null,
            "max_width": null,
            "order": null,
            "_view_module_version": "1.2.0",
            "grid_template_areas": null,
            "object_position": null,
            "object_fit": null,
            "grid_auto_columns": null,
            "margin": null,
            "display": null,
            "left": null
          }
        },
        "e3582472fff54cb4ba11ef6b5102149a": {
          "model_module": "@jupyter-widgets/controls",
          "model_name": "IntSliderModel",
          "model_module_version": "1.5.0",
          "state": {
            "_view_name": "IntSliderView",
            "style": "IPY_MODEL_54c8d75a972b447eb5a0027a3646d070",
            "_dom_classes": [],
            "description": "num",
            "step": 1,
            "_model_name": "IntSliderModel",
            "orientation": "horizontal",
            "max": 20,
            "_view_module": "@jupyter-widgets/controls",
            "_model_module_version": "1.5.0",
            "value": 10,
            "_view_count": null,
            "disabled": false,
            "_view_module_version": "1.5.0",
            "min": 0,
            "continuous_update": true,
            "readout_format": "d",
            "description_tooltip": null,
            "readout": true,
            "_model_module": "@jupyter-widgets/controls",
            "layout": "IPY_MODEL_ca572a21337141e0808dbcfc63f2bd28"
          }
        },
        "d5ce0d43352749f4bebcfd4552d402ad": {
          "model_module": "@jupyter-widgets/output",
          "model_name": "OutputModel",
          "model_module_version": "1.0.0",
          "state": {
            "_view_name": "OutputView",
            "msg_id": "",
            "_dom_classes": [],
            "_model_name": "OutputModel",
            "outputs": [
              {
                "output_type": "stream",
                "name": "stdout",
                "text": [
                  "10 squared is: 100\n"
                ]
              }
            ],
            "_view_module": "@jupyter-widgets/output",
            "_model_module_version": "1.0.0",
            "_view_count": null,
            "_view_module_version": "1.0.0",
            "layout": "IPY_MODEL_fb2d1165681b400d92d484fbd5b07951",
            "_model_module": "@jupyter-widgets/output"
          }
        },
        "54c8d75a972b447eb5a0027a3646d070": {
          "model_module": "@jupyter-widgets/controls",
          "model_name": "SliderStyleModel",
          "model_module_version": "1.5.0",
          "state": {
            "_view_name": "StyleView",
            "handle_color": null,
            "_model_name": "SliderStyleModel",
            "description_width": "",
            "_view_module": "@jupyter-widgets/base",
            "_model_module_version": "1.5.0",
            "_view_count": null,
            "_view_module_version": "1.2.0",
            "_model_module": "@jupyter-widgets/controls"
          }
        },
        "ca572a21337141e0808dbcfc63f2bd28": {
          "model_module": "@jupyter-widgets/base",
          "model_name": "LayoutModel",
          "model_module_version": "1.2.0",
          "state": {
            "_view_name": "LayoutView",
            "grid_template_rows": null,
            "right": null,
            "justify_content": null,
            "_view_module": "@jupyter-widgets/base",
            "overflow": null,
            "_model_module_version": "1.2.0",
            "_view_count": null,
            "flex_flow": null,
            "width": null,
            "min_width": null,
            "border": null,
            "align_items": null,
            "bottom": null,
            "_model_module": "@jupyter-widgets/base",
            "top": null,
            "grid_column": null,
            "overflow_y": null,
            "overflow_x": null,
            "grid_auto_flow": null,
            "grid_area": null,
            "grid_template_columns": null,
            "flex": null,
            "_model_name": "LayoutModel",
            "justify_items": null,
            "grid_row": null,
            "max_height": null,
            "align_content": null,
            "visibility": null,
            "align_self": null,
            "height": null,
            "min_height": null,
            "padding": null,
            "grid_auto_rows": null,
            "grid_gap": null,
            "max_width": null,
            "order": null,
            "_view_module_version": "1.2.0",
            "grid_template_areas": null,
            "object_position": null,
            "object_fit": null,
            "grid_auto_columns": null,
            "margin": null,
            "display": null,
            "left": null
          }
        },
        "fb2d1165681b400d92d484fbd5b07951": {
          "model_module": "@jupyter-widgets/base",
          "model_name": "LayoutModel",
          "model_module_version": "1.2.0",
          "state": {
            "_view_name": "LayoutView",
            "grid_template_rows": null,
            "right": null,
            "justify_content": null,
            "_view_module": "@jupyter-widgets/base",
            "overflow": null,
            "_model_module_version": "1.2.0",
            "_view_count": null,
            "flex_flow": null,
            "width": null,
            "min_width": null,
            "border": null,
            "align_items": null,
            "bottom": null,
            "_model_module": "@jupyter-widgets/base",
            "top": null,
            "grid_column": null,
            "overflow_y": null,
            "overflow_x": null,
            "grid_auto_flow": null,
            "grid_area": null,
            "grid_template_columns": null,
            "flex": null,
            "_model_name": "LayoutModel",
            "justify_items": null,
            "grid_row": null,
            "max_height": null,
            "align_content": null,
            "visibility": null,
            "align_self": null,
            "height": null,
            "min_height": null,
            "padding": null,
            "grid_auto_rows": null,
            "grid_gap": null,
            "max_width": null,
            "order": null,
            "_view_module_version": "1.2.0",
            "grid_template_areas": null,
            "object_position": null,
            "object_fit": null,
            "grid_auto_columns": null,
            "margin": null,
            "display": null,
            "left": null
          }
        },
        "e02e513bf8924a5e825203a476d2879b": {
          "model_module": "@jupyter-widgets/controls",
          "model_name": "VBoxModel",
          "model_module_version": "1.5.0",
          "state": {
            "_view_name": "VBoxView",
            "_dom_classes": [
              "widget-interact"
            ],
            "_model_name": "VBoxModel",
            "_view_module": "@jupyter-widgets/controls",
            "_model_module_version": "1.5.0",
            "_view_count": null,
            "_view_module_version": "1.5.0",
            "box_style": "",
            "layout": "IPY_MODEL_4bba3dd4951d46bcb25d84d9713efae8",
            "_model_module": "@jupyter-widgets/controls",
            "children": [
              "IPY_MODEL_b876b4601cbd401fbea2f9aa04151702",
              "IPY_MODEL_55a53491ebac46319e018426244c0ff1"
            ]
          }
        },
        "4bba3dd4951d46bcb25d84d9713efae8": {
          "model_module": "@jupyter-widgets/base",
          "model_name": "LayoutModel",
          "model_module_version": "1.2.0",
          "state": {
            "_view_name": "LayoutView",
            "grid_template_rows": null,
            "right": null,
            "justify_content": null,
            "_view_module": "@jupyter-widgets/base",
            "overflow": null,
            "_model_module_version": "1.2.0",
            "_view_count": null,
            "flex_flow": null,
            "width": null,
            "min_width": null,
            "border": null,
            "align_items": null,
            "bottom": null,
            "_model_module": "@jupyter-widgets/base",
            "top": null,
            "grid_column": null,
            "overflow_y": null,
            "overflow_x": null,
            "grid_auto_flow": null,
            "grid_area": null,
            "grid_template_columns": null,
            "flex": null,
            "_model_name": "LayoutModel",
            "justify_items": null,
            "grid_row": null,
            "max_height": null,
            "align_content": null,
            "visibility": null,
            "align_self": null,
            "height": null,
            "min_height": null,
            "padding": null,
            "grid_auto_rows": null,
            "grid_gap": null,
            "max_width": null,
            "order": null,
            "_view_module_version": "1.2.0",
            "grid_template_areas": null,
            "object_position": null,
            "object_fit": null,
            "grid_auto_columns": null,
            "margin": null,
            "display": null,
            "left": null
          }
        },
        "b876b4601cbd401fbea2f9aa04151702": {
          "model_module": "@jupyter-widgets/controls",
          "model_name": "TextModel",
          "model_module_version": "1.5.0",
          "state": {
            "_view_name": "TextView",
            "style": "IPY_MODEL_8ba7e8aeb8e243089e4b0e5b650579c7",
            "_dom_classes": [],
            "description": "x",
            "_model_name": "TextModel",
            "placeholder": "​",
            "_view_module": "@jupyter-widgets/controls",
            "_model_module_version": "1.5.0",
            "value": "Sigve",
            "_view_count": null,
            "disabled": false,
            "_view_module_version": "1.5.0",
            "continuous_update": true,
            "description_tooltip": null,
            "_model_module": "@jupyter-widgets/controls",
            "layout": "IPY_MODEL_6c2017ae1607485696ad12cc9c3ed987"
          }
        },
        "55a53491ebac46319e018426244c0ff1": {
          "model_module": "@jupyter-widgets/output",
          "model_name": "OutputModel",
          "model_module_version": "1.0.0",
          "state": {
            "_view_name": "OutputView",
            "msg_id": "",
            "_dom_classes": [],
            "_model_name": "OutputModel",
            "outputs": [
              {
                "output_type": "display_data",
                "data": {
                  "application/vnd.google.colaboratory.intrinsic+json": {
                    "type": "string"
                  },
                  "text/plain": "'Sigve'"
                },
                "metadata": {}
              }
            ],
            "_view_module": "@jupyter-widgets/output",
            "_model_module_version": "1.0.0",
            "_view_count": null,
            "_view_module_version": "1.0.0",
            "layout": "IPY_MODEL_c489d44c70e948d6b417bd6fec954d80",
            "_model_module": "@jupyter-widgets/output"
          }
        },
        "8ba7e8aeb8e243089e4b0e5b650579c7": {
          "model_module": "@jupyter-widgets/controls",
          "model_name": "DescriptionStyleModel",
          "model_module_version": "1.5.0",
          "state": {
            "_view_name": "StyleView",
            "_model_name": "DescriptionStyleModel",
            "description_width": "",
            "_view_module": "@jupyter-widgets/base",
            "_model_module_version": "1.5.0",
            "_view_count": null,
            "_view_module_version": "1.2.0",
            "_model_module": "@jupyter-widgets/controls"
          }
        },
        "6c2017ae1607485696ad12cc9c3ed987": {
          "model_module": "@jupyter-widgets/base",
          "model_name": "LayoutModel",
          "model_module_version": "1.2.0",
          "state": {
            "_view_name": "LayoutView",
            "grid_template_rows": null,
            "right": null,
            "justify_content": null,
            "_view_module": "@jupyter-widgets/base",
            "overflow": null,
            "_model_module_version": "1.2.0",
            "_view_count": null,
            "flex_flow": null,
            "width": null,
            "min_width": null,
            "border": null,
            "align_items": null,
            "bottom": null,
            "_model_module": "@jupyter-widgets/base",
            "top": null,
            "grid_column": null,
            "overflow_y": null,
            "overflow_x": null,
            "grid_auto_flow": null,
            "grid_area": null,
            "grid_template_columns": null,
            "flex": null,
            "_model_name": "LayoutModel",
            "justify_items": null,
            "grid_row": null,
            "max_height": null,
            "align_content": null,
            "visibility": null,
            "align_self": null,
            "height": null,
            "min_height": null,
            "padding": null,
            "grid_auto_rows": null,
            "grid_gap": null,
            "max_width": null,
            "order": null,
            "_view_module_version": "1.2.0",
            "grid_template_areas": null,
            "object_position": null,
            "object_fit": null,
            "grid_auto_columns": null,
            "margin": null,
            "display": null,
            "left": null
          }
        },
        "c489d44c70e948d6b417bd6fec954d80": {
          "model_module": "@jupyter-widgets/base",
          "model_name": "LayoutModel",
          "model_module_version": "1.2.0",
          "state": {
            "_view_name": "LayoutView",
            "grid_template_rows": null,
            "right": null,
            "justify_content": null,
            "_view_module": "@jupyter-widgets/base",
            "overflow": null,
            "_model_module_version": "1.2.0",
            "_view_count": null,
            "flex_flow": null,
            "width": null,
            "min_width": null,
            "border": null,
            "align_items": null,
            "bottom": null,
            "_model_module": "@jupyter-widgets/base",
            "top": null,
            "grid_column": null,
            "overflow_y": null,
            "overflow_x": null,
            "grid_auto_flow": null,
            "grid_area": null,
            "grid_template_columns": null,
            "flex": null,
            "_model_name": "LayoutModel",
            "justify_items": null,
            "grid_row": null,
            "max_height": null,
            "align_content": null,
            "visibility": null,
            "align_self": null,
            "height": null,
            "min_height": null,
            "padding": null,
            "grid_auto_rows": null,
            "grid_gap": null,
            "max_width": null,
            "order": null,
            "_view_module_version": "1.2.0",
            "grid_template_areas": null,
            "object_position": null,
            "object_fit": null,
            "grid_auto_columns": null,
            "margin": null,
            "display": null,
            "left": null
          }
        },
        "9776f3d21dc74f25a7fad7fc19ab77c3": {
          "model_module": "@jupyter-widgets/controls",
          "model_name": "VBoxModel",
          "model_module_version": "1.5.0",
          "state": {
            "_view_name": "VBoxView",
            "_dom_classes": [
              "widget-interact"
            ],
            "_model_name": "VBoxModel",
            "_view_module": "@jupyter-widgets/controls",
            "_model_module_version": "1.5.0",
            "_view_count": null,
            "_view_module_version": "1.5.0",
            "box_style": "",
            "layout": "IPY_MODEL_38168ffc4dbf49ee83444af825b243eb",
            "_model_module": "@jupyter-widgets/controls",
            "children": [
              "IPY_MODEL_d51f64aa11c94557bd533d29a6e875f6",
              "IPY_MODEL_13446ff046cf47508e6864d2057690e7"
            ]
          }
        },
        "38168ffc4dbf49ee83444af825b243eb": {
          "model_module": "@jupyter-widgets/base",
          "model_name": "LayoutModel",
          "model_module_version": "1.2.0",
          "state": {
            "_view_name": "LayoutView",
            "grid_template_rows": null,
            "right": null,
            "justify_content": null,
            "_view_module": "@jupyter-widgets/base",
            "overflow": null,
            "_model_module_version": "1.2.0",
            "_view_count": null,
            "flex_flow": null,
            "width": null,
            "min_width": null,
            "border": null,
            "align_items": null,
            "bottom": null,
            "_model_module": "@jupyter-widgets/base",
            "top": null,
            "grid_column": null,
            "overflow_y": null,
            "overflow_x": null,
            "grid_auto_flow": null,
            "grid_area": null,
            "grid_template_columns": null,
            "flex": null,
            "_model_name": "LayoutModel",
            "justify_items": null,
            "grid_row": null,
            "max_height": null,
            "align_content": null,
            "visibility": null,
            "align_self": null,
            "height": null,
            "min_height": null,
            "padding": null,
            "grid_auto_rows": null,
            "grid_gap": null,
            "max_width": null,
            "order": null,
            "_view_module_version": "1.2.0",
            "grid_template_areas": null,
            "object_position": null,
            "object_fit": null,
            "grid_auto_columns": null,
            "margin": null,
            "display": null,
            "left": null
          }
        },
        "d51f64aa11c94557bd533d29a6e875f6": {
          "model_module": "@jupyter-widgets/controls",
          "model_name": "IntSliderModel",
          "model_module_version": "1.5.0",
          "state": {
            "_view_name": "IntSliderView",
            "style": "IPY_MODEL_78dd5a64c6104ec389a3d4feeaa21d8e",
            "_dom_classes": [],
            "description": "num",
            "step": 1,
            "_model_name": "IntSliderModel",
            "orientation": "horizontal",
            "max": 30,
            "_view_module": "@jupyter-widgets/controls",
            "_model_module_version": "1.5.0",
            "value": 8,
            "_view_count": null,
            "disabled": false,
            "_view_module_version": "1.5.0",
            "min": -10,
            "continuous_update": true,
            "readout_format": "d",
            "description_tooltip": null,
            "readout": true,
            "_model_module": "@jupyter-widgets/controls",
            "layout": "IPY_MODEL_383a679661cb41cab2d13f30c67dd5d7"
          }
        },
        "13446ff046cf47508e6864d2057690e7": {
          "model_module": "@jupyter-widgets/output",
          "model_name": "OutputModel",
          "model_module_version": "1.0.0",
          "state": {
            "_view_name": "OutputView",
            "msg_id": "",
            "_dom_classes": [],
            "_model_name": "OutputModel",
            "outputs": [
              {
                "output_type": "stream",
                "name": "stdout",
                "text": [
                  "8 squared is: 64\n"
                ]
              }
            ],
            "_view_module": "@jupyter-widgets/output",
            "_model_module_version": "1.0.0",
            "_view_count": null,
            "_view_module_version": "1.0.0",
            "layout": "IPY_MODEL_b59a456f889e4f03a23a152d8b8ca9a4",
            "_model_module": "@jupyter-widgets/output"
          }
        },
        "78dd5a64c6104ec389a3d4feeaa21d8e": {
          "model_module": "@jupyter-widgets/controls",
          "model_name": "SliderStyleModel",
          "model_module_version": "1.5.0",
          "state": {
            "_view_name": "StyleView",
            "handle_color": null,
            "_model_name": "SliderStyleModel",
            "description_width": "",
            "_view_module": "@jupyter-widgets/base",
            "_model_module_version": "1.5.0",
            "_view_count": null,
            "_view_module_version": "1.2.0",
            "_model_module": "@jupyter-widgets/controls"
          }
        },
        "383a679661cb41cab2d13f30c67dd5d7": {
          "model_module": "@jupyter-widgets/base",
          "model_name": "LayoutModel",
          "model_module_version": "1.2.0",
          "state": {
            "_view_name": "LayoutView",
            "grid_template_rows": null,
            "right": null,
            "justify_content": null,
            "_view_module": "@jupyter-widgets/base",
            "overflow": null,
            "_model_module_version": "1.2.0",
            "_view_count": null,
            "flex_flow": null,
            "width": null,
            "min_width": null,
            "border": null,
            "align_items": null,
            "bottom": null,
            "_model_module": "@jupyter-widgets/base",
            "top": null,
            "grid_column": null,
            "overflow_y": null,
            "overflow_x": null,
            "grid_auto_flow": null,
            "grid_area": null,
            "grid_template_columns": null,
            "flex": null,
            "_model_name": "LayoutModel",
            "justify_items": null,
            "grid_row": null,
            "max_height": null,
            "align_content": null,
            "visibility": null,
            "align_self": null,
            "height": null,
            "min_height": null,
            "padding": null,
            "grid_auto_rows": null,
            "grid_gap": null,
            "max_width": null,
            "order": null,
            "_view_module_version": "1.2.0",
            "grid_template_areas": null,
            "object_position": null,
            "object_fit": null,
            "grid_auto_columns": null,
            "margin": null,
            "display": null,
            "left": null
          }
        },
        "b59a456f889e4f03a23a152d8b8ca9a4": {
          "model_module": "@jupyter-widgets/base",
          "model_name": "LayoutModel",
          "model_module_version": "1.2.0",
          "state": {
            "_view_name": "LayoutView",
            "grid_template_rows": null,
            "right": null,
            "justify_content": null,
            "_view_module": "@jupyter-widgets/base",
            "overflow": null,
            "_model_module_version": "1.2.0",
            "_view_count": null,
            "flex_flow": null,
            "width": null,
            "min_width": null,
            "border": null,
            "align_items": null,
            "bottom": null,
            "_model_module": "@jupyter-widgets/base",
            "top": null,
            "grid_column": null,
            "overflow_y": null,
            "overflow_x": null,
            "grid_auto_flow": null,
            "grid_area": null,
            "grid_template_columns": null,
            "flex": null,
            "_model_name": "LayoutModel",
            "justify_items": null,
            "grid_row": null,
            "max_height": null,
            "align_content": null,
            "visibility": null,
            "align_self": null,
            "height": null,
            "min_height": null,
            "padding": null,
            "grid_auto_rows": null,
            "grid_gap": null,
            "max_width": null,
            "order": null,
            "_view_module_version": "1.2.0",
            "grid_template_areas": null,
            "object_position": null,
            "object_fit": null,
            "grid_auto_columns": null,
            "margin": null,
            "display": null,
            "left": null
          }
        },
        "912007e45b9b41d8be896e7c8cb64812": {
          "model_module": "@jupyter-widgets/controls",
          "model_name": "VBoxModel",
          "model_module_version": "1.5.0",
          "state": {
            "_view_name": "VBoxView",
            "_dom_classes": [
              "widget-interact"
            ],
            "_model_name": "VBoxModel",
            "_view_module": "@jupyter-widgets/controls",
            "_model_module_version": "1.5.0",
            "_view_count": null,
            "_view_module_version": "1.5.0",
            "box_style": "",
            "layout": "IPY_MODEL_899c3f6589ce4002afeff3c8f6c6bcd4",
            "_model_module": "@jupyter-widgets/controls",
            "children": [
              "IPY_MODEL_02c2307ec059406483ba09dfd1ff21fe",
              "IPY_MODEL_9eef24346f26476686200458732ef6ea"
            ]
          }
        },
        "899c3f6589ce4002afeff3c8f6c6bcd4": {
          "model_module": "@jupyter-widgets/base",
          "model_name": "LayoutModel",
          "model_module_version": "1.2.0",
          "state": {
            "_view_name": "LayoutView",
            "grid_template_rows": null,
            "right": null,
            "justify_content": null,
            "_view_module": "@jupyter-widgets/base",
            "overflow": null,
            "_model_module_version": "1.2.0",
            "_view_count": null,
            "flex_flow": null,
            "width": null,
            "min_width": null,
            "border": null,
            "align_items": null,
            "bottom": null,
            "_model_module": "@jupyter-widgets/base",
            "top": null,
            "grid_column": null,
            "overflow_y": null,
            "overflow_x": null,
            "grid_auto_flow": null,
            "grid_area": null,
            "grid_template_columns": null,
            "flex": null,
            "_model_name": "LayoutModel",
            "justify_items": null,
            "grid_row": null,
            "max_height": null,
            "align_content": null,
            "visibility": null,
            "align_self": null,
            "height": null,
            "min_height": null,
            "padding": null,
            "grid_auto_rows": null,
            "grid_gap": null,
            "max_width": null,
            "order": null,
            "_view_module_version": "1.2.0",
            "grid_template_areas": null,
            "object_position": null,
            "object_fit": null,
            "grid_auto_columns": null,
            "margin": null,
            "display": null,
            "left": null
          }
        },
        "02c2307ec059406483ba09dfd1ff21fe": {
          "model_module": "@jupyter-widgets/controls",
          "model_name": "IntSliderModel",
          "model_module_version": "1.5.0",
          "state": {
            "_view_name": "IntSliderView",
            "style": "IPY_MODEL_b538f905d7bc4c08bea5a15f96307a30",
            "_dom_classes": [],
            "description": "t",
            "step": 1,
            "_model_name": "IntSliderModel",
            "orientation": "horizontal",
            "max": 2,
            "_view_module": "@jupyter-widgets/controls",
            "_model_module_version": "1.5.0",
            "value": 2,
            "_view_count": null,
            "disabled": false,
            "_view_module_version": "1.5.0",
            "min": 0,
            "continuous_update": true,
            "readout_format": "d",
            "description_tooltip": null,
            "readout": true,
            "_model_module": "@jupyter-widgets/controls",
            "layout": "IPY_MODEL_96652a7c2f254e84bdc11c4e8890db41"
          }
        },
        "9eef24346f26476686200458732ef6ea": {
          "model_module": "@jupyter-widgets/output",
          "model_name": "OutputModel",
          "model_module_version": "1.0.0",
          "state": {
            "_view_name": "OutputView",
            "msg_id": "",
            "_dom_classes": [],
            "_model_name": "OutputModel",
            "outputs": [
              {
                "output_type": "display_data",
                "data": {
                  "image/png": "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\n",
                  "text/plain": "<Figure size 432x288 with 1 Axes>"
                },
                "metadata": {
                  "needs_background": "light"
                }
              }
            ],
            "_view_module": "@jupyter-widgets/output",
            "_model_module_version": "1.0.0",
            "_view_count": null,
            "_view_module_version": "1.0.0",
            "layout": "IPY_MODEL_353b5d40df1c47bba790dca4202236cb",
            "_model_module": "@jupyter-widgets/output"
          }
        },
        "b538f905d7bc4c08bea5a15f96307a30": {
          "model_module": "@jupyter-widgets/controls",
          "model_name": "SliderStyleModel",
          "model_module_version": "1.5.0",
          "state": {
            "_view_name": "StyleView",
            "handle_color": null,
            "_model_name": "SliderStyleModel",
            "description_width": "",
            "_view_module": "@jupyter-widgets/base",
            "_model_module_version": "1.5.0",
            "_view_count": null,
            "_view_module_version": "1.2.0",
            "_model_module": "@jupyter-widgets/controls"
          }
        },
        "96652a7c2f254e84bdc11c4e8890db41": {
          "model_module": "@jupyter-widgets/base",
          "model_name": "LayoutModel",
          "model_module_version": "1.2.0",
          "state": {
            "_view_name": "LayoutView",
            "grid_template_rows": null,
            "right": null,
            "justify_content": null,
            "_view_module": "@jupyter-widgets/base",
            "overflow": null,
            "_model_module_version": "1.2.0",
            "_view_count": null,
            "flex_flow": null,
            "width": null,
            "min_width": null,
            "border": null,
            "align_items": null,
            "bottom": null,
            "_model_module": "@jupyter-widgets/base",
            "top": null,
            "grid_column": null,
            "overflow_y": null,
            "overflow_x": null,
            "grid_auto_flow": null,
            "grid_area": null,
            "grid_template_columns": null,
            "flex": null,
            "_model_name": "LayoutModel",
            "justify_items": null,
            "grid_row": null,
            "max_height": null,
            "align_content": null,
            "visibility": null,
            "align_self": null,
            "height": null,
            "min_height": null,
            "padding": null,
            "grid_auto_rows": null,
            "grid_gap": null,
            "max_width": null,
            "order": null,
            "_view_module_version": "1.2.0",
            "grid_template_areas": null,
            "object_position": null,
            "object_fit": null,
            "grid_auto_columns": null,
            "margin": null,
            "display": null,
            "left": null
          }
        },
        "353b5d40df1c47bba790dca4202236cb": {
          "model_module": "@jupyter-widgets/base",
          "model_name": "LayoutModel",
          "model_module_version": "1.2.0",
          "state": {
            "_view_name": "LayoutView",
            "grid_template_rows": null,
            "right": null,
            "justify_content": null,
            "_view_module": "@jupyter-widgets/base",
            "overflow": null,
            "_model_module_version": "1.2.0",
            "_view_count": null,
            "flex_flow": null,
            "width": null,
            "min_width": null,
            "border": null,
            "align_items": null,
            "bottom": null,
            "_model_module": "@jupyter-widgets/base",
            "top": null,
            "grid_column": null,
            "overflow_y": null,
            "overflow_x": null,
            "grid_auto_flow": null,
            "grid_area": null,
            "grid_template_columns": null,
            "flex": null,
            "_model_name": "LayoutModel",
            "justify_items": null,
            "grid_row": null,
            "max_height": null,
            "align_content": null,
            "visibility": null,
            "align_self": null,
            "height": null,
            "min_height": null,
            "padding": null,
            "grid_auto_rows": null,
            "grid_gap": null,
            "max_width": null,
            "order": null,
            "_view_module_version": "1.2.0",
            "grid_template_areas": null,
            "object_position": null,
            "object_fit": null,
            "grid_auto_columns": null,
            "margin": null,
            "display": null,
            "left": null
          }
        },
        "1e79362c50b347538a75dd8cf4e22a16": {
          "model_module": "@jupyter-widgets/controls",
          "model_name": "VBoxModel",
          "model_module_version": "1.5.0",
          "state": {
            "_view_name": "VBoxView",
            "_dom_classes": [
              "widget-interact"
            ],
            "_model_name": "VBoxModel",
            "_view_module": "@jupyter-widgets/controls",
            "_model_module_version": "1.5.0",
            "_view_count": null,
            "_view_module_version": "1.5.0",
            "box_style": "",
            "layout": "IPY_MODEL_bff6bcfae21c4159af1c915181fe48b5",
            "_model_module": "@jupyter-widgets/controls",
            "children": [
              "IPY_MODEL_6957629323b545389f85007876541ae7",
              "IPY_MODEL_66f822479fe84561ae13bbbfeea78e93",
              "IPY_MODEL_8a4018e665b64b0c8e6eb597b1707949",
              "IPY_MODEL_32519f8345b74679a25b870004ae5a83",
              "IPY_MODEL_97860c695841477bab737809d9198445",
              "IPY_MODEL_c8da9ceb8f4947a19feb78988b8bd4ab",
              "IPY_MODEL_a0f5d3787f074949b53aac0103cd5501"
            ]
          }
        },
        "bff6bcfae21c4159af1c915181fe48b5": {
          "model_module": "@jupyter-widgets/base",
          "model_name": "LayoutModel",
          "model_module_version": "1.2.0",
          "state": {
            "_view_name": "LayoutView",
            "grid_template_rows": null,
            "right": null,
            "justify_content": null,
            "_view_module": "@jupyter-widgets/base",
            "overflow": null,
            "_model_module_version": "1.2.0",
            "_view_count": null,
            "flex_flow": null,
            "width": null,
            "min_width": null,
            "border": null,
            "align_items": null,
            "bottom": null,
            "_model_module": "@jupyter-widgets/base",
            "top": null,
            "grid_column": null,
            "overflow_y": null,
            "overflow_x": null,
            "grid_auto_flow": null,
            "grid_area": null,
            "grid_template_columns": null,
            "flex": null,
            "_model_name": "LayoutModel",
            "justify_items": null,
            "grid_row": null,
            "max_height": null,
            "align_content": null,
            "visibility": null,
            "align_self": null,
            "height": null,
            "min_height": null,
            "padding": null,
            "grid_auto_rows": null,
            "grid_gap": null,
            "max_width": null,
            "order": null,
            "_view_module_version": "1.2.0",
            "grid_template_areas": null,
            "object_position": null,
            "object_fit": null,
            "grid_auto_columns": null,
            "margin": null,
            "display": null,
            "left": null
          }
        },
        "6957629323b545389f85007876541ae7": {
          "model_module": "@jupyter-widgets/controls",
          "model_name": "IntSliderModel",
          "model_module_version": "1.5.0",
          "state": {
            "_view_name": "IntSliderView",
            "style": "IPY_MODEL_25e9ab61f0d0428584258d39c0cc8b85",
            "_dom_classes": [],
            "description": "i",
            "step": 1,
            "_model_name": "IntSliderModel",
            "orientation": "horizontal",
            "max": 95,
            "_view_module": "@jupyter-widgets/controls",
            "_model_module_version": "1.5.0",
            "value": 21,
            "_view_count": null,
            "disabled": false,
            "_view_module_version": "1.5.0",
            "min": 0,
            "continuous_update": true,
            "readout_format": "d",
            "description_tooltip": null,
            "readout": true,
            "_model_module": "@jupyter-widgets/controls",
            "layout": "IPY_MODEL_224e064f179e436d988b8266cfa4a793"
          }
        },
        "66f822479fe84561ae13bbbfeea78e93": {
          "model_module": "@jupyter-widgets/controls",
          "model_name": "IntSliderModel",
          "model_module_version": "1.5.0",
          "state": {
            "_view_name": "IntSliderView",
            "style": "IPY_MODEL_801325ee6b3f44f1a301abc8073f7364",
            "_dom_classes": [],
            "description": "r1",
            "step": 1,
            "_model_name": "IntSliderModel",
            "orientation": "horizontal",
            "max": 500,
            "_view_module": "@jupyter-widgets/controls",
            "_model_module_version": "1.5.0",
            "value": 40,
            "_view_count": null,
            "disabled": false,
            "_view_module_version": "1.5.0",
            "min": 0,
            "continuous_update": true,
            "readout_format": "d",
            "description_tooltip": null,
            "readout": true,
            "_model_module": "@jupyter-widgets/controls",
            "layout": "IPY_MODEL_5a80149f821e45d6969ba0c5ba4373f1"
          }
        },
        "8a4018e665b64b0c8e6eb597b1707949": {
          "model_module": "@jupyter-widgets/controls",
          "model_name": "IntSliderModel",
          "model_module_version": "1.5.0",
          "state": {
            "_view_name": "IntSliderView",
            "style": "IPY_MODEL_b6ef8b6908584b579a84f0ffea96c4df",
            "_dom_classes": [],
            "description": "r2",
            "step": 1,
            "_model_name": "IntSliderModel",
            "orientation": "horizontal",
            "max": 1022,
            "_view_module": "@jupyter-widgets/controls",
            "_model_module_version": "1.5.0",
            "value": 956,
            "_view_count": null,
            "disabled": false,
            "_view_module_version": "1.5.0",
            "min": 0,
            "continuous_update": true,
            "readout_format": "d",
            "description_tooltip": null,
            "readout": true,
            "_model_module": "@jupyter-widgets/controls",
            "layout": "IPY_MODEL_f387b97d60a04ffdab019287f809e7d1"
          }
        },
        "32519f8345b74679a25b870004ae5a83": {
          "model_module": "@jupyter-widgets/controls",
          "model_name": "IntSliderModel",
          "model_module_version": "1.5.0",
          "state": {
            "_view_name": "IntSliderView",
            "style": "IPY_MODEL_a582eb075ded42879576ff6731ad1a3d",
            "_dom_classes": [],
            "description": "c1",
            "step": 1,
            "_model_name": "IntSliderModel",
            "orientation": "horizontal",
            "max": 500,
            "_view_module": "@jupyter-widgets/controls",
            "_model_module_version": "1.5.0",
            "value": 32,
            "_view_count": null,
            "disabled": false,
            "_view_module_version": "1.5.0",
            "min": 0,
            "continuous_update": true,
            "readout_format": "d",
            "description_tooltip": null,
            "readout": true,
            "_model_module": "@jupyter-widgets/controls",
            "layout": "IPY_MODEL_f4354077852f4ae79a14f1fdeb79acb9"
          }
        },
        "97860c695841477bab737809d9198445": {
          "model_module": "@jupyter-widgets/controls",
          "model_name": "IntSliderModel",
          "model_module_version": "1.5.0",
          "state": {
            "_view_name": "IntSliderView",
            "style": "IPY_MODEL_c5aedcd7a3fe41c7ad0ef1a1da51f43d",
            "_dom_classes": [],
            "description": "c2",
            "step": 1,
            "_model_name": "IntSliderModel",
            "orientation": "horizontal",
            "max": 800,
            "_view_module": "@jupyter-widgets/controls",
            "_model_module_version": "1.5.0",
            "value": 787,
            "_view_count": null,
            "disabled": false,
            "_view_module_version": "1.5.0",
            "min": 0,
            "continuous_update": true,
            "readout_format": "d",
            "description_tooltip": null,
            "readout": true,
            "_model_module": "@jupyter-widgets/controls",
            "layout": "IPY_MODEL_2030882c26e84e7c828798aa02c6140b"
          }
        },
        "c8da9ceb8f4947a19feb78988b8bd4ab": {
          "model_module": "@jupyter-widgets/controls",
          "model_name": "IntSliderModel",
          "model_module_version": "1.5.0",
          "state": {
            "_view_name": "IntSliderView",
            "style": "IPY_MODEL_044680d31d174697995e983d21db79a1",
            "_dom_classes": [],
            "description": "channel",
            "step": 1,
            "_model_name": "IntSliderModel",
            "orientation": "horizontal",
            "max": 2,
            "_view_module": "@jupyter-widgets/controls",
            "_model_module_version": "1.5.0",
            "value": 2,
            "_view_count": null,
            "disabled": false,
            "_view_module_version": "1.5.0",
            "min": 0,
            "continuous_update": true,
            "readout_format": "d",
            "description_tooltip": null,
            "readout": true,
            "_model_module": "@jupyter-widgets/controls",
            "layout": "IPY_MODEL_609b39fb61764ae1a9928c2d8722ac1f"
          }
        },
        "a0f5d3787f074949b53aac0103cd5501": {
          "model_module": "@jupyter-widgets/output",
          "model_name": "OutputModel",
          "model_module_version": "1.0.0",
          "state": {
            "_view_name": "OutputView",
            "msg_id": "",
            "_dom_classes": [],
            "_model_name": "OutputModel",
            "outputs": [
              {
                "output_type": "stream",
                "name": "stdout",
                "text": [
                  "This is a little app where you can show an image in the dataset by selecting the (rectangular) pixel range to be shown. \n"
                ]
              },
              {
                "output_type": "display_data",
                "data": {
                  "image/png": "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\n",
                  "text/plain": "<Figure size 432x288 with 1 Axes>"
                },
                "metadata": {
                  "needs_background": "light"
                }
              }
            ],
            "_view_module": "@jupyter-widgets/output",
            "_model_module_version": "1.0.0",
            "_view_count": null,
            "_view_module_version": "1.0.0",
            "layout": "IPY_MODEL_78819b0e1e2245f9a0de7431d6fd2879",
            "_model_module": "@jupyter-widgets/output"
          }
        },
        "25e9ab61f0d0428584258d39c0cc8b85": {
          "model_module": "@jupyter-widgets/controls",
          "model_name": "SliderStyleModel",
          "model_module_version": "1.5.0",
          "state": {
            "_view_name": "StyleView",
            "handle_color": null,
            "_model_name": "SliderStyleModel",
            "description_width": "",
            "_view_module": "@jupyter-widgets/base",
            "_model_module_version": "1.5.0",
            "_view_count": null,
            "_view_module_version": "1.2.0",
            "_model_module": "@jupyter-widgets/controls"
          }
        },
        "224e064f179e436d988b8266cfa4a793": {
          "model_module": "@jupyter-widgets/base",
          "model_name": "LayoutModel",
          "model_module_version": "1.2.0",
          "state": {
            "_view_name": "LayoutView",
            "grid_template_rows": null,
            "right": null,
            "justify_content": null,
            "_view_module": "@jupyter-widgets/base",
            "overflow": null,
            "_model_module_version": "1.2.0",
            "_view_count": null,
            "flex_flow": null,
            "width": null,
            "min_width": null,
            "border": null,
            "align_items": null,
            "bottom": null,
            "_model_module": "@jupyter-widgets/base",
            "top": null,
            "grid_column": null,
            "overflow_y": null,
            "overflow_x": null,
            "grid_auto_flow": null,
            "grid_area": null,
            "grid_template_columns": null,
            "flex": null,
            "_model_name": "LayoutModel",
            "justify_items": null,
            "grid_row": null,
            "max_height": null,
            "align_content": null,
            "visibility": null,
            "align_self": null,
            "height": null,
            "min_height": null,
            "padding": null,
            "grid_auto_rows": null,
            "grid_gap": null,
            "max_width": null,
            "order": null,
            "_view_module_version": "1.2.0",
            "grid_template_areas": null,
            "object_position": null,
            "object_fit": null,
            "grid_auto_columns": null,
            "margin": null,
            "display": null,
            "left": null
          }
        },
        "801325ee6b3f44f1a301abc8073f7364": {
          "model_module": "@jupyter-widgets/controls",
          "model_name": "SliderStyleModel",
          "model_module_version": "1.5.0",
          "state": {
            "_view_name": "StyleView",
            "handle_color": null,
            "_model_name": "SliderStyleModel",
            "description_width": "",
            "_view_module": "@jupyter-widgets/base",
            "_model_module_version": "1.5.0",
            "_view_count": null,
            "_view_module_version": "1.2.0",
            "_model_module": "@jupyter-widgets/controls"
          }
        },
        "5a80149f821e45d6969ba0c5ba4373f1": {
          "model_module": "@jupyter-widgets/base",
          "model_name": "LayoutModel",
          "model_module_version": "1.2.0",
          "state": {
            "_view_name": "LayoutView",
            "grid_template_rows": null,
            "right": null,
            "justify_content": null,
            "_view_module": "@jupyter-widgets/base",
            "overflow": null,
            "_model_module_version": "1.2.0",
            "_view_count": null,
            "flex_flow": null,
            "width": null,
            "min_width": null,
            "border": null,
            "align_items": null,
            "bottom": null,
            "_model_module": "@jupyter-widgets/base",
            "top": null,
            "grid_column": null,
            "overflow_y": null,
            "overflow_x": null,
            "grid_auto_flow": null,
            "grid_area": null,
            "grid_template_columns": null,
            "flex": null,
            "_model_name": "LayoutModel",
            "justify_items": null,
            "grid_row": null,
            "max_height": null,
            "align_content": null,
            "visibility": null,
            "align_self": null,
            "height": null,
            "min_height": null,
            "padding": null,
            "grid_auto_rows": null,
            "grid_gap": null,
            "max_width": null,
            "order": null,
            "_view_module_version": "1.2.0",
            "grid_template_areas": null,
            "object_position": null,
            "object_fit": null,
            "grid_auto_columns": null,
            "margin": null,
            "display": null,
            "left": null
          }
        },
        "b6ef8b6908584b579a84f0ffea96c4df": {
          "model_module": "@jupyter-widgets/controls",
          "model_name": "SliderStyleModel",
          "model_module_version": "1.5.0",
          "state": {
            "_view_name": "StyleView",
            "handle_color": null,
            "_model_name": "SliderStyleModel",
            "description_width": "",
            "_view_module": "@jupyter-widgets/base",
            "_model_module_version": "1.5.0",
            "_view_count": null,
            "_view_module_version": "1.2.0",
            "_model_module": "@jupyter-widgets/controls"
          }
        },
        "f387b97d60a04ffdab019287f809e7d1": {
          "model_module": "@jupyter-widgets/base",
          "model_name": "LayoutModel",
          "model_module_version": "1.2.0",
          "state": {
            "_view_name": "LayoutView",
            "grid_template_rows": null,
            "right": null,
            "justify_content": null,
            "_view_module": "@jupyter-widgets/base",
            "overflow": null,
            "_model_module_version": "1.2.0",
            "_view_count": null,
            "flex_flow": null,
            "width": null,
            "min_width": null,
            "border": null,
            "align_items": null,
            "bottom": null,
            "_model_module": "@jupyter-widgets/base",
            "top": null,
            "grid_column": null,
            "overflow_y": null,
            "overflow_x": null,
            "grid_auto_flow": null,
            "grid_area": null,
            "grid_template_columns": null,
            "flex": null,
            "_model_name": "LayoutModel",
            "justify_items": null,
            "grid_row": null,
            "max_height": null,
            "align_content": null,
            "visibility": null,
            "align_self": null,
            "height": null,
            "min_height": null,
            "padding": null,
            "grid_auto_rows": null,
            "grid_gap": null,
            "max_width": null,
            "order": null,
            "_view_module_version": "1.2.0",
            "grid_template_areas": null,
            "object_position": null,
            "object_fit": null,
            "grid_auto_columns": null,
            "margin": null,
            "display": null,
            "left": null
          }
        },
        "a582eb075ded42879576ff6731ad1a3d": {
          "model_module": "@jupyter-widgets/controls",
          "model_name": "SliderStyleModel",
          "model_module_version": "1.5.0",
          "state": {
            "_view_name": "StyleView",
            "handle_color": null,
            "_model_name": "SliderStyleModel",
            "description_width": "",
            "_view_module": "@jupyter-widgets/base",
            "_model_module_version": "1.5.0",
            "_view_count": null,
            "_view_module_version": "1.2.0",
            "_model_module": "@jupyter-widgets/controls"
          }
        },
        "f4354077852f4ae79a14f1fdeb79acb9": {
          "model_module": "@jupyter-widgets/base",
          "model_name": "LayoutModel",
          "model_module_version": "1.2.0",
          "state": {
            "_view_name": "LayoutView",
            "grid_template_rows": null,
            "right": null,
            "justify_content": null,
            "_view_module": "@jupyter-widgets/base",
            "overflow": null,
            "_model_module_version": "1.2.0",
            "_view_count": null,
            "flex_flow": null,
            "width": null,
            "min_width": null,
            "border": null,
            "align_items": null,
            "bottom": null,
            "_model_module": "@jupyter-widgets/base",
            "top": null,
            "grid_column": null,
            "overflow_y": null,
            "overflow_x": null,
            "grid_auto_flow": null,
            "grid_area": null,
            "grid_template_columns": null,
            "flex": null,
            "_model_name": "LayoutModel",
            "justify_items": null,
            "grid_row": null,
            "max_height": null,
            "align_content": null,
            "visibility": null,
            "align_self": null,
            "height": null,
            "min_height": null,
            "padding": null,
            "grid_auto_rows": null,
            "grid_gap": null,
            "max_width": null,
            "order": null,
            "_view_module_version": "1.2.0",
            "grid_template_areas": null,
            "object_position": null,
            "object_fit": null,
            "grid_auto_columns": null,
            "margin": null,
            "display": null,
            "left": null
          }
        },
        "c5aedcd7a3fe41c7ad0ef1a1da51f43d": {
          "model_module": "@jupyter-widgets/controls",
          "model_name": "SliderStyleModel",
          "model_module_version": "1.5.0",
          "state": {
            "_view_name": "StyleView",
            "handle_color": null,
            "_model_name": "SliderStyleModel",
            "description_width": "",
            "_view_module": "@jupyter-widgets/base",
            "_model_module_version": "1.5.0",
            "_view_count": null,
            "_view_module_version": "1.2.0",
            "_model_module": "@jupyter-widgets/controls"
          }
        },
        "2030882c26e84e7c828798aa02c6140b": {
          "model_module": "@jupyter-widgets/base",
          "model_name": "LayoutModel",
          "model_module_version": "1.2.0",
          "state": {
            "_view_name": "LayoutView",
            "grid_template_rows": null,
            "right": null,
            "justify_content": null,
            "_view_module": "@jupyter-widgets/base",
            "overflow": null,
            "_model_module_version": "1.2.0",
            "_view_count": null,
            "flex_flow": null,
            "width": null,
            "min_width": null,
            "border": null,
            "align_items": null,
            "bottom": null,
            "_model_module": "@jupyter-widgets/base",
            "top": null,
            "grid_column": null,
            "overflow_y": null,
            "overflow_x": null,
            "grid_auto_flow": null,
            "grid_area": null,
            "grid_template_columns": null,
            "flex": null,
            "_model_name": "LayoutModel",
            "justify_items": null,
            "grid_row": null,
            "max_height": null,
            "align_content": null,
            "visibility": null,
            "align_self": null,
            "height": null,
            "min_height": null,
            "padding": null,
            "grid_auto_rows": null,
            "grid_gap": null,
            "max_width": null,
            "order": null,
            "_view_module_version": "1.2.0",
            "grid_template_areas": null,
            "object_position": null,
            "object_fit": null,
            "grid_auto_columns": null,
            "margin": null,
            "display": null,
            "left": null
          }
        },
        "044680d31d174697995e983d21db79a1": {
          "model_module": "@jupyter-widgets/controls",
          "model_name": "SliderStyleModel",
          "model_module_version": "1.5.0",
          "state": {
            "_view_name": "StyleView",
            "handle_color": null,
            "_model_name": "SliderStyleModel",
            "description_width": "",
            "_view_module": "@jupyter-widgets/base",
            "_model_module_version": "1.5.0",
            "_view_count": null,
            "_view_module_version": "1.2.0",
            "_model_module": "@jupyter-widgets/controls"
          }
        },
        "609b39fb61764ae1a9928c2d8722ac1f": {
          "model_module": "@jupyter-widgets/base",
          "model_name": "LayoutModel",
          "model_module_version": "1.2.0",
          "state": {
            "_view_name": "LayoutView",
            "grid_template_rows": null,
            "right": null,
            "justify_content": null,
            "_view_module": "@jupyter-widgets/base",
            "overflow": null,
            "_model_module_version": "1.2.0",
            "_view_count": null,
            "flex_flow": null,
            "width": null,
            "min_width": null,
            "border": null,
            "align_items": null,
            "bottom": null,
            "_model_module": "@jupyter-widgets/base",
            "top": null,
            "grid_column": null,
            "overflow_y": null,
            "overflow_x": null,
            "grid_auto_flow": null,
            "grid_area": null,
            "grid_template_columns": null,
            "flex": null,
            "_model_name": "LayoutModel",
            "justify_items": null,
            "grid_row": null,
            "max_height": null,
            "align_content": null,
            "visibility": null,
            "align_self": null,
            "height": null,
            "min_height": null,
            "padding": null,
            "grid_auto_rows": null,
            "grid_gap": null,
            "max_width": null,
            "order": null,
            "_view_module_version": "1.2.0",
            "grid_template_areas": null,
            "object_position": null,
            "object_fit": null,
            "grid_auto_columns": null,
            "margin": null,
            "display": null,
            "left": null
          }
        },
        "78819b0e1e2245f9a0de7431d6fd2879": {
          "model_module": "@jupyter-widgets/base",
          "model_name": "LayoutModel",
          "model_module_version": "1.2.0",
          "state": {
            "_view_name": "LayoutView",
            "grid_template_rows": null,
            "right": null,
            "justify_content": null,
            "_view_module": "@jupyter-widgets/base",
            "overflow": null,
            "_model_module_version": "1.2.0",
            "_view_count": null,
            "flex_flow": null,
            "width": null,
            "min_width": null,
            "border": null,
            "align_items": null,
            "bottom": null,
            "_model_module": "@jupyter-widgets/base",
            "top": null,
            "grid_column": null,
            "overflow_y": null,
            "overflow_x": null,
            "grid_auto_flow": null,
            "grid_area": null,
            "grid_template_columns": null,
            "flex": null,
            "_model_name": "LayoutModel",
            "justify_items": null,
            "grid_row": null,
            "max_height": null,
            "align_content": null,
            "visibility": null,
            "align_self": null,
            "height": null,
            "min_height": null,
            "padding": null,
            "grid_auto_rows": null,
            "grid_gap": null,
            "max_width": null,
            "order": null,
            "_view_module_version": "1.2.0",
            "grid_template_areas": null,
            "object_position": null,
            "object_fit": null,
            "grid_auto_columns": null,
            "margin": null,
            "display": null,
            "left": null
          }
        }
      }
    }
  },
  "cells": [
    {
      "cell_type": "markdown",
      "metadata": {
        "id": "view-in-github",
        "colab_type": "text"
      },
      "source": [
        "<a href=\"https://colab.research.google.com/github/sigvehaug/Introduction-to-Python-for-Medical-Researchers/blob/master/07_-nteractive-Plotting-Sol.ipynb\" target=\"_parent\"><img src=\"https://colab.research.google.com/assets/colab-badge.svg\" alt=\"Open In Colab\"/></a>"
      ]
    },
    {
      "cell_type": "markdown",
      "metadata": {
        "id": "xHGzozvcJKjW"
      },
      "source": [
        "## 7 Interactive plotting"
      ]
    },
    {
      "cell_type": "markdown",
      "metadata": {
        "id": "9n8zX66VJKjW"
      },
      "source": [
        "Jupyter offers a solution to interact with various types of plots: ipywidget"
      ]
    },
    {
      "cell_type": "code",
      "metadata": {
        "id": "uGW7hR2VJKjW"
      },
      "source": [
        "from ipywidgets import interact, IntSlider"
      ],
      "execution_count": null,
      "outputs": []
    },
    {
      "cell_type": "markdown",
      "metadata": {
        "id": "GCP-CKr4JKjW"
      },
      "source": [
        "The interact() function takes as input a function and a value for that function. That function should plot or print some information. interact() then creates a widget, typically a slider, executes the plotting function and adjusts the ouptut when the slider is moving. For example:"
      ]
    },
    {
      "cell_type": "code",
      "metadata": {
        "id": "H8GUiNHkJKjW"
      },
      "source": [
        "def square(num=1):\n",
        "  print(str(num)+' squared is: '+ str(num*num))"
      ],
      "execution_count": null,
      "outputs": []
    },
    {
      "cell_type": "code",
      "metadata": {
        "id": "Jra707DOJKjW",
        "colab": {
          "base_uri": "https://localhost:8080/"
        },
        "outputId": "ec9a8338-1ff6-45d1-c90f-61af5ec68ded"
      },
      "source": [
        "square(3)"
      ],
      "execution_count": null,
      "outputs": [
        {
          "output_type": "stream",
          "name": "stdout",
          "text": [
            "3 squared is: 9\n"
          ]
        }
      ]
    },
    {
      "cell_type": "code",
      "metadata": {
        "colab": {
          "base_uri": "https://localhost:8080/",
          "height": 84,
          "referenced_widgets": [
            "6a0c037fcb23486caae4ae3f3e31fff5",
            "afa15e0da81c4aa491be0699c5545b87",
            "e3582472fff54cb4ba11ef6b5102149a",
            "d5ce0d43352749f4bebcfd4552d402ad",
            "54c8d75a972b447eb5a0027a3646d070",
            "ca572a21337141e0808dbcfc63f2bd28",
            "fb2d1165681b400d92d484fbd5b07951"
          ]
        },
        "id": "JbKp2mI4JKjW",
        "outputId": "09eb75fe-3011-4993-a1b7-9e61b1cfd3e3"
      },
      "source": [
        "interact(square, num=(0,20,1))"
      ],
      "execution_count": null,
      "outputs": [
        {
          "output_type": "display_data",
          "data": {
            "application/vnd.jupyter.widget-view+json": {
              "model_id": "6a0c037fcb23486caae4ae3f3e31fff5",
              "version_minor": 0,
              "version_major": 2
            },
            "text/plain": [
              "interactive(children=(IntSlider(value=1, description='num', max=20), Output()), _dom_classes=('widget-interact…"
            ]
          },
          "metadata": {}
        },
        {
          "output_type": "execute_result",
          "data": {
            "text/plain": [
              "<function __main__.square>"
            ]
          },
          "metadata": {},
          "execution_count": 7
        }
      ]
    },
    {
      "cell_type": "markdown",
      "metadata": {
        "id": "a5nRGEBWJKjW"
      },
      "source": [
        "Depending on the values passed as arugments, interact() will create different widgets. E.g. with text:"
      ]
    },
    {
      "cell_type": "code",
      "metadata": {
        "colab": {
          "base_uri": "https://localhost:8080/",
          "height": 85,
          "referenced_widgets": [
            "e02e513bf8924a5e825203a476d2879b",
            "4bba3dd4951d46bcb25d84d9713efae8",
            "b876b4601cbd401fbea2f9aa04151702",
            "55a53491ebac46319e018426244c0ff1",
            "8ba7e8aeb8e243089e4b0e5b650579c7",
            "6c2017ae1607485696ad12cc9c3ed987",
            "c489d44c70e948d6b417bd6fec954d80"
          ]
        },
        "id": "yzIYvUkmJKjW",
        "outputId": "75cb2c3a-c5c9-43ba-bd25-e91a1db7894f"
      },
      "source": [
        "def f(x):\n",
        "  return x\n",
        "interact(f,x='Sigve')"
      ],
      "execution_count": null,
      "outputs": [
        {
          "output_type": "display_data",
          "data": {
            "application/vnd.jupyter.widget-view+json": {
              "model_id": "e02e513bf8924a5e825203a476d2879b",
              "version_minor": 0,
              "version_major": 2
            },
            "text/plain": [
              "interactive(children=(Text(value='Sigve', description='x'), Output()), _dom_classes=('widget-interact',))"
            ]
          },
          "metadata": {}
        },
        {
          "output_type": "execute_result",
          "data": {
            "text/plain": [
              "<function __main__.f>"
            ]
          },
          "metadata": {},
          "execution_count": 9
        }
      ]
    },
    {
      "cell_type": "markdown",
      "metadata": {
        "id": "DGkCOn6JJKjX"
      },
      "source": [
        "An important note for our imaging topic: when moving the slider, the function is continuously updated. If the function does some computationally intensitve work, this might just overload the system. To avoid that, one can explicitly specifiy the slider type and its specificities:"
      ]
    },
    {
      "cell_type": "code",
      "metadata": {
        "colab": {
          "base_uri": "https://localhost:8080/",
          "height": 84,
          "referenced_widgets": [
            "9776f3d21dc74f25a7fad7fc19ab77c3",
            "38168ffc4dbf49ee83444af825b243eb",
            "d51f64aa11c94557bd533d29a6e875f6",
            "13446ff046cf47508e6864d2057690e7",
            "78dd5a64c6104ec389a3d4feeaa21d8e",
            "383a679661cb41cab2d13f30c67dd5d7",
            "b59a456f889e4f03a23a152d8b8ca9a4"
          ]
        },
        "id": "2mHR0dkhJKjX",
        "outputId": "cfe5a93a-4b51-4071-e20f-1f2c47fa8a2b"
      },
      "source": [
        "interact(square, num = IntSlider(min=-10, max=30, step=1, continous_update=False))"
      ],
      "execution_count": null,
      "outputs": [
        {
          "output_type": "display_data",
          "data": {
            "application/vnd.jupyter.widget-view+json": {
              "model_id": "9776f3d21dc74f25a7fad7fc19ab77c3",
              "version_minor": 0,
              "version_major": 2
            },
            "text/plain": [
              "interactive(children=(IntSlider(value=0, description='num', max=30, min=-10), Output()), _dom_classes=('widget…"
            ]
          },
          "metadata": {}
        },
        {
          "output_type": "execute_result",
          "data": {
            "text/plain": [
              "<function __main__.square>"
            ]
          },
          "metadata": {},
          "execution_count": 10
        }
      ]
    },
    {
      "cell_type": "markdown",
      "metadata": {
        "id": "vXlezj1JJKjX"
      },
      "source": [
        "If we want to scroll through our image stack we can do just that. Let's first define a function that cat plot the three RGB channels."
      ]
    },
    {
      "cell_type": "code",
      "metadata": {
        "id": "UFmAaGQQalqB"
      },
      "source": [
        "from skimage import io\n",
        "url_pre = 'https://raw.githubusercontent.com/sigvehaug/Introduction-to-Python-for-Medical-Researchers/master/Data/'\n",
        "url_name = 'ISIC_0000000.jpg'\n",
        "url = url_pre + url_name\n",
        "image = io.imread(url)"
      ],
      "execution_count": null,
      "outputs": []
    },
    {
      "cell_type": "code",
      "metadata": {
        "id": "leHRV1niJKjX"
      },
      "source": [
        "import matplotlib.pyplot as plt\n",
        "def plot_plane(t):\n",
        "  plt.imshow(image[:,:,t])\n",
        "  plt.show()\n"
      ],
      "execution_count": null,
      "outputs": []
    },
    {
      "cell_type": "code",
      "metadata": {
        "id": "C2sJ8K8jJKjX",
        "colab": {
          "base_uri": "https://localhost:8080/",
          "height": 318,
          "referenced_widgets": [
            "912007e45b9b41d8be896e7c8cb64812",
            "899c3f6589ce4002afeff3c8f6c6bcd4",
            "02c2307ec059406483ba09dfd1ff21fe",
            "9eef24346f26476686200458732ef6ea",
            "b538f905d7bc4c08bea5a15f96307a30",
            "96652a7c2f254e84bdc11c4e8890db41",
            "353b5d40df1c47bba790dca4202236cb"
          ]
        },
        "outputId": "fd715580-04a1-43d8-a993-088d1c3d391f"
      },
      "source": [
        "interact(plot_plane, t = IntSlider(min=0, max=2, step=1, continous_update=False))"
      ],
      "execution_count": null,
      "outputs": [
        {
          "output_type": "display_data",
          "data": {
            "application/vnd.jupyter.widget-view+json": {
              "model_id": "912007e45b9b41d8be896e7c8cb64812",
              "version_minor": 0,
              "version_major": 2
            },
            "text/plain": [
              "interactive(children=(IntSlider(value=0, description='t', max=2), Output()), _dom_classes=('widget-interact',)…"
            ]
          },
          "metadata": {}
        },
        {
          "output_type": "execute_result",
          "data": {
            "text/plain": [
              "<function __main__.plot_plane>"
            ]
          },
          "metadata": {},
          "execution_count": 13
        }
      ]
    },
    {
      "cell_type": "markdown",
      "metadata": {
        "id": "fvcSniXIJKjX"
      },
      "source": [
        "## Exercise\n",
        "\n",
        "- Make a list with all the filenames in dataset of the course by using a for loop and if statements\n",
        "- Read all the files into a list of images (use try and except to skip non existing files)\n",
        "- Use interact to call a function which makes it possible to scroll hrough the pictures with a ruler"
      ]
    },
    {
      "cell_type": "code",
      "metadata": {
        "id": "dEURhdsCeU5h"
      },
      "source": [
        "url_pre = 'https://raw.githubusercontent.com/sigvehaug/Introduction-to-Python-for-Medical-Researchers/master/Data/'"
      ],
      "execution_count": null,
      "outputs": []
    },
    {
      "cell_type": "code",
      "metadata": {
        "id": "acpGNUWwhVCZ"
      },
      "source": [
        "url_names = []\n",
        "for i in range(102):\n",
        "  if i < 10:\n",
        "    url_names.append(url_pre+'ISIC_000000'+str(i)+'.jpg')\n",
        "  elif i < 17:\n",
        "    url_names.append(url_pre+'ISIC_00000'+str(i)+'.jpg')\n",
        "  elif i < 66:\n",
        "    url_names.append(url_pre+'ISIC_00000'+str(i)+'_downsampled.jpg')\n",
        "  elif i < 77:\n",
        "    url_names.append(url_pre+'ISIC_00000'+str(i)+'.jpg')\n",
        "  elif i < 100:\n",
        "    url_names.append(url_pre+'ISIC_00000'+str(i)+'_downsampled.jpg')\n",
        "  else:\n",
        "    url_names.append(url_pre+'ISIC_0000'+str(i)+'_downsampled.jpg')\n",
        "#for url in url_names:\n",
        "#  print(url)"
      ],
      "execution_count": null,
      "outputs": []
    },
    {
      "cell_type": "code",
      "metadata": {
        "id": "9f00GkIlLl2b"
      },
      "source": [
        "#for url in url_names:\n",
        "#  print(url)"
      ],
      "execution_count": null,
      "outputs": []
    },
    {
      "cell_type": "code",
      "metadata": {
        "id": "Ake4Dw6eh30_"
      },
      "source": [
        "#import os\n",
        "#os.listdir('/content/')"
      ],
      "execution_count": null,
      "outputs": []
    },
    {
      "cell_type": "code",
      "metadata": {
        "id": "r6ybgqT6P6GO"
      },
      "source": [
        "#from skimage import io\n",
        "#io.imread(url_names[0])"
      ],
      "execution_count": null,
      "outputs": []
    },
    {
      "cell_type": "code",
      "metadata": {
        "id": "3WklFK2tJKjX"
      },
      "source": [
        "images = []\n",
        "for url in url_names:\n",
        "  try:\n",
        "    images.append(io.imread(url))\n",
        "  except:\n",
        "    continue\n"
      ],
      "execution_count": null,
      "outputs": []
    },
    {
      "cell_type": "code",
      "metadata": {
        "id": "ghNFVKRNLPBN"
      },
      "source": [
        "images"
      ],
      "execution_count": null,
      "outputs": []
    },
    {
      "cell_type": "code",
      "metadata": {
        "id": "NHr9KdiaJnUQ",
        "colab": {
          "base_uri": "https://localhost:8080/",
          "height": 287
        },
        "outputId": "52eb67e4-c289-4c8e-e678-c29d64c7f3e9"
      },
      "source": [
        "plt.imshow(images[0])"
      ],
      "execution_count": null,
      "outputs": [
        {
          "output_type": "execute_result",
          "data": {
            "text/plain": [
              "<matplotlib.image.AxesImage at 0x7f4d46ee0a90>"
            ]
          },
          "metadata": {},
          "execution_count": 23
        },
        {
          "output_type": "display_data",
          "data": {
            "image/png": "[encoded data removed]",
            "text/plain": [
              "<Figure size 432x288 with 1 Axes>"
            ]
          },
          "metadata": {
            "needs_background": "light"
          }
        }
      ]
    },
    {
      "cell_type": "code",
      "metadata": {
        "id": "lxeC_q2jKPSc"
      },
      "source": [
        "def plot_image(i,r1,r2,c1,c2, channel):\n",
        "  print('This is a little app where you can show an image in the dataset by selecting the (rectangular) pixel range to be shown. ')  \n",
        "  img = images[i]\n",
        "  plt.imshow(image[r1:r2,c1:c2,channel])\n",
        "  plt.show()"
      ],
      "execution_count": null,
      "outputs": []
    },
    {
      "cell_type": "code",
      "metadata": {
        "id": "FUVqV5crLF8l",
        "colab": {
          "base_uri": "https://localhost:8080/"
        },
        "outputId": "5940a624-4b04-4354-ff36-2733f289175d"
      },
      "source": [
        "image[0].shape"
      ],
      "execution_count": null,
      "outputs": [
        {
          "output_type": "execute_result",
          "data": {
            "text/plain": [
              "(1022, 3)"
            ]
          },
          "metadata": {},
          "execution_count": 37
        }
      ]
    },
    {
      "cell_type": "code",
      "metadata": {
        "id": "4SWDBRiqKucW",
        "colab": {
          "base_uri": "https://localhost:8080/",
          "height": 496,
          "referenced_widgets": [
            "1e79362c50b347538a75dd8cf4e22a16",
            "bff6bcfae21c4159af1c915181fe48b5",
            "6957629323b545389f85007876541ae7",
            "66f822479fe84561ae13bbbfeea78e93",
            "8a4018e665b64b0c8e6eb597b1707949",
            "32519f8345b74679a25b870004ae5a83",
            "97860c695841477bab737809d9198445",
            "c8da9ceb8f4947a19feb78988b8bd4ab",
            "a0f5d3787f074949b53aac0103cd5501",
            "25e9ab61f0d0428584258d39c0cc8b85",
            "224e064f179e436d988b8266cfa4a793",
            "801325ee6b3f44f1a301abc8073f7364",
            "5a80149f821e45d6969ba0c5ba4373f1",
            "b6ef8b6908584b579a84f0ffea96c4df",
            "f387b97d60a04ffdab019287f809e7d1",
            "a582eb075ded42879576ff6731ad1a3d",
            "f4354077852f4ae79a14f1fdeb79acb9",
            "c5aedcd7a3fe41c7ad0ef1a1da51f43d",
            "2030882c26e84e7c828798aa02c6140b",
            "044680d31d174697995e983d21db79a1",
            "609b39fb61764ae1a9928c2d8722ac1f",
            "78819b0e1e2245f9a0de7431d6fd2879"
          ]
        },
        "outputId": "53e6ae39-9382-4b21-ffba-6c179a0ef49f"
      },
      "source": [
        "interact(plot_image, i = IntSlider(min=0,max=len(images), step=1 , continous_apdate=False), r1 = (0,500,1), r2=(0,1022,1), c1 = (0,500,1), c2=(0,800,1), channel=(0,2,1) )"
      ],
      "execution_count": null,
      "outputs": [
        {
          "output_type": "display_data",
          "data": {
            "application/vnd.jupyter.widget-view+json": {
              "model_id": "1e79362c50b347538a75dd8cf4e22a16",
              "version_minor": 0,
              "version_major": 2
            },
            "text/plain": [
              "interactive(children=(IntSlider(value=0, description='i', max=95), IntSlider(value=250, description='r1', max=…"
            ]
          },
          "metadata": {}
        },
        {
          "output_type": "execute_result",
          "data": {
            "text/plain": [
              "<function __main__.plot_image>"
            ]
          },
          "metadata": {},
          "execution_count": 49
        }
      ]
    },
    {
      "cell_type": "code",
      "metadata": {
        "id": "J4t6xEqmMVBI"
      },
      "source": [
        ""
      ],
      "execution_count": null,
      "outputs": []
    }
  ]
}