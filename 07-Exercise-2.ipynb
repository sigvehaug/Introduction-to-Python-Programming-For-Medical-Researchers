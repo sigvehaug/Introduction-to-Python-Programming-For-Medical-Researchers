{
  "nbformat": 4,
  "nbformat_minor": 0,
  "metadata": {
    "anaconda-cloud": {},
    "kernelspec": {
      "display_name": "Python 3",
      "language": "python",
      "name": "python3"
    },
    "language_info": {
      "codemirror_mode": {
        "name": "ipython",
        "version": 3
      },
      "file_extension": ".py",
      "mimetype": "text/x-python",
      "name": "python",
      "nbconvert_exporter": "python",
      "pygments_lexer": "ipython3",
      "version": "3.6.8"
    },
    "colab": {
      "name": "7-Exercise-2.ipynb",
      "provenance": [],
      "include_colab_link": true
    }
  },
  "cells": [
    {
      "cell_type": "markdown",
      "metadata": {
        "id": "view-in-github",
        "colab_type": "text"
      },
      "source": [
        "<a href=\"https://colab.research.google.com/github/sigvehaug/Introduction-to-Python-for-Medical-Researchers/blob/master/07-Exercise-2.ipynb\" target=\"_parent\"><img src=\"https://colab.research.google.com/assets/colab-badge.svg\" alt=\"Open In Colab\"/></a>"
      ]
    },
    {
      "cell_type": "markdown",
      "metadata": {
        "id": "rzrzHykrUoFO"
      },
      "source": [
        "Introduction to Python Programming for Medical Researchers, University of Bern, Sigve Haug"
      ]
    },
    {
      "cell_type": "markdown",
      "metadata": {
        "id": "cpigRldCUqre"
      },
      "source": [
        "# Exercise 2 - (60 min) - Homework for next lecture\n",
        "\n",
        "Skin cancer is the most common cancer globally, with melanoma being the most deadly form. [ISIC](https://challenge2019.isic-archive.com/) arranges machine learning challenges on automatic classification based on training with many thousand labeled skin lesian images. In this course we don't do machine learning, however some basic image management and data analysis with Python.\n",
        "\n",
        "In the [github repository](https://github.com/sigvehaug/Introduction-to-Python-for-Medical-Researchers/tree/master/Data) of the course there are about 100 images and an excel (csv) file with the image labeling indicating the type of cancer. \n",
        "\n",
        "Use course examples 1 and 2 to fullfil the following tasks in a Jupyter notebook. \n",
        "\n",
        "### Tasks\n",
        "\n",
        "- What is the relative weight (%) of each cancer type in the dataset? For this task, load the excel file into a datafame and extract the numbers and plot them with a histogram.\n",
        "- Use the dataframe to identify 10 images from each class and plot them from the images available in the github repository.\n",
        "\n",
        "### Delivery and Deadline\n",
        "\n",
        "You will be assigned to another course colleague and you solve the exercise togehter. \n",
        "- Upload your notebook to the e-learningplatform of the course with the following file name convention: EX2-NamePerson1-NamePerson2.ipynb\n",
        "- Deadline for upload is September 15 (evening).\n",
        "\n",
        "Many thanks and have fun !\n",
        "---\n"
      ]
    },
    {
      "cell_type": "markdown",
      "metadata": {
        "id": "1b7ZWKZgeln0"
      },
      "source": [
        "---\n",
        "\n",
        "## Mandatory Feedback (one question)\n",
        "\n",
        "Please fill this [feedback form](https://forms.gle/J5AwyCXcR5sXcJsv6). Many thanks !"
      ]
    }
  ]
}