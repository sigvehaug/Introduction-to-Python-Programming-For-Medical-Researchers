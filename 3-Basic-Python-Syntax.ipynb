{
  "nbformat": 4,
  "nbformat_minor": 0,
  "metadata": {
    "anaconda-cloud": {},
    "kernelspec": {
      "display_name": "Python 3",
      "language": "python",
      "name": "python3"
    },
    "language_info": {
      "codemirror_mode": {
        "name": "ipython",
        "version": 3
      },
      "file_extension": ".py",
      "mimetype": "text/x-python",
      "name": "python",
      "nbconvert_exporter": "python",
      "pygments_lexer": "ipython3",
      "version": "3.6.8"
    },
    "colab": {
      "name": "02-Basic-Python-Syntax.ipynb",
      "provenance": [],
      "include_colab_link": true
    }
  },
  "cells": [
    {
      "cell_type": "markdown",
      "metadata": {
        "id": "view-in-github",
        "colab_type": "text"
      },
      "source": [
        "<a href=\"https://colab.research.google.com/github/sigvehaug/Introduction-to-Python-Programming-For-Medical-Researchers/blob/master/3-Basic-Python-Syntax.ipynb\" target=\"_parent\"><img src=\"https://colab.research.google.com/assets/colab-badge.svg\" alt=\"Open In Colab\"/></a>"
      ]
    },
    {
      "cell_type": "markdown",
      "metadata": {
        "id": "GbB2F0nUnmkv"
      },
      "source": [
        "<!--BOOK_INFORMATION-->\n",
        "<img align=\"left\" style=\"padding-right:10px;\" src=\"https://github.com/sigvehaug/Introduction-to-Python-Programming-For-Medical-Researchers/blob/master/Course/fig/cover-small.jpg?raw=1\">\n",
        "\n",
        "*This notebook contains an excerpt from the [Whirlwind Tour of Python](http://www.oreilly.com/programming/free/a-whirlwind-tour-of-python.csp) by Jake VanderPlas; the content is available [on GitHub](https://github.com/jakevdp/WhirlwindTourOfPython).*\n",
        "\n",
        "*The text and code are released under the [CC0](https://github.com/jakevdp/WhirlwindTourOfPython/blob/master/LICENSE) license; see also the companion project, the [Python Data Science Handbook](https://github.com/jakevdp/PythonDataScienceHandbook).*\n"
      ]
    },
    {
      "cell_type": "markdown",
      "metadata": {
        "id": "e0mkSBmpnmkz"
      },
      "source": [
        "<!--NAVIGATION-->\n",
        "< [How to Run Python Code](01-How-to-Run-Python-Code.ipynb) | [Contents](Index.ipynb) | [Basic Python Semantics: Variables and Objects](03-Semantics-Variables.ipynb) >"
      ]
    },
    {
      "cell_type": "markdown",
      "metadata": {
        "id": "7o5d-zXknmk0"
      },
      "source": [
        "# A Quick Tour of Python Language Syntax"
      ]
    },
    {
      "cell_type": "code",
      "metadata": {
        "id": "6yvQawUpn-2u"
      },
      "source": [
        "# Comments start with a #. They can also come after the code on the same line\n",
        "print('Hello') # Write Hello "
      ],
      "execution_count": null,
      "outputs": []
    },
    {
      "cell_type": "code",
      "metadata": {
        "id": "tOcDxEO4oSjf",
        "outputId": "a3d27ea3-1bbb-4894-9d76-19dcb7259670",
        "colab": {
          "base_uri": "https://localhost:8080/"
        }
      },
      "source": [
        "# Multiline commands can be written with backslash \\ or ()\n",
        "\n",
        "sum = 2 + 3 + 5 \\\n",
        "      - 5*2\n",
        "print(sum)\n",
        "sum = (2 + 3 + 5\n",
        "      - 5*2)\n",
        "print(sum)"
      ],
      "execution_count": 3,
      "outputs": [
        {
          "output_type": "stream",
          "name": "stdout",
          "text": [
            "0\n",
            "0\n"
          ]
        }
      ]
    },
    {
      "cell_type": "code",
      "metadata": {
        "id": "gclk2kU9pP1F",
        "outputId": "7d4398e2-9751-49fb-dbc8-111e1149d38a",
        "colab": {
          "base_uri": "https://localhost:8080/"
        }
      },
      "source": [
        "# One may write multiple statements on one line by separating with ;\n",
        "x=5; y=6; print(x-y)"
      ],
      "execution_count": 4,
      "outputs": [
        {
          "output_type": "stream",
          "name": "stdout",
          "text": [
            "-1\n"
          ]
        }
      ]
    },
    {
      "cell_type": "code",
      "metadata": {
        "id": "3Jj0aXlHpv-c",
        "outputId": "02b5e2ab-bc19-458d-8c01-daf58db580bf",
        "colab": {
          "base_uri": "https://localhost:8080/"
        }
      },
      "source": [
        "# Codeblocks are indicated by intendation and :\n",
        "for i in range(3):\n",
        "  sum+=i\n",
        "print(sum) # Note that Python starts counting at 0"
      ],
      "execution_count": 5,
      "outputs": [
        {
          "output_type": "stream",
          "name": "stdout",
          "text": [
            "3\n"
          ]
        }
      ]
    },
    {
      "cell_type": "code",
      "metadata": {
        "id": "_xJAPCu3qd7n",
        "outputId": "24e3fa17-4233-4e08-ab31-8a418512e765",
        "colab": {
          "base_uri": "https://localhost:8080/"
        }
      },
      "source": [
        "# Parentheses () Are for Grouping or Calling\n",
        "y = 2 * (3+4) # Grouping\n",
        "print(y) # Calling\n",
        "L = [4,2,3,1]\n",
        "L.sort()  # Calling\n",
        "print(L) # Calling\n"
      ],
      "execution_count": 6,
      "outputs": [
        {
          "output_type": "stream",
          "name": "stdout",
          "text": [
            "14\n",
            "[1, 2, 3, 4]\n"
          ]
        }
      ]
    },
    {
      "cell_type": "markdown",
      "metadata": {
        "id": "lK-q9bm8nmlC"
      },
      "source": [
        "## Finishing Up on the Syntax and Learning More\n",
        "\n",
        "This has been a very brief exploration of the essential features of Python syntax; its purpose is to give you a good frame of reference for when you're reading the code in later sections.\n",
        "Several times we've mentioned Python \"style guides\", which can help teams to write code in a consistent style.\n",
        "The most widely used style guide in Python is known as PEP8, and can be found at https://www.python.org/dev/peps/pep-0008/.\n",
        "As you begin to write more Python code, it would be useful to read through this!\n",
        "The style suggestions contain the wisdom of many Python gurus, and most suggestions go beyond simple pedantry: they are experience-based recommendations that can help avoid subtle mistakes and bugs in your code."
      ]
    },
    {
      "cell_type": "markdown",
      "metadata": {
        "id": "TZ3BVJjMrd6Q"
      },
      "source": [
        ""
      ]
    },
    {
      "cell_type": "markdown",
      "metadata": {
        "id": "LxyrMMXGnmlC"
      },
      "source": [
        "<!--NAVIGATION-->\n",
        "< [How to Run Python Code](01-How-to-Run-Python-Code.ipynb) | [Contents](Index.ipynb) | [Basic Python Semantics: Variables and Objects](03-Semantics-Variables.ipynb) >"
      ]
    }
  ]
}