{
  "nbformat": 4,
  "nbformat_minor": 0,
  "metadata": {
    "anaconda-cloud": {},
    "kernelspec": {
      "display_name": "Python 3",
      "language": "python",
      "name": "python3"
    },
    "language_info": {
      "codemirror_mode": {
        "name": "ipython",
        "version": 3
      },
      "file_extension": ".py",
      "mimetype": "text/x-python",
      "name": "python",
      "nbconvert_exporter": "python",
      "pygments_lexer": "ipython3",
      "version": "3.6.8"
    },
    "colab": {
      "name": "6-Basic-Python-2.ipynb",
      "provenance": [],
      "include_colab_link": true
    }
  },
  "cells": [
    {
      "cell_type": "markdown",
      "metadata": {
        "id": "view-in-github",
        "colab_type": "text"
      },
      "source": [
        "<a href=\"https://colab.research.google.com/github/sigvehaug/Introduction-to-Python-Programming-For-Medical-Researchers/blob/master/6-Basic-Python-2.ipynb\" target=\"_parent\"><img src=\"https://colab.research.google.com/assets/colab-badge.svg\" alt=\"Open In Colab\"/></a>"
      ]
    },
    {
      "cell_type": "markdown",
      "metadata": {
        "id": "GbB2F0nUnmkv"
      },
      "source": [
        "<!--BOOK_INFORMATION-->\n",
        "<img align=\"left\" style=\"padding-right:10px;\" src=\"https://github.com/sigvehaug/Introduction-to-Python-Programming-For-Medical-Researchers/blob/master/Course/fig/cover-small.jpg?raw=1\">\n",
        "\n",
        "*This notebook contains an excerpt from the [Whirlwind Tour of Python](http://www.oreilly.com/programming/free/a-whirlwind-tour-of-python.csp) by Jake VanderPlas; the content is available [on GitHub](https://github.com/jakevdp/WhirlwindTourOfPython).*\n",
        "\n",
        "*The text and code are released under the [CC0](https://github.com/jakevdp/WhirlwindTourOfPython/blob/master/LICENSE) license; see also the companion project, the [Python Data Science Handbook](https://github.com/jakevdp/PythonDataScienceHandbook).*\n"
      ]
    },
    {
      "cell_type": "markdown",
      "metadata": {
        "id": "rzrzHykrUoFO"
      },
      "source": [
        "Introduction to Python Programming for Medical Researchers, University of Bern, Sigve Haug"
      ]
    },
    {
      "cell_type": "markdown",
      "metadata": {
        "id": "cpigRldCUqre"
      },
      "source": [
        "# Basic Python 2 (60 min)\n",
        "\n",
        "This notebook is a systematic and very condensed overview of\n",
        "- Python Control Flow\n",
        "- Python Functions\n",
        "- Python Strings and Regular expressions\n",
        "- Python File and Operating System Operations\n",
        "- Python File Reading and Writing\n",
        "- Python Modules and Packages\n",
        "\n",
        "The content is basic and belongs to necessary knowledge by any Python programmers. One does not learn it by heart, however, after some hours of practicing Python, it automatically becomes active knowledge.\n",
        "\n",
        "It corresponds to the chapters 7, 8, 13, 14 and 15 of the book referenced above. There you may get more detailed descriptions. The chapters on Errors and Exceptions, Iterators, List Comprehensions and Generators we don't cover here. You may read them in the book."
      ]
    },
    {
      "cell_type": "markdown",
      "metadata": {
        "id": "7o5d-zXknmk0"
      },
      "source": [
        "## Control Flow"
      ]
    },
    {
      "cell_type": "markdown",
      "metadata": {
        "id": "eOJcaRgop2Iv"
      },
      "source": [
        "Control flow is where the rubber really meets the road in programming. Without it, a program is simply a list of statements that are sequentially executed. With control flow, you can execute certain code blocks conditionally and/or repeatedly: these basic building blocks can be combined to create surprisingly sophisticated programs!\n",
        "\n",
        "Here we'll cover conditional statements (including \"if\", \"elif\", and \"else\"), loop statements (including \"for\" and \"while\" and the accompanying \"break\", \"continue\", and \"pass\")."
      ]
    },
    {
      "cell_type": "markdown",
      "metadata": {
        "id": "lR0KjE6rp6Nk"
      },
      "source": [
        "### Conditional Statements: if-elif-else"
      ]
    },
    {
      "cell_type": "code",
      "metadata": {
        "id": "6yvQawUpn-2u",
        "colab": {
          "base_uri": "https://localhost:8080/"
        },
        "outputId": "b678c9a8-9c4e-47f6-d10e-d8d66cc28aa6"
      },
      "source": [
        "x = -15\n",
        "if x == 0:\n",
        "    print(x, \"is zero\")\n",
        "elif x > 0:\n",
        "    print(x, \"is positive\")\n",
        "elif x < 0:\n",
        "    print(x, \"is negative\")\n",
        "else:\n",
        "    print(x, \"is unlike anything I've ever seen...\")"
      ],
      "execution_count": 1,
      "outputs": [
        {
          "output_type": "stream",
          "name": "stdout",
          "text": [
            "-15 is negative\n"
          ]
        }
      ]
    },
    {
      "cell_type": "markdown",
      "metadata": {
        "id": "aHFF0F73qYh5"
      },
      "source": [
        "### for Loops"
      ]
    },
    {
      "cell_type": "code",
      "metadata": {
        "colab": {
          "base_uri": "https://localhost:8080/"
        },
        "id": "tOcDxEO4oSjf",
        "outputId": "374c87fd-1776-4299-91b9-252cef187dfc"
      },
      "source": [
        "\n",
        "for N in [2, 3, 5, 7]:\n",
        "    print(N, end=' ') # print all on same line\n",
        "print()\n",
        "for i in range(10):\n",
        "    print(i, end=' ')\n",
        "print()\n",
        "for i in range(6,60,5):\n",
        "    print(i, end=' ') "
      ],
      "execution_count": 5,
      "outputs": [
        {
          "output_type": "stream",
          "name": "stdout",
          "text": [
            "2 3 5 7 \n",
            "0 1 2 3 4 5 6 7 8 9 \n",
            "6 11 16 21 26 31 36 41 46 51 56 "
          ]
        }
      ]
    },
    {
      "cell_type": "markdown",
      "metadata": {
        "id": "Ma7mjiqmrM5M"
      },
      "source": [
        "### while Loops"
      ]
    },
    {
      "cell_type": "code",
      "metadata": {
        "id": "bQ_6CPCULCRO",
        "colab": {
          "base_uri": "https://localhost:8080/"
        },
        "outputId": "fcdb3d5a-1e1f-4394-c9a7-b57de1fd62fd"
      },
      "source": [
        "i = 0\n",
        "while i < 10:\n",
        "    print(i, end=' ')\n",
        "    i += 1\n"
      ],
      "execution_count": 6,
      "outputs": [
        {
          "output_type": "stream",
          "name": "stdout",
          "text": [
            "0 1 2 3 4 5 6 7 8 9 "
          ]
        }
      ]
    },
    {
      "cell_type": "markdown",
      "metadata": {
        "id": "HKMKM97NrVWX"
      },
      "source": [
        "### break and continue"
      ]
    },
    {
      "cell_type": "code",
      "metadata": {
        "colab": {
          "base_uri": "https://localhost:8080/"
        },
        "id": "EqKNb1VsrT_A",
        "outputId": "559d58bd-5b44-4e51-e676-016737fcca72"
      },
      "source": [
        "for n in range(20):\n",
        "    # if the remainder of n / 2 is 0, skip the rest of the loop\n",
        "    if n % 2 == 0:\n",
        "        continue\n",
        "    print(n, end=' ')"
      ],
      "execution_count": 7,
      "outputs": [
        {
          "output_type": "stream",
          "name": "stdout",
          "text": [
            "1 3 5 7 9 11 13 15 17 19 "
          ]
        }
      ]
    },
    {
      "cell_type": "code",
      "metadata": {
        "colab": {
          "base_uri": "https://localhost:8080/"
        },
        "id": "JLMZdGGsrfTw",
        "outputId": "071755aa-a3c8-4eeb-9829-61cfc8497d27"
      },
      "source": [
        "a, b = 0, 1\n",
        "amax = 100\n",
        "L = []\n",
        "\n",
        "while True:\n",
        "    (a, b) = (b, a + b)\n",
        "    if a > amax:\n",
        "        break\n",
        "    L.append(a)\n",
        "\n",
        "print(L)"
      ],
      "execution_count": 8,
      "outputs": [
        {
          "output_type": "stream",
          "name": "stdout",
          "text": [
            "[1, 1, 2, 3, 5, 8, 13, 21, 34, 55, 89]\n"
          ]
        }
      ]
    },
    {
      "cell_type": "code",
      "metadata": {
        "colab": {
          "base_uri": "https://localhost:8080/"
        },
        "id": "PUTf66F9rpyt",
        "outputId": "1d6f97a0-e516-4514-b748-a30e17cebb3d"
      },
      "source": [
        "# Loop with an else block\n",
        "L = []\n",
        "nmax = 30\n",
        "\n",
        "for n in range(2, nmax):\n",
        "    for factor in L:\n",
        "        if n % factor == 0:\n",
        "            break\n",
        "    else: # no break\n",
        "        L.append(n)\n",
        "print(L)"
      ],
      "execution_count": 9,
      "outputs": [
        {
          "output_type": "stream",
          "name": "stdout",
          "text": [
            "[2, 3, 5, 7, 11, 13, 17, 19, 23, 29]\n"
          ]
        }
      ]
    },
    {
      "cell_type": "code",
      "metadata": {
        "id": "TfEsRLEzr0re"
      },
      "source": [
        ""
      ],
      "execution_count": null,
      "outputs": []
    },
    {
      "cell_type": "markdown",
      "metadata": {
        "id": "HkuA8EhlsdpJ"
      },
      "source": [
        "## Defining and Using Functions\n",
        "\n",
        "So far, our scripts have been simple, single-use code blocks. One way to organize our Python code and to make it more readable and reusable is to factor-out useful pieces into reusable functions. Here we'll cover two ways of creating functions: the def statement, useful for any type of function, and the lambda statement, useful for creating short anonymous functions."
      ]
    },
    {
      "cell_type": "code",
      "metadata": {
        "colab": {
          "base_uri": "https://localhost:8080/"
        },
        "id": "BNOGOaoisjv2",
        "outputId": "9516567d-7c5e-44ef-fe20-85aa3db6bbf4"
      },
      "source": [
        "# Define/write a function calculating the fibonacci numbers\n",
        "def fibonacci(N):\n",
        "    L = []\n",
        "    a, b = 0, 1\n",
        "    while len(L) < N:\n",
        "        a, b = b, a + b\n",
        "        L.append(a)\n",
        "    return L\n",
        "# Call that function\n",
        "fibonacci(10)"
      ],
      "execution_count": 10,
      "outputs": [
        {
          "output_type": "execute_result",
          "data": {
            "text/plain": [
              "[1, 1, 2, 3, 5, 8, 13, 21, 34, 55]"
            ]
          },
          "metadata": {},
          "execution_count": 10
        }
      ]
    },
    {
      "cell_type": "code",
      "metadata": {
        "colab": {
          "base_uri": "https://localhost:8080/"
        },
        "id": "kPec2drCssw_",
        "outputId": "0e71727c-78c0-4fa8-b6f9-f56af878108c"
      },
      "source": [
        "def real_imag_conj(val):\n",
        "    return val.real, val.imag, val.conjugate()\n",
        "\n",
        "r, i, c = real_imag_conj(3 + 4j)\n",
        "print(r, i, c)"
      ],
      "execution_count": 11,
      "outputs": [
        {
          "output_type": "stream",
          "name": "stdout",
          "text": [
            "3.0 4.0 (3-4j)\n"
          ]
        }
      ]
    },
    {
      "cell_type": "code",
      "metadata": {
        "colab": {
          "base_uri": "https://localhost:8080/"
        },
        "id": "cHMxRpBPs_gV",
        "outputId": "a5ba2cc9-721d-4cbd-9df3-043f1f9e1199"
      },
      "source": [
        "# Default arguments\n",
        "def fibonacci(N, a=0, b=1):\n",
        "    L = []\n",
        "    while len(L) < N:\n",
        "        a, b = b, a + b\n",
        "        L.append(a)\n",
        "    return L\n",
        "\n",
        "print(fibonacci(10))\n",
        "print(fibonacci(10,3,1))\n",
        "print(fibonacci(10, b=3, a=1))\n"
      ],
      "execution_count": 14,
      "outputs": [
        {
          "output_type": "stream",
          "name": "stdout",
          "text": [
            "[1, 1, 2, 3, 5, 8, 13, 21, 34, 55]\n",
            "[1, 4, 5, 9, 14, 23, 37, 60, 97, 157]\n",
            "[3, 4, 7, 11, 18, 29, 47, 76, 123, 199]\n"
          ]
        }
      ]
    },
    {
      "cell_type": "markdown",
      "metadata": {
        "id": "8cbjKzwFtw7b"
      },
      "source": [
        "### \\*args and **kwargs: Flexible Arguments\n",
        "\n",
        "Sometimes you might wish to write a function in which you don't initially know how many arguments the user will pass. In this case, you can use the special form *args and **kwargs to catch all arguments that are passed. Here is an example:"
      ]
    },
    {
      "cell_type": "code",
      "metadata": {
        "colab": {
          "base_uri": "https://localhost:8080/"
        },
        "id": "5SGgTXxotTol",
        "outputId": "20eadbdb-d9e1-41f4-db63-f03f98f44465"
      },
      "source": [
        "def catch_all(*args, **kwargs):\n",
        "    print(\"args =\", args)\n",
        "    print(\"kwargs = \", kwargs)\n",
        "\n",
        "catch_all(1, 2, 3, a=4, b=5)\n",
        "catch_all('a', keyword=2)"
      ],
      "execution_count": 15,
      "outputs": [
        {
          "output_type": "stream",
          "name": "stdout",
          "text": [
            "args = (1, 2, 3)\n",
            "kwargs =  {'a': 4, 'b': 5}\n",
            "args = ('a',)\n",
            "kwargs =  {'keyword': 2}\n"
          ]
        }
      ]
    },
    {
      "cell_type": "markdown",
      "metadata": {
        "id": "2wjL1eARuQIl"
      },
      "source": [
        "\n",
        "### Anonymous (lambda) Functions\n",
        "\n",
        "Earlier we quickly covered the most common way of defining functions, the def statement. You'll likely come across another way of defining short, one-off functions with the lambda statement. It looks something like this:"
      ]
    },
    {
      "cell_type": "code",
      "metadata": {
        "colab": {
          "base_uri": "https://localhost:8080/"
        },
        "id": "X1SMnFmGuFYU",
        "outputId": "f70643c1-7d04-4acc-ce8f-34588e964140"
      },
      "source": [
        "\n",
        "add = lambda x, y: x + y\n",
        "add(1, 2)"
      ],
      "execution_count": 16,
      "outputs": [
        {
          "output_type": "execute_result",
          "data": {
            "text/plain": [
              "3"
            ]
          },
          "metadata": {},
          "execution_count": 16
        }
      ]
    },
    {
      "cell_type": "code",
      "metadata": {
        "id": "kALNFH2oukJc"
      },
      "source": [
        ""
      ],
      "execution_count": null,
      "outputs": []
    },
    {
      "cell_type": "markdown",
      "metadata": {
        "id": "gVmK2F_Bv0K1"
      },
      "source": [
        "## String Manipulation and Regular Expressions\n",
        "\n",
        "One place where the Python language really shines is in the manipulation of strings. This section will cover some of Python's built-in string methods and formatting operations, before moving on to a quick guide to the extremely useful subject of regular expressions. Such string manipulation patterns come up often in the context of data science work, and is one big perk of Python in this context.\n",
        "\n",
        "Strings in Python can be defined using either single or double quotations (they are functionally equivalent):"
      ]
    },
    {
      "cell_type": "code",
      "metadata": {
        "colab": {
          "base_uri": "https://localhost:8080/"
        },
        "id": "0l2HG8VcwN0A",
        "outputId": "54c4e969-ec19-4e47-a0da-b7cf11aca60f"
      },
      "source": [
        "x = 'a string'\n",
        "y = \"a string\"\n",
        "x == y"
      ],
      "execution_count": 17,
      "outputs": [
        {
          "output_type": "execute_result",
          "data": {
            "text/plain": [
              "True"
            ]
          },
          "metadata": {},
          "execution_count": 17
        }
      ]
    },
    {
      "cell_type": "code",
      "metadata": {
        "id": "RvSpFAljw3vE"
      },
      "source": [
        "# Multiline strings\n",
        "multiline = \"\"\"\n",
        "one\n",
        "two\n",
        "three\n",
        "\"\"\""
      ],
      "execution_count": 18,
      "outputs": []
    },
    {
      "cell_type": "markdown",
      "metadata": {
        "id": "nqLu4L-bw-g8"
      },
      "source": [
        "\n",
        "With this, let's take a quick tour of some of Python's string manipulation tools."
      ]
    },
    {
      "cell_type": "code",
      "metadata": {
        "colab": {
          "base_uri": "https://localhost:8080/"
        },
        "id": "BHb9U59tw9ed",
        "outputId": "8ce78de5-2943-42fa-ca17-3e6df82e51e6"
      },
      "source": [
        "fox = \"tHe qUICk bROWn fOx.\"\n",
        "print(fox.upper())\n",
        "print(fox.lower())\n",
        "print(fox.title())\n",
        "print(fox.capitalize())\n",
        "print(fox.swapcase())"
      ],
      "execution_count": 20,
      "outputs": [
        {
          "output_type": "stream",
          "name": "stdout",
          "text": [
            "THE QUICK BROWN FOX.\n",
            "the quick brown fox.\n",
            "The Quick Brown Fox.\n",
            "The quick brown fox.\n",
            "ThE QuicK BrowN FoX.\n"
          ]
        }
      ]
    },
    {
      "cell_type": "code",
      "metadata": {
        "colab": {
          "base_uri": "https://localhost:8080/"
        },
        "id": "xMu8D22sxbju",
        "outputId": "6527012e-507e-4728-955a-ac8415f8556c"
      },
      "source": [
        "fox = \"       tHe   qUICk bROWn fOx.\"\n",
        "print(fox)\n",
        "print(fox.strip())\n",
        "print(fox.lstrip())\n",
        "print(fox.rstrip())\n",
        "print(fox.rstrip('.'))\n",
        "print(fox.replace('Ox','XX'))"
      ],
      "execution_count": 29,
      "outputs": [
        {
          "output_type": "stream",
          "name": "stdout",
          "text": [
            "       tHe   qUICk bROWn fOx.\n",
            "tHe   qUICk bROWn fOx.\n",
            "tHe   qUICk bROWn fOx.\n",
            "       tHe   qUICk bROWn fOx.\n",
            "       tHe   qUICk bROWn fOx\n",
            "       tHe   qUICk bROWn fXX.\n"
          ]
        }
      ]
    },
    {
      "cell_type": "markdown",
      "metadata": {
        "id": "GvEfvI0nzZRT"
      },
      "source": [
        "There are many more convenient string methods. You can look the up in the online documentation."
      ]
    },
    {
      "cell_type": "code",
      "metadata": {
        "colab": {
          "base_uri": "https://localhost:8080/"
        },
        "id": "DQLkLvmQx11T",
        "outputId": "ad0e094d-57d8-4b9a-875c-88150323c2c1"
      },
      "source": [
        "# Split and work on substrings\n",
        "haiku = \"\"\"matsushima-ya\n",
        "aah matsushima-ya\n",
        "matsushima-ya\"\"\"\n",
        "print(haiku,'\\n')  # \\n is the code for newline, i.e. this statements prints an empty line after the string\n",
        "lines = haiku.splitlines()\n",
        "i=0\n",
        "for line in lines:\n",
        "    i+=1\n",
        "    words = line.split()\n",
        "    print('Line',i,'has', len(words), 'words.')"
      ],
      "execution_count": 36,
      "outputs": [
        {
          "output_type": "stream",
          "name": "stdout",
          "text": [
            "matsushima-ya\n",
            "aah matsushima-ya\n",
            "matsushima-ya \n",
            "\n",
            "Line 1 has 1 words.\n",
            "Line 2 has 2 words.\n",
            "Line 3 has 1 words.\n"
          ]
        }
      ]
    },
    {
      "cell_type": "markdown",
      "metadata": {
        "id": "ciRl-jW91Lhc"
      },
      "source": [
        "\n",
        "### Format Strings\n",
        "\n",
        "In the preceding methods, we have learned how to extract values from strings, and to manipulate strings themselves into desired formats. Another use of string methods is to manipulate string representations of values of other types. Of course, string representations can always be found using the str() function; for example"
      ]
    },
    {
      "cell_type": "code",
      "metadata": {
        "colab": {
          "base_uri": "https://localhost:8080/",
          "height": 89
        },
        "id": "ucZ_gTWhz982",
        "outputId": "a64d5d42-dce6-4d51-c71a-7b961182c5ac"
      },
      "source": [
        "pi = 3.14159\n",
        "print(\"The value of pi is \" + str(pi))\n",
        "print(\"pi = %.4f\" % pi)               # % formatting, old style\n",
        "print(\"pi = {0:.3f}\".format(pi))      # format formatting\n",
        "f'pi = {pi:.3f}'                      # fstring formatting"
      ],
      "execution_count": 44,
      "outputs": [
        {
          "output_type": "stream",
          "name": "stdout",
          "text": [
            "The value of pi is 3.14159\n",
            "pi = 3.1416\n",
            "pi = 3.142\n"
          ]
        },
        {
          "output_type": "execute_result",
          "data": {
            "application/vnd.google.colaboratory.intrinsic+json": {
              "type": "string"
            },
            "text/plain": [
              "'pi = 3.142'"
            ]
          },
          "metadata": {},
          "execution_count": 44
        }
      ]
    },
    {
      "cell_type": "markdown",
      "metadata": {
        "id": "pjph6M7O2GF9"
      },
      "source": [
        "This style of format specification is very flexible, and the examples here barely scratch the surface of the formatting options available. For more information on the syntax of these format strings, see the Format Specification section of Python's online documentation."
      ]
    },
    {
      "cell_type": "markdown",
      "metadata": {
        "id": "UYXde0tZ3LRL"
      },
      "source": [
        "### Flexible Pattern Matching with Regular Expressions¶\n",
        "\n",
        "The methods of Python's str type give you a powerful set of tools for formatting, splitting, and manipulating string data. But even more powerful tools are available in Python's built-in regular expression module. Regular expressions are a huge topic; there are entire books written on the topic (including Jeffrey E.F. Friedl’s Mastering Regular Expressions, 3rd Edition), so it will be hard to do justice within just a single subsection.\n",
        "\n",
        "My goal here is to give you an idea of the types of problems that might be addressed using regular expressions, as well as a basic idea of how to use them in Python. I'll suggest some references for learning more in Further Resources on Regular Expressions.\n",
        "\n",
        "Fundamentally, regular expressions are a means of flexible pattern matching in strings. If you frequently use the command-line, you are probably familiar with this type of flexible matching with the \"*\" character, which acts as a wildcard. For example, we can list all the IPython notebooks (i.e., files with extension .ipynb) with \"Python\" in their filename by using the \"*\" wildcard to match any characters in between"
      ]
    },
    {
      "cell_type": "code",
      "metadata": {
        "id": "PL0fGoi81qfz"
      },
      "source": [
        "# Just one example with regular expressions"
      ],
      "execution_count": 45,
      "outputs": []
    },
    {
      "cell_type": "markdown",
      "metadata": {
        "id": "yH876ZqL4J_i"
      },
      "source": [
        "### Further Resources on Regular Expressions\n",
        "\n",
        "The above discussion is just a quick (and far from complete) treatment of this large topic.\n",
        "If you'd like to learn more, I recommend the following resources:\n",
        "\n",
        "- [Python's ``re`` package Documentation](https://docs.python.org/3/library/re.html): I find that I promptly forget how to use regular expressions just about every time I use them. Now that I have the basics down, I have found this page to be an incredibly valuable resource to recall what each specific character or sequence means within a regular expression.\n",
        "- [Python's official regular expression HOWTO](https://docs.python.org/3/howto/regex.html): a more narrative approach to regular expressions in Python.\n",
        "- [Mastering Regular Expressions (OReilly, 2006)](http://shop.oreilly.com/product/9780596528126.do) is a 500+ page book on the subject. If you want a really complete treatment of this topic, this is the resource for you.\n",
        "\n",
        "For some examples of string manipulation and regular expressions in action at a larger scale, see [Pandas: Labeled Column-oriented Data](15-Preview-of-Data-Science-Tools.ipynb#Pandas:-Labeled-Column-oriented-Data), where we look at applying these sorts of expressions across *tables* of string data within the Pandas package."
      ]
    },
    {
      "cell_type": "markdown",
      "metadata": {
        "id": "nBcpdGVV4NNR"
      },
      "source": [
        "## File and Operating System Operations"
      ]
    },
    {
      "cell_type": "markdown",
      "metadata": {
        "id": "FBSd80eF9tdv"
      },
      "source": [
        "\n",
        "Filesystem operations can be carried out by executing a normal shell command preceded by exclamation mark. Here is how may look like on a Linux machine."
      ]
    },
    {
      "cell_type": "code",
      "metadata": {
        "colab": {
          "base_uri": "https://localhost:8080/"
        },
        "id": "ocFAH5Gc4q6e",
        "outputId": "24e7550e-6f50-4f66-8e3b-5ffbc028e59f"
      },
      "source": [
        "! ls -l"
      ],
      "execution_count": 46,
      "outputs": [
        {
          "output_type": "stream",
          "name": "stdout",
          "text": [
            "total 4\n",
            "drwxr-xr-x 1 root root 4096 Aug 31 13:18 sample_data\n"
          ]
        }
      ]
    },
    {
      "cell_type": "markdown",
      "metadata": {
        "id": "_TP1muXT951n"
      },
      "source": [
        "Python has a library, the [operating system module (os)](https://docs.python.org/3/library/os.html), which makes the code os independent and the interface to the rest of the Python code transparent. "
      ]
    },
    {
      "cell_type": "code",
      "metadata": {
        "id": "a4C-sMrA93D3",
        "outputId": "8cfd8fb0-3621-4368-df01-0ae5b927eb71",
        "colab": {
          "base_uri": "https://localhost:8080/"
        }
      },
      "source": [
        "import os\n",
        "cwd = os.getcwd()        # Returns the path to the current working directory.\n",
        "os.mkdir(cwd+'/data')   # Creates a directory; nothing happens if the directory already exists. Creates all the intermediate-level directories needed to contain the leaf.\n",
        "os.chdir('data')         # Changes the current working directory to path.\n",
        "print(os.listdir())    # Returns the list of entries in directory dir (omitting ‘.’ and ‘..’) \n",
        "os.chdir('..')\n",
        "print(os.listdir())\n",
        "os.rename('data','data-new') # Renames a file or directory from old to new.\n",
        "print(os.listdir())"
      ],
      "execution_count": 51,
      "outputs": [
        {
          "output_type": "stream",
          "name": "stdout",
          "text": [
            "[]\n",
            "['data', 'data-new']\n",
            "['data-new']\n"
          ]
        }
      ]
    },
    {
      "cell_type": "code",
      "metadata": {
        "id": "lqq2VilV_r1h",
        "outputId": "331c849d-d166-4580-c2e7-1b721474a0a3",
        "colab": {
          "base_uri": "https://localhost:8080/"
        }
      },
      "source": [
        "# More stuff\n",
        "path = 'data-new'\n",
        "print(os.path.exists(path))   # Returns True if path exists.\n",
        "print(os.path.isdir(path))    # Returns True if path is a directory.\n",
        "print(os.path.isfile(path))   # Returns True if path is a regular file.\n",
        "print(os.path.basename(path)) # Returns the base name (the part after the last ‘/’ character)\n",
        "print(os.path.dirname(path))  # Returns the directory name (the part before the last / character).\n",
        "print(os.path.abspath(path))  # Make path absolute (i.e., start with a /)."
      ],
      "execution_count": 53,
      "outputs": [
        {
          "output_type": "stream",
          "name": "stdout",
          "text": [
            "True\n",
            "True\n",
            "False\n",
            "data-new\n",
            "\n",
            "/content/data/data-new\n"
          ]
        }
      ]
    },
    {
      "cell_type": "markdown",
      "metadata": {
        "id": "qKzkTCeTCp_z"
      },
      "source": [
        ""
      ]
    },
    {
      "cell_type": "markdown",
      "metadata": {
        "id": "DSgNno1vCqho"
      },
      "source": [
        "The shell utilities module [shutil](https://docs.python.org/3/library/shutil.html) is also very useful."
      ]
    },
    {
      "cell_type": "code",
      "metadata": {
        "id": "IRCS1SRFA8Md",
        "outputId": "20508a9f-832d-47f8-9eac-a8b408970ae4",
        "colab": {
          "base_uri": "https://localhost:8080/"
        }
      },
      "source": [
        "import shutil as sh\n",
        "sh.copy('../sample_data/README.md','./')\n",
        "sh.move('README.md','ReadMe.md')\n",
        "! ls -l\n",
        "os.remove('ReadMe.md')\n",
        "! ls -l"
      ],
      "execution_count": 61,
      "outputs": [
        {
          "output_type": "stream",
          "name": "stdout",
          "text": [
            "total 8\n",
            "drwxr-xr-x 2 root root 4096 Sep  2 14:54 data-new\n",
            "-rwxr-xr-x 1 root root  930 Sep  2 15:11 ReadMe.md\n",
            "total 4\n",
            "drwxr-xr-x 2 root root 4096 Sep  2 14:54 data-new\n"
          ]
        }
      ]
    },
    {
      "cell_type": "code",
      "metadata": {
        "id": "KckfhKBIDLRk"
      },
      "source": [
        ""
      ],
      "execution_count": 61,
      "outputs": []
    },
    {
      "cell_type": "code",
      "metadata": {
        "id": "n54B8_SADNe4"
      },
      "source": [
        ""
      ],
      "execution_count": null,
      "outputs": []
    },
    {
      "cell_type": "markdown",
      "metadata": {
        "id": "WX9MxvZVE2X6"
      },
      "source": [
        "## Reading and Writing (text) Files\n"
      ]
    },
    {
      "cell_type": "code",
      "metadata": {
        "id": "jqdypWPkE8pY"
      },
      "source": [
        ""
      ],
      "execution_count": null,
      "outputs": []
    }
  ]
}