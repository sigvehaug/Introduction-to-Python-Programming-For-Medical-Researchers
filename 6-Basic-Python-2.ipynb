{
  "nbformat": 4,
  "nbformat_minor": 0,
  "metadata": {
    "anaconda-cloud": {},
    "kernelspec": {
      "display_name": "Python 3",
      "language": "python",
      "name": "python3"
    },
    "language_info": {
      "codemirror_mode": {
        "name": "ipython",
        "version": 3
      },
      "file_extension": ".py",
      "mimetype": "text/x-python",
      "name": "python",
      "nbconvert_exporter": "python",
      "pygments_lexer": "ipython3",
      "version": "3.6.8"
    },
    "colab": {
      "name": "6-Basic-Python-2.ipynb",
      "provenance": [],
      "include_colab_link": true
    }
  },
  "cells": [
    {
      "cell_type": "markdown",
      "metadata": {
        "id": "view-in-github",
        "colab_type": "text"
      },
      "source": [
        "<a href=\"https://colab.research.google.com/github/sigvehaug/Introduction-to-Python-Programming-For-Medical-Researchers/blob/master/6-Basic-Python-2.ipynb\" target=\"_parent\"><img src=\"https://colab.research.google.com/assets/colab-badge.svg\" alt=\"Open In Colab\"/></a>"
      ]
    },
    {
      "cell_type": "markdown",
      "metadata": {
        "id": "GbB2F0nUnmkv"
      },
      "source": [
        "<!--BOOK_INFORMATION-->\n",
        "<img align=\"left\" style=\"padding-right:10px;\" src=\"https://github.com/sigvehaug/Introduction-to-Python-Programming-For-Medical-Researchers/blob/master/Course/fig/cover-small.jpg?raw=1\">\n",
        "\n",
        "*This notebook contains an excerpt from the [Whirlwind Tour of Python](http://www.oreilly.com/programming/free/a-whirlwind-tour-of-python.csp) by Jake VanderPlas; the content is available [on GitHub](https://github.com/jakevdp/WhirlwindTourOfPython).*\n",
        "\n",
        "*The text and code are released under the [CC0](https://github.com/jakevdp/WhirlwindTourOfPython/blob/master/LICENSE) license; see also the companion project, the [Python Data Science Handbook](https://github.com/jakevdp/PythonDataScienceHandbook).*\n"
      ]
    },
    {
      "cell_type": "markdown",
      "metadata": {
        "id": "rzrzHykrUoFO"
      },
      "source": [
        "Introduction to Python Programming for Medical Researchers, University of Bern, Sigve Haug"
      ]
    },
    {
      "cell_type": "markdown",
      "metadata": {
        "id": "cpigRldCUqre"
      },
      "source": [
        "# Basic Python 2 (60 min)\n",
        "\n",
        "This notebook is a systematic and very condenced overview of\n",
        "- Python Control Flow\n",
        "- Python Functions\n",
        "\n",
        "The content is basic and belongs to necessary knowledge by any Python programmers. One does not learn it by heart, however, after some hours of practicing Python, it automatically becomes active knowledge.\n",
        "\n",
        "It corresponds to the first six chapters of the book referenced above. There you may get more detailed descriptions."
      ]
    },
    {
      "cell_type": "markdown",
      "metadata": {
        "id": "7o5d-zXknmk0"
      },
      "source": [
        "## Control Flow"
      ]
    },
    {
      "cell_type": "markdown",
      "metadata": {
        "id": "eOJcaRgop2Iv"
      },
      "source": [
        "Control flow is where the rubber really meets the road in programming. Without it, a program is simply a list of statements that are sequentially executed. With control flow, you can execute certain code blocks conditionally and/or repeatedly: these basic building blocks can be combined to create surprisingly sophisticated programs!\n",
        "\n",
        "Here we'll cover conditional statements (including \"if\", \"elif\", and \"else\"), loop statements (including \"for\" and \"while\" and the accompanying \"break\", \"continue\", and \"pass\")."
      ]
    },
    {
      "cell_type": "markdown",
      "metadata": {
        "id": "lR0KjE6rp6Nk"
      },
      "source": [
        "### Conditional Statements: if-elif-else"
      ]
    },
    {
      "cell_type": "code",
      "metadata": {
        "id": "6yvQawUpn-2u",
        "outputId": "b678c9a8-9c4e-47f6-d10e-d8d66cc28aa6",
        "colab": {
          "base_uri": "https://localhost:8080/"
        }
      },
      "source": [
        "x = -15\n",
        "if x == 0:\n",
        "    print(x, \"is zero\")\n",
        "elif x > 0:\n",
        "    print(x, \"is positive\")\n",
        "elif x < 0:\n",
        "    print(x, \"is negative\")\n",
        "else:\n",
        "    print(x, \"is unlike anything I've ever seen...\")"
      ],
      "execution_count": 1,
      "outputs": [
        {
          "output_type": "stream",
          "name": "stdout",
          "text": [
            "-15 is negative\n"
          ]
        }
      ]
    },
    {
      "cell_type": "markdown",
      "metadata": {
        "id": "aHFF0F73qYh5"
      },
      "source": [
        "### for Loops"
      ]
    },
    {
      "cell_type": "code",
      "metadata": {
        "colab": {
          "base_uri": "https://localhost:8080/"
        },
        "id": "tOcDxEO4oSjf",
        "outputId": "374c87fd-1776-4299-91b9-252cef187dfc"
      },
      "source": [
        "\n",
        "for N in [2, 3, 5, 7]:\n",
        "    print(N, end=' ') # print all on same line\n",
        "print()\n",
        "for i in range(10):\n",
        "    print(i, end=' ')\n",
        "print()\n",
        "for i in range(6,60,5):\n",
        "    print(i, end=' ') "
      ],
      "execution_count": 5,
      "outputs": [
        {
          "output_type": "stream",
          "name": "stdout",
          "text": [
            "2 3 5 7 \n",
            "0 1 2 3 4 5 6 7 8 9 \n",
            "6 11 16 21 26 31 36 41 46 51 56 "
          ]
        }
      ]
    },
    {
      "cell_type": "markdown",
      "metadata": {
        "id": "Ma7mjiqmrM5M"
      },
      "source": [
        "### while Loops"
      ]
    },
    {
      "cell_type": "code",
      "metadata": {
        "id": "bQ_6CPCULCRO",
        "outputId": "fcdb3d5a-1e1f-4394-c9a7-b57de1fd62fd",
        "colab": {
          "base_uri": "https://localhost:8080/"
        }
      },
      "source": [
        "i = 0\n",
        "while i < 10:\n",
        "    print(i, end=' ')\n",
        "    i += 1\n"
      ],
      "execution_count": 6,
      "outputs": [
        {
          "output_type": "stream",
          "name": "stdout",
          "text": [
            "0 1 2 3 4 5 6 7 8 9 "
          ]
        }
      ]
    },
    {
      "cell_type": "markdown",
      "metadata": {
        "id": "HKMKM97NrVWX"
      },
      "source": [
        "### break and continue"
      ]
    },
    {
      "cell_type": "code",
      "metadata": {
        "id": "EqKNb1VsrT_A",
        "outputId": "559d58bd-5b44-4e51-e676-016737fcca72",
        "colab": {
          "base_uri": "https://localhost:8080/"
        }
      },
      "source": [
        "for n in range(20):\n",
        "    # if the remainder of n / 2 is 0, skip the rest of the loop\n",
        "    if n % 2 == 0:\n",
        "        continue\n",
        "    print(n, end=' ')"
      ],
      "execution_count": 7,
      "outputs": [
        {
          "output_type": "stream",
          "name": "stdout",
          "text": [
            "1 3 5 7 9 11 13 15 17 19 "
          ]
        }
      ]
    },
    {
      "cell_type": "code",
      "metadata": {
        "id": "JLMZdGGsrfTw",
        "outputId": "071755aa-a3c8-4eeb-9829-61cfc8497d27",
        "colab": {
          "base_uri": "https://localhost:8080/"
        }
      },
      "source": [
        "a, b = 0, 1\n",
        "amax = 100\n",
        "L = []\n",
        "\n",
        "while True:\n",
        "    (a, b) = (b, a + b)\n",
        "    if a > amax:\n",
        "        break\n",
        "    L.append(a)\n",
        "\n",
        "print(L)"
      ],
      "execution_count": 8,
      "outputs": [
        {
          "output_type": "stream",
          "name": "stdout",
          "text": [
            "[1, 1, 2, 3, 5, 8, 13, 21, 34, 55, 89]\n"
          ]
        }
      ]
    },
    {
      "cell_type": "code",
      "metadata": {
        "id": "PUTf66F9rpyt",
        "outputId": "1d6f97a0-e516-4514-b748-a30e17cebb3d",
        "colab": {
          "base_uri": "https://localhost:8080/"
        }
      },
      "source": [
        "# Loop with an else block\n",
        "L = []\n",
        "nmax = 30\n",
        "\n",
        "for n in range(2, nmax):\n",
        "    for factor in L:\n",
        "        if n % factor == 0:\n",
        "            break\n",
        "    else: # no break\n",
        "        L.append(n)\n",
        "print(L)"
      ],
      "execution_count": 9,
      "outputs": [
        {
          "output_type": "stream",
          "name": "stdout",
          "text": [
            "[2, 3, 5, 7, 11, 13, 17, 19, 23, 29]\n"
          ]
        }
      ]
    },
    {
      "cell_type": "code",
      "metadata": {
        "id": "TfEsRLEzr0re"
      },
      "source": [
        ""
      ],
      "execution_count": null,
      "outputs": []
    },
    {
      "cell_type": "markdown",
      "metadata": {
        "id": "HkuA8EhlsdpJ"
      },
      "source": [
        "## Defining and Using Functions\n",
        "\n",
        "So far, our scripts have been simple, single-use code blocks. One way to organize our Python code and to make it more readable and reusable is to factor-out useful pieces into reusable functions. Here we'll cover two ways of creating functions: the def statement, useful for any type of function, and the lambda statement, useful for creating short anonymous functions."
      ]
    },
    {
      "cell_type": "code",
      "metadata": {
        "id": "BNOGOaoisjv2",
        "outputId": "9516567d-7c5e-44ef-fe20-85aa3db6bbf4",
        "colab": {
          "base_uri": "https://localhost:8080/"
        }
      },
      "source": [
        "# Define/write a function calculating the fibonacci numbers\n",
        "def fibonacci(N):\n",
        "    L = []\n",
        "    a, b = 0, 1\n",
        "    while len(L) < N:\n",
        "        a, b = b, a + b\n",
        "        L.append(a)\n",
        "    return L\n",
        "# Call that function\n",
        "fibonacci(10)"
      ],
      "execution_count": 10,
      "outputs": [
        {
          "output_type": "execute_result",
          "data": {
            "text/plain": [
              "[1, 1, 2, 3, 5, 8, 13, 21, 34, 55]"
            ]
          },
          "metadata": {},
          "execution_count": 10
        }
      ]
    },
    {
      "cell_type": "code",
      "metadata": {
        "id": "kPec2drCssw_",
        "outputId": "0e71727c-78c0-4fa8-b6f9-f56af878108c",
        "colab": {
          "base_uri": "https://localhost:8080/"
        }
      },
      "source": [
        "def real_imag_conj(val):\n",
        "    return val.real, val.imag, val.conjugate()\n",
        "\n",
        "r, i, c = real_imag_conj(3 + 4j)\n",
        "print(r, i, c)"
      ],
      "execution_count": 11,
      "outputs": [
        {
          "output_type": "stream",
          "name": "stdout",
          "text": [
            "3.0 4.0 (3-4j)\n"
          ]
        }
      ]
    },
    {
      "cell_type": "code",
      "metadata": {
        "id": "cHMxRpBPs_gV",
        "outputId": "a5ba2cc9-721d-4cbd-9df3-043f1f9e1199",
        "colab": {
          "base_uri": "https://localhost:8080/"
        }
      },
      "source": [
        "# Default arguments\n",
        "def fibonacci(N, a=0, b=1):\n",
        "    L = []\n",
        "    while len(L) < N:\n",
        "        a, b = b, a + b\n",
        "        L.append(a)\n",
        "    return L\n",
        "\n",
        "print(fibonacci(10))\n",
        "print(fibonacci(10,3,1))\n",
        "print(fibonacci(10, b=3, a=1))\n"
      ],
      "execution_count": 14,
      "outputs": [
        {
          "output_type": "stream",
          "name": "stdout",
          "text": [
            "[1, 1, 2, 3, 5, 8, 13, 21, 34, 55]\n",
            "[1, 4, 5, 9, 14, 23, 37, 60, 97, 157]\n",
            "[3, 4, 7, 11, 18, 29, 47, 76, 123, 199]\n"
          ]
        }
      ]
    },
    {
      "cell_type": "markdown",
      "metadata": {
        "id": "8cbjKzwFtw7b"
      },
      "source": [
        "### \\*args and **kwargs: Flexible Arguments\n",
        "\n",
        "Sometimes you might wish to write a function in which you don't initially know how many arguments the user will pass. In this case, you can use the special form *args and **kwargs to catch all arguments that are passed. Here is an example:"
      ]
    },
    {
      "cell_type": "code",
      "metadata": {
        "id": "5SGgTXxotTol",
        "outputId": "20eadbdb-d9e1-41f4-db63-f03f98f44465",
        "colab": {
          "base_uri": "https://localhost:8080/"
        }
      },
      "source": [
        "def catch_all(*args, **kwargs):\n",
        "    print(\"args =\", args)\n",
        "    print(\"kwargs = \", kwargs)\n",
        "\n",
        "catch_all(1, 2, 3, a=4, b=5)\n",
        "catch_all('a', keyword=2)"
      ],
      "execution_count": 15,
      "outputs": [
        {
          "output_type": "stream",
          "name": "stdout",
          "text": [
            "args = (1, 2, 3)\n",
            "kwargs =  {'a': 4, 'b': 5}\n",
            "args = ('a',)\n",
            "kwargs =  {'keyword': 2}\n"
          ]
        }
      ]
    },
    {
      "cell_type": "markdown",
      "metadata": {
        "id": "2wjL1eARuQIl"
      },
      "source": [
        "\n",
        "### Anonymous (lambda) Functions\n",
        "\n",
        "Earlier we quickly covered the most common way of defining functions, the def statement. You'll likely come across another way of defining short, one-off functions with the lambda statement. It looks something like this:"
      ]
    },
    {
      "cell_type": "code",
      "metadata": {
        "id": "X1SMnFmGuFYU",
        "outputId": "f70643c1-7d04-4acc-ce8f-34588e964140",
        "colab": {
          "base_uri": "https://localhost:8080/"
        }
      },
      "source": [
        "\n",
        "add = lambda x, y: x + y\n",
        "add(1, 2)"
      ],
      "execution_count": 16,
      "outputs": [
        {
          "output_type": "execute_result",
          "data": {
            "text/plain": [
              "3"
            ]
          },
          "metadata": {},
          "execution_count": 16
        }
      ]
    },
    {
      "cell_type": "code",
      "metadata": {
        "id": "kALNFH2oukJc"
      },
      "source": [
        ""
      ],
      "execution_count": null,
      "outputs": []
    }
  ]
}