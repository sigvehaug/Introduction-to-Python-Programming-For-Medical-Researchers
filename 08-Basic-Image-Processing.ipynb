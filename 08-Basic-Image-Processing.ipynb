{
  "nbformat": 4,
  "nbformat_minor": 0,
  "metadata": {
    "kernelspec": {
      "display_name": "Python 3",
      "language": "python",
      "name": "python3"
    },
    "language_info": {
      "codemirror_mode": {
        "name": "ipython",
        "version": 3
      },
      "file_extension": ".py",
      "mimetype": "text/x-python",
      "name": "python",
      "nbconvert_exporter": "python",
      "pygments_lexer": "ipython3",
      "version": "3.6.7"
    },
    "toc": {
      "base_numbering": 1,
      "nav_menu": {},
      "number_sections": false,
      "sideBar": true,
      "skip_h1_title": false,
      "title_cell": "Table of Contents",
      "title_sidebar": "Contents",
      "toc_cell": false,
      "toc_position": {},
      "toc_section_display": true,
      "toc_window_display": true
    },
    "colab": {
      "name": "08-Basic-Image-Processing.ipynb",
      "provenance": [],
      "include_colab_link": true
    }
  },
  "cells": [
    {
      "cell_type": "markdown",
      "metadata": {
        "id": "view-in-github",
        "colab_type": "text"
      },
      "source": [
        "<a href=\"https://colab.research.google.com/github/sigvehaug/Introduction-to-Python-for-Medical-Researchers/blob/master/08-Basic-Image-Processing.ipynb\" target=\"_parent\"><img src=\"https://colab.research.google.com/assets/colab-badge.svg\" alt=\"Open In Colab\"/></a>"
      ]
    },
    {
      "cell_type": "markdown",
      "metadata": {
        "id": "1v0aiZZLxBZ3"
      },
      "source": [
        "# 4. Basic Image processing: Filtering, scaling, thresholding"
      ]
    },
    {
      "cell_type": "markdown",
      "metadata": {
        "id": "g0D5qW2KxBZ6"
      },
      "source": [
        "Almost all image processing pipelines start with some basic procedures like thresholding, scaling, or projecting a multi-dimensional image.\n",
        "\n",
        "Let us import again all necessary packages:"
      ]
    },
    {
      "cell_type": "code",
      "metadata": {
        "id": "TYDcmKVCxBZ7"
      },
      "source": [
        ""
      ],
      "execution_count": null,
      "outputs": []
    },
    {
      "cell_type": "markdown",
      "metadata": {
        "id": "y3jvslZlxBZ8"
      },
      "source": [
        "Most filtering functions will come out from the filters module of scikit-image:"
      ]
    },
    {
      "cell_type": "code",
      "metadata": {
        "id": "qgCE_TZ7xBZ8"
      },
      "source": [
        ""
      ],
      "execution_count": null,
      "outputs": []
    },
    {
      "cell_type": "markdown",
      "metadata": {
        "id": "XQD2ZhKTxBZ8"
      },
      "source": [
        "A specific region size/shape has often to be specified for filters. Those are defined in the morphology module:"
      ]
    },
    {
      "cell_type": "code",
      "metadata": {
        "id": "Yt1eDe2DxBZ8"
      },
      "source": [
        ""
      ],
      "execution_count": null,
      "outputs": []
    },
    {
      "cell_type": "markdown",
      "metadata": {
        "id": "Mx9naujLxBZ9"
      },
      "source": [
        "Additionally, this module offers a set of binary operators essential to operate on the masks resulting from segmentation."
      ]
    },
    {
      "cell_type": "markdown",
      "metadata": {
        "id": "_f6E2LvLxBZ9"
      },
      "source": [
        "We will start working on a single plane of the dataset seen in chapter [3](3-Image_import.ipynb)"
      ]
    },
    {
      "cell_type": "code",
      "metadata": {
        "id": "S4wil7CHxBZ-"
      },
      "source": [
        "#load image\n",
        "url_pre  = 'https://raw.githubusercontent.com/sigvehaug/Introduction-to-Python-for-Medical-Researchers/master/Data/'\n",
        "url_name = 'ISIC_0000098_downsampled.jpg'\n"
      ],
      "execution_count": 1,
      "outputs": []
    },
    {
      "cell_type": "markdown",
      "metadata": {
        "id": "asdnTPDtxBZ_"
      },
      "source": [
        "## 4.1 Filtering"
      ]
    },
    {
      "cell_type": "markdown",
      "metadata": {
        "id": "p0tbzSInxBZ_"
      },
      "source": [
        "A large set of filters are offered in scikit-image. Filtering is a local operation, where a value is calculated for each pixel and its surrounding region according to some function. For example a median filter of size 3, calculates for each pixel the median value of the 3x3 region around it.\n",
        "\n",
        "Most filters take as input a specified region to consider for the calculation (e.g. 3x3 region). Those can be defined using the morphology module e.g."
      ]
    },
    {
      "cell_type": "code",
      "metadata": {
        "id": "jOyi0emzxBZ_"
      },
      "source": [
        ""
      ],
      "execution_count": 1,
      "outputs": []
    },
    {
      "cell_type": "code",
      "metadata": {
        "id": "6kDUwRIfxBaA"
      },
      "source": [
        ""
      ],
      "execution_count": null,
      "outputs": []
    },
    {
      "cell_type": "code",
      "metadata": {
        "id": "W2nEQvq7xBaA"
      },
      "source": [
        ""
      ],
      "execution_count": 1,
      "outputs": []
    },
    {
      "cell_type": "markdown",
      "metadata": {
        "id": "J9FAgFv5xBaA"
      },
      "source": [
        "Similar filters can be defined for a large range of operations: sum, min, max, mean etc.\n",
        "\n",
        "More specific filters are also provide in skimage. For example finding the gradient of intensity in an image can be done with a Sobel filter. Here for horizontal, vertical and their sum:"
      ]
    },
    {
      "cell_type": "code",
      "metadata": {
        "id": "rHxL_C57xBaB"
      },
      "source": [
        ""
      ],
      "execution_count": 1,
      "outputs": []
    },
    {
      "cell_type": "code",
      "metadata": {
        "id": "jDrJsCmoxBaB"
      },
      "source": [
        ""
      ],
      "execution_count": 1,
      "outputs": []
    },
    {
      "cell_type": "markdown",
      "metadata": {
        "id": "Yd0z3FoexBaB"
      },
      "source": [
        "Finally, some functions can be used to filter the image, and one can pass function parameters to the filter. For example to filter with a Gaussian of large standard deviation $\\sigma = 10$:"
      ]
    },
    {
      "cell_type": "code",
      "metadata": {
        "id": "EwOoAuA9xBaB"
      },
      "source": [
        ""
      ],
      "execution_count": 1,
      "outputs": []
    },
    {
      "cell_type": "markdown",
      "metadata": {
        "id": "Ova3YE5HxBaC"
      },
      "source": [
        "## 4.2 Intensity re-scaling"
      ]
    },
    {
      "cell_type": "markdown",
      "metadata": {
        "id": "-oXUlDPbxBaC"
      },
      "source": [
        "A very common operation to do in an image processing pipeline, is to rescale the intensity of images. The reason can be diverse: for example, one might want to remove an offset added to each pixel by the camera, or one might want to homogenize multiple images with slightly varying exposures.\n",
        "\n",
        "The simplest thing to do is to rescale from min to max in the range 0-1:"
      ]
    },
    {
      "cell_type": "code",
      "metadata": {
        "id": "1rbgz9XJxBaC"
      },
      "source": [
        ""
      ],
      "execution_count": 1,
      "outputs": []
    },
    {
      "cell_type": "code",
      "metadata": {
        "id": "_Gzh9lARXg6y"
      },
      "source": [
        ""
      ],
      "execution_count": 1,
      "outputs": []
    },
    {
      "cell_type": "code",
      "metadata": {
        "id": "6D-iW6RWxBaC"
      },
      "source": [
        ""
      ],
      "execution_count": 1,
      "outputs": []
    },
    {
      "cell_type": "code",
      "metadata": {
        "id": "JgUiYJ4pxBaC"
      },
      "source": [
        ""
      ],
      "execution_count": 1,
      "outputs": []
    },
    {
      "cell_type": "markdown",
      "metadata": {
        "id": "ApmCGbtAxBaD"
      },
      "source": [
        "One problem that might emerge is that a few pixels might be affected by rare noise events that give them abnormal values. One way to remedy that is to use a small median filter in order to suppress those aberrant values:"
      ]
    },
    {
      "cell_type": "code",
      "metadata": {
        "id": "p5T7WhcpxBaD"
      },
      "source": [
        ""
      ],
      "execution_count": 1,
      "outputs": []
    },
    {
      "cell_type": "code",
      "metadata": {
        "id": "-gBoh_XsxBaD"
      },
      "source": [
        ""
      ],
      "execution_count": 1,
      "outputs": []
    },
    {
      "cell_type": "markdown",
      "metadata": {
        "id": "aupOV3MKxBaD"
      },
      "source": [
        "## 4.3 Thresholding\n",
        "\n",
        "Another common operation is to try isolating regions of an image based on their intensity by using an intensity threshold: one can create a maks object where all values larger than a threshold are 1 and the other 0. It is usually better to use a smoothed version of the image (e.g. median or gaussian filtering) to avoid including noisy pixels in the maks.\n",
        "\n",
        "Let us imagine that we want to isolate the nuclei in our current image. To do that we can try to use their bright contour. Based on the intensity histogram, let's try to pick a threshold manually:"
      ]
    },
    {
      "cell_type": "code",
      "metadata": {
        "id": "xM7SmYf-xBaE"
      },
      "source": [
        ""
      ],
      "execution_count": 1,
      "outputs": []
    },
    {
      "cell_type": "markdown",
      "metadata": {
        "id": "saNVl86KxBaE"
      },
      "source": [
        "Instead of picking manually the threshold, one can use one of the many automatic methods available in skimage,"
      ]
    },
    {
      "cell_type": "code",
      "metadata": {
        "id": "oy2YStaZxBaE"
      },
      "source": [
        ""
      ],
      "execution_count": 1,
      "outputs": []
    },
    {
      "cell_type": "code",
      "metadata": {
        "id": "RCokrSRkxBaE"
      },
      "source": [
        ""
      ],
      "execution_count": 1,
      "outputs": []
    },
    {
      "cell_type": "code",
      "metadata": {
        "id": "bWtG64iQxBaE"
      },
      "source": [
        ""
      ],
      "execution_count": 1,
      "outputs": []
    },
    {
      "cell_type": "markdown",
      "metadata": {
        "id": "0RrEFGuzxBaF"
      },
      "source": [
        "Knowing that threshold value we can create a binary image setting all pixels higher than the threshold to 1."
      ]
    },
    {
      "cell_type": "code",
      "metadata": {
        "id": "y78RYOVuxBaF"
      },
      "source": [
        ""
      ],
      "execution_count": 1,
      "outputs": []
    },
    {
      "cell_type": "markdown",
      "metadata": {
        "id": "Vph2cgwxxBaF"
      },
      "source": [
        "Since the illumination is uneven accross the image, all standard thresholding methods are going to fail in some region of the image. What we could try to do instead is using a local thresholding, by repeating a standard thresholding method in sub-regions of the image:"
      ]
    },
    {
      "cell_type": "markdown",
      "metadata": {
        "id": "rlmDgOwFxBaG"
      },
      "source": [
        "## Further Notes\n",
        "\n",
        "Image processing is a large field. There is not space to cover all topics in this course, for example segmentation, classification etc. The purpose has been to get us used to think of images as numpy arrays and do basic operations on them.  "
      ]
    },
    {
      "cell_type": "code",
      "metadata": {
        "id": "N36uc9AXdRRZ"
      },
      "source": [
        ""
      ],
      "execution_count": null,
      "outputs": []
    }
  ]
}