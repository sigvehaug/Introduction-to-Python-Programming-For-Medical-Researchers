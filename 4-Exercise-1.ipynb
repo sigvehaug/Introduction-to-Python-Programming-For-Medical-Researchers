{
  "nbformat": 4,
  "nbformat_minor": 0,
  "metadata": {
    "anaconda-cloud": {},
    "kernelspec": {
      "display_name": "Python 3",
      "language": "python",
      "name": "python3"
    },
    "language_info": {
      "codemirror_mode": {
        "name": "ipython",
        "version": 3
      },
      "file_extension": ".py",
      "mimetype": "text/x-python",
      "name": "python",
      "nbconvert_exporter": "python",
      "pygments_lexer": "ipython3",
      "version": "3.6.8"
    },
    "colab": {
      "name": "4-Exercise-1.ipynb",
      "provenance": [],
      "include_colab_link": true
    }
  },
  "cells": [
    {
      "cell_type": "markdown",
      "metadata": {
        "id": "view-in-github",
        "colab_type": "text"
      },
      "source": [
        "<a href=\"https://colab.research.google.com/github/sigvehaug/Introduction-to-Python-Programming-For-Medical-Researchers/blob/master/4-Exercise-1.ipynb\" target=\"_parent\"><img src=\"https://colab.research.google.com/assets/colab-badge.svg\" alt=\"Open In Colab\"/></a>"
      ]
    },
    {
      "cell_type": "markdown",
      "metadata": {
        "id": "rzrzHykrUoFO"
      },
      "source": [
        "Introduction to Python Programming for Medical Researchers, University of Bern, Sigve Haug"
      ]
    },
    {
      "cell_type": "markdown",
      "metadata": {
        "id": "cpigRldCUqre"
      },
      "source": [
        "# Exercise 1 - (30 min)\n",
        "\n",
        "**Task:** What is the the repsective average blood pressure of men over 70 and below 70 in the dataset provided in the example notebook?\n",
        "\n",
        "**Steps (copy and paste from the example)**\n",
        "\n",
        "- Read the dataset into a dataframe\n",
        "- Clean the dataset\n",
        "- Make a dataset containing only men over 70\n",
        "- Make a dataset containing only men below 70\n",
        "- Retrieve the means\n",
        "\n",
        "If you have time, do more things!\n",
        "\n",
        "---\n"
      ]
    },
    {
      "cell_type": "code",
      "metadata": {
        "id": "gagw2fOVeEqK"
      },
      "source": [
        "# Type your code here"
      ],
      "execution_count": null,
      "outputs": []
    },
    {
      "cell_type": "markdown",
      "metadata": {
        "id": "1b7ZWKZgeln0"
      },
      "source": [
        "---\n",
        "\n",
        "Now we will continue with a second example tutorial illustrating how medical researchers can use Python to work with images. The notebook is [here](https://github.com/sigvehaug/Introduction-to-Python-Programming-For-Medical-Researchers/blob/master/5-Example-2-Medical_Analysis.ipynb). "
      ]
    }
  ]
}