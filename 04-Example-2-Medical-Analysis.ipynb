{
  "nbformat": 4,
  "nbformat_minor": 0,
  "metadata": {
    "celltoolbar": "Slideshow",
    "kernelspec": {
      "display_name": "Python 3",
      "language": "python",
      "name": "python3"
    },
    "language_info": {
      "codemirror_mode": {
        "name": "ipython",
        "version": 3
      },
      "file_extension": ".py",
      "mimetype": "text/x-python",
      "name": "python",
      "nbconvert_exporter": "python",
      "pygments_lexer": "ipython3",
      "version": "3.6.10"
    },
    "colab": {
      "name": "5-Example-2-Medical-Analysis.ipynb",
      "provenance": [],
      "include_colab_link": true
    }
  },
  "cells": [
    {
      "cell_type": "markdown",
      "metadata": {
        "id": "view-in-github",
        "colab_type": "text"
      },
      "source": [
        "<a href=\"https://colab.research.google.com/github/sigvehaug/Introduction-to-Python-for-Medical-Researchers/blob/master/05-Example-2-Medical-Analysis.ipynb\" target=\"_parent\"><img src=\"https://colab.research.google.com/assets/colab-badge.svg\" alt=\"Open In Colab\"/></a>"
      ]
    },
    {
      "cell_type": "markdown",
      "metadata": {
        "id": "eWM_s5V7x7mg"
      },
      "source": [
        "Introduction to Python Programming for Medical Researchers, University of Bern, Sigve Haug\n"
      ]
    },
    {
      "cell_type": "markdown",
      "metadata": {
        "id": "zIyueUzWhrgR"
      },
      "source": [
        "# 5. Example of a small medical image analysis with Python\n",
        "\n",
        "(Use 60 minutes to go through this notebook on colab)\n",
        " \n",
        "In medicine and many other fields images are often the data for diagnostics, training and inference. In this notebook we will step by step see how Python can be used to read, write and process images. It is only a very first introduction. Image processing is a large field which currently peaks with automatic diagnosis based on deep neural networks. However, also that is based on these basics.  \n",
        "\n",
        "### Objectives\n",
        "- Reading images (from the web, locally and google drive)\n",
        "- What is an image?\n",
        "- Processing images\n",
        "- Saving images\n",
        "- Managing data files on the filesystem\n",
        "\n",
        "### Documentation on the applied Modules\n",
        "- [skimage](https://scikit-image.org/docs/stable/api/api.html)\n",
        "- [os](https://docs.python.org/3/library/os.html)\n",
        "- [numpy](https://numpy.org/doc/stable/reference/) \n",
        "\n",
        "In the next session we will then cover more basic Python.\n"
      ]
    },
    {
      "cell_type": "markdown",
      "metadata": {
        "id": "WEFS39jXkmcW"
      },
      "source": [
        "## Reading Images"
      ]
    },
    {
      "cell_type": "markdown",
      "metadata": {
        "id": "gYsX40bQkrA_"
      },
      "source": [
        "A typical real life use case for a medical data scientist involves reading image files. These may be on a desktop, laptop, USB stick or somewhere on internet. Let us cover the different cases. \n",
        "\n",
        "There are several libraries for reading images. We use skimage (scientific python toolkit imaging module) as it is a very good one."
      ]
    },
    {
      "cell_type": "markdown",
      "metadata": {
        "id": "mLohKDuelzy7"
      },
      "source": [
        "### Download from internet and then read from local file\n",
        "\n",
        "If you are provided with a list of URL addresses, you can retrieve your images directly from internet. Either by using for example the wget command from the terminal (this works on colab which is linux):"
      ]
    },
    {
      "cell_type": "code",
      "metadata": {
        "colab": {
          "base_uri": "https://localhost:8080/"
        },
        "id": "RFrKqPtaBNYr",
        "outputId": "f3ca9d3f-021f-4717-b7f6-820335c87773"
      },
      "source": [
        "! wget https://raw.githubusercontent.com/sigvehaug/Introduction-to-Python-for-Medical-Researchers/master/Data/ISIC_0000000.jpg"
      ],
      "execution_count": null,
      "outputs": [
        {
          "output_type": "stream",
          "name": "stdout",
          "text": [
            "--2021-09-05 08:18:52--  https://raw.githubusercontent.com/sigvehaug/Introduction-to-Python-for-Medical-Researchers/master/Data/ISIC_0000000.jpg\n",
            "Resolving raw.githubusercontent.com (raw.githubusercontent.com)... 185.199.111.133, 185.199.110.133, 185.199.108.133, ...\n",
            "Connecting to raw.githubusercontent.com (raw.githubusercontent.com)|185.199.111.133|:443... connected.\n",
            "HTTP request sent, awaiting response... 200 OK\n",
            "Length: 49964 (49K) [image/jpeg]\n",
            "Saving to: ‘ISIC_0000000.jpg’\n",
            "\n",
            "ISIC_0000000.jpg    100%[===================>]  48.79K  --.-KB/s    in 0.007s  \n",
            "\n",
            "2021-09-05 08:18:52 (6.83 MB/s) - ‘ISIC_0000000.jpg’ saved [49964/49964]\n",
            "\n"
          ]
        }
      ]
    },
    {
      "cell_type": "code",
      "metadata": {
        "id": "1-cHK0z4mbjx"
      },
      "source": [
        ""
      ],
      "execution_count": null,
      "outputs": []
    },
    {
      "cell_type": "code",
      "metadata": {
        "id": "ixCxuQYvmib_"
      },
      "source": [
        "# Show the image\n"
      ],
      "execution_count": 1,
      "outputs": []
    },
    {
      "cell_type": "markdown",
      "metadata": {
        "id": "NXEX6n5fmgNJ"
      },
      "source": [
        "### Read files directly from internet :"
      ]
    },
    {
      "cell_type": "code",
      "metadata": {
        "id": "kOp419P3Anpy"
      },
      "source": [
        " url = 'https://raw.githubusercontent.com/sigvehaug/Introduction-to-Python-for-Medical-Researchers/master/Data/ISIC_0000002.jpg'\n",
        " "
      ],
      "execution_count": 2,
      "outputs": []
    },
    {
      "cell_type": "markdown",
      "metadata": {
        "id": "dg12E3dnsL_7"
      },
      "source": [
        "### Read from Google Drive"
      ]
    },
    {
      "cell_type": "markdown",
      "metadata": {
        "id": "Jm7BcfMzsYYh"
      },
      "source": [
        "Many are using google drive for storing files. When working on colab it is convenient to mount your google drive and then read and write files from there."
      ]
    },
    {
      "cell_type": "code",
      "metadata": {
        "id": "3lVOoS-xBTgU"
      },
      "source": [
        ""
      ],
      "execution_count": 2,
      "outputs": []
    },
    {
      "cell_type": "code",
      "metadata": {
        "id": "VOBVsK5CteLn"
      },
      "source": [
        "ls -l drive/MyDrive/Courses/Python4Medicine/ISIC_0000000.jpg"
      ],
      "execution_count": null,
      "outputs": []
    },
    {
      "cell_type": "code",
      "metadata": {
        "id": "EreKGO60CpwI"
      },
      "source": [
        ""
      ],
      "execution_count": 2,
      "outputs": []
    },
    {
      "cell_type": "markdown",
      "metadata": {
        "id": "B75yIQiFt6zV"
      },
      "source": [
        "## What is an Image ?"
      ]
    },
    {
      "cell_type": "markdown",
      "metadata": {
        "id": "BHpcxRWKuJN0"
      },
      "source": [
        "An image is just a table with a cell per pixel. The cell contains a number which represents either black or white. For color pictures we need 3 tables per pixels as 3 colors are need to make up any color.\n",
        "\n",
        "Thus, an image can be represented by a two dimensional array (or matrix) and can be processed with all the powerful tools of linear algebra. For example, addition, subtraction, multiplication, rotations etc. This tools are implemented in the python module numpy. An image is therefore just an numpy array.\n",
        "\n",
        "Machine Learning software also needs (higher dimensional) arrays as input. So images as numpy arrays can be used by them right away."
      ]
    },
    {
      "cell_type": "markdown",
      "metadata": {
        "id": "HnTMIhhMvuTR"
      },
      "source": [
        ""
      ]
    },
    {
      "cell_type": "code",
      "metadata": {
        "id": "WsVSs4sxEiIl"
      },
      "source": [
        ""
      ],
      "execution_count": 2,
      "outputs": []
    },
    {
      "cell_type": "code",
      "metadata": {
        "id": "E-GQaTiedo91"
      },
      "source": [
        "\n"
      ],
      "execution_count": 2,
      "outputs": []
    },
    {
      "cell_type": "code",
      "metadata": {
        "id": "Elteo-E3gErJ"
      },
      "source": [
        ""
      ],
      "execution_count": 2,
      "outputs": []
    },
    {
      "cell_type": "markdown",
      "metadata": {
        "id": "iOE-QtGXjueI"
      },
      "source": [
        "## Image Processing Example\n",
        "\n",
        "Let us look at a very simple processing example of images.\n"
      ]
    },
    {
      "cell_type": "code",
      "metadata": {
        "id": "KopiaS-eyX9t"
      },
      "source": [
        "# Flip the image\n"
      ],
      "execution_count": 3,
      "outputs": []
    },
    {
      "cell_type": "markdown",
      "metadata": {
        "id": "zLfzielAy54v"
      },
      "source": [
        "Image processing involves segmentation, noise subtraction, filtering, symmetry operations etc. We will look at more examples in a later session."
      ]
    },
    {
      "cell_type": "markdown",
      "metadata": {
        "id": "hsXpvuhz3vcC"
      },
      "source": [
        "## Saving Images"
      ]
    },
    {
      "cell_type": "code",
      "metadata": {
        "id": "oaCVZhM4Q-qk"
      },
      "source": [
        ""
      ],
      "execution_count": 3,
      "outputs": []
    },
    {
      "cell_type": "markdown",
      "metadata": {
        "id": "13qJ7A9P308B"
      },
      "source": [
        "After having processed the images, one often saves them for further usage. Here is a more complete examples which includes reading, some data management, a processing step and saving. "
      ]
    },
    {
      "cell_type": "markdown",
      "metadata": {
        "id": "Ppm640Hutgmx"
      },
      "source": [
        "# What is next ?\n",
        "\n",
        "After this example, we will now look at more basic Python."
      ]
    },
    {
      "cell_type": "code",
      "metadata": {
        "id": "TcFlf9ID4t8F"
      },
      "source": [
        ""
      ],
      "execution_count": null,
      "outputs": []
    }
  ]
}
