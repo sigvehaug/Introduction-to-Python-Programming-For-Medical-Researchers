{
  "nbformat": 4,
  "nbformat_minor": 0,
  "metadata": {
    "anaconda-cloud": {},
    "kernelspec": {
      "display_name": "Python 3",
      "language": "python",
      "name": "python3"
    },
    "language_info": {
      "codemirror_mode": {
        "name": "ipython",
        "version": 3
      },
      "file_extension": ".py",
      "mimetype": "text/x-python",
      "name": "python",
      "nbconvert_exporter": "python",
      "pygments_lexer": "ipython3",
      "version": "3.6.8"
    },
    "colab": {
      "name": "Exercise-Assessment.ipynb",
      "provenance": [],
      "include_colab_link": true
    }
  },
  "cells": [
    {
      "cell_type": "markdown",
      "metadata": {
        "id": "view-in-github",
        "colab_type": "text"
      },
      "source": [
        "<a href=\"https://colab.research.google.com/github/sigvehaug/Introduction-to-Python-for-Medical-Researchers/blob/master/Exercises/Exercise-Assessment.ipynb\" target=\"_parent\"><img src=\"https://colab.research.google.com/assets/colab-badge.svg\" alt=\"Open In Colab\"/></a>"
      ]
    },
    {
      "cell_type": "markdown",
      "metadata": {
        "id": "rzrzHykrUoFO"
      },
      "source": [
        "Introduction to Python Programming for Medical Researchers, University of Bern, Sigve Haug"
      ]
    },
    {
      "cell_type": "markdown",
      "metadata": {
        "id": "cpigRldCUqre"
      },
      "source": [
        "# Exercise Assignment\n",
        "\n",
        "Write Python code in a Jupyter Notebook on Colab which performs the following\n",
        "\n",
        "- Based on the csv [file](https://raw.githubusercontent.com/sigvehaug/Introduction-to-Python-for-Medical-Researchers/master/Data/ISIC_2019_Training_GroundTruth.csv) in the course repository, create a dataframe that contains the names of all the NV files in the repository. How many such images are there ?\n",
        "- Use the dataframe to create a list with all the NV images\n",
        "- By using the authomatic thresholding algorithm Otsu, create a new list with Otsu transformed images of the green channels. \n",
        "- Plot ten Otsu transformed images with a appropriate size in one row.\n",
        "\n",
        "\n",
        "### Delivery and Deadline\n",
        "\n",
        "- Upload your notebook to the e-learning platform of the course with the following file name convention: EXA-YourName.ipynb\n",
        "- Deadline for upload is 2021-09-27 (evening).\n",
        "\n",
        "Many thanks and have fun !\n",
        "---\n"
      ]
    }
  ]
}