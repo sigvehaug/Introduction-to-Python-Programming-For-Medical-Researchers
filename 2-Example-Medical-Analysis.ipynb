{
  "nbformat": 4,
  "nbformat_minor": 0,
  "metadata": {
    "celltoolbar": "Slideshow",
    "kernelspec": {
      "display_name": "Python 3",
      "language": "python",
      "name": "python3"
    },
    "language_info": {
      "codemirror_mode": {
        "name": "ipython",
        "version": 3
      },
      "file_extension": ".py",
      "mimetype": "text/x-python",
      "name": "python",
      "nbconvert_exporter": "python",
      "pygments_lexer": "ipython3",
      "version": "3.6.10"
    },
    "colab": {
      "name": "2-Example-Medical-Analysis.ipynb",
      "provenance": [],
      "include_colab_link": true
    }
  },
  "cells": [
    {
      "cell_type": "markdown",
      "metadata": {
        "id": "view-in-github",
        "colab_type": "text"
      },
      "source": [
        "<a href=\"https://colab.research.google.com/github/sigvehaug/Introduction-to-Python-for-Medical-Researchers/blob/master/2-Example-Medical-Analysis.ipynb\" target=\"_parent\"><img src=\"https://colab.research.google.com/assets/colab-badge.svg\" alt=\"Open In Colab\"/></a>"
      ]
    },
    {
      "cell_type": "markdown",
      "metadata": {
        "id": "eWM_s5V7x7mg"
      },
      "source": [
        "Introduction to Python Programming for Medical Researchers, 2021-09-06, University of Bern, Sigve Haug\n"
      ]
    },
    {
      "cell_type": "markdown",
      "metadata": {
        "id": "zIyueUzWhrgR"
      },
      "source": [
        "# 2. Example of a small medical data analysis with Python\n",
        "\n",
        "(Use 45 minutes to go through this notebook on colab)\n",
        " \n",
        " In this notebook we will step by step see how to do a simple data analysis with Python. We will see how to\n",
        "* read in in comma separated value data (text or excel files)\n",
        "* use Dataframes for preprocessing and cleaning of data\n",
        "* use Dataframes for descriptive statistics\n",
        "* use Dataframes for plotting\n",
        "* use Dataframes for hypothesis testing\n",
        "* save data and results to a file\n",
        "\n",
        "In the next session we will then cover the Python and programming language concepts we have been using.\n"
      ]
    },
    {
      "cell_type": "markdown",
      "metadata": {
        "id": "iOE-QtGXjueI"
      },
      "source": [
        "## Read in a small medical dataset with blood pressure measurements\n",
        "\n",
        "Some colleagues provided this blood pressure [dataset](https://drive.google.com/file/d/1d8x5ZSwa9Yn-8J8NxiygFDaoMO8PRNWc/view?usp=sharing). Follow the link and take a look. If you don't understand what the columns mean, you can study this [webpage](https://www.heart.org/en/health-topics/high-blood-pressure/understanding-blood-pressure-readings).\n"
      ]
    },
    {
      "cell_type": "markdown",
      "metadata": {
        "id": "KdjLDSOL3h8H"
      },
      "source": [
        "In Python not all software libraries, called modules, are in memory. So we need to import those we need for our data analysis."
      ]
    },
    {
      "cell_type": "code",
      "metadata": {
        "id": "SQarVFzB3y88"
      },
      "source": [
        "# The data analysis module containing DataFrames\n",
        "\n"
      ],
      "execution_count": null,
      "outputs": []
    },
    {
      "cell_type": "code",
      "metadata": {
        "id": "b10IDckBlNVC"
      },
      "source": [
        "# Create a variable with the download link of the data file on google drive\n",
        "# and create a dataframe varible (object) into which we read the data\n",
        "url  = 'https://drive.google.com/uc?export=download&id=1d8x5ZSwa9Yn-8J8NxiygFDaoMO8PRNWc'\n",
        "\n"
      ],
      "execution_count": 1,
      "outputs": []
    },
    {
      "cell_type": "code",
      "metadata": {
        "id": "x-2y0jQgsyIJ"
      },
      "source": [
        ""
      ],
      "execution_count": 1,
      "outputs": []
    },
    {
      "cell_type": "code",
      "metadata": {
        "id": "1b4hHwwK6Zjw"
      },
      "source": [
        "#data"
      ],
      "execution_count": 2,
      "outputs": []
    },
    {
      "cell_type": "code",
      "metadata": {
        "id": "QR4ctOb666kk"
      },
      "source": [
        ""
      ],
      "execution_count": 2,
      "outputs": []
    },
    {
      "cell_type": "code",
      "metadata": {
        "id": "IISMzfJe69j6"
      },
      "source": [
        ""
      ],
      "execution_count": 2,
      "outputs": []
    },
    {
      "cell_type": "code",
      "metadata": {
        "id": "0MJ5qbMQ6_PP"
      },
      "source": [
        ""
      ],
      "execution_count": 2,
      "outputs": []
    },
    {
      "cell_type": "code",
      "metadata": {
        "id": "GazhZv907GZp"
      },
      "source": [
        ""
      ],
      "execution_count": 2,
      "outputs": []
    },
    {
      "cell_type": "markdown",
      "metadata": {
        "id": "YN0zO1Fd79s3"
      },
      "source": [
        "## Data Cleaning\n",
        "\n",
        "We seem to have a problem with the blood pressure columns. They contain rows with #NULL. Pandas dataframes have ways to handle that."
      ]
    },
    {
      "cell_type": "code",
      "metadata": {
        "id": "fjyE8Gew7846"
      },
      "source": [
        ""
      ],
      "execution_count": 2,
      "outputs": []
    },
    {
      "cell_type": "markdown",
      "metadata": {
        "id": "XPB6jRuyGRnG"
      },
      "source": [
        "## Plotting\n",
        "\n",
        "Now that we can study the summary statistics we also want to study the distributions."
      ]
    },
    {
      "cell_type": "code",
      "metadata": {
        "id": "Qj8pI_ACJUpY"
      },
      "source": [
        "# Plot all histograms fast\n"
      ],
      "execution_count": 3,
      "outputs": []
    },
    {
      "cell_type": "code",
      "metadata": {
        "id": "mmPBLgVeQPsR"
      },
      "source": [
        "# Make one plot a bit nicer\n"
      ],
      "execution_count": 4,
      "outputs": []
    },
    {
      "cell_type": "code",
      "metadata": {
        "id": "7rpd15-6R36v"
      },
      "source": [
        "# Plot all correlations fast\n"
      ],
      "execution_count": 5,
      "outputs": []
    },
    {
      "cell_type": "code",
      "metadata": {
        "id": "emXMDLfkSN3n"
      },
      "source": [
        "# Plot the boxplots by sex\n"
      ],
      "execution_count": 6,
      "outputs": []
    },
    {
      "cell_type": "markdown",
      "metadata": {
        "id": "75oTL4nPFZIX"
      },
      "source": [
        "## Descriptive Statistics\n"
      ]
    },
    {
      "cell_type": "code",
      "metadata": {
        "id": "HAYAPE-3FgxL"
      },
      "source": [
        ""
      ],
      "execution_count": 6,
      "outputs": []
    },
    {
      "cell_type": "code",
      "metadata": {
        "id": "CG6lwY4lBBHP"
      },
      "source": [
        "# Histogram distributions and correlations and box plots as above"
      ],
      "execution_count": null,
      "outputs": []
    },
    {
      "cell_type": "code",
      "metadata": {
        "id": "lTusqmUbEZi5"
      },
      "source": [
        ""
      ],
      "execution_count": null,
      "outputs": []
    },
    {
      "cell_type": "markdown",
      "metadata": {
        "id": "kTLEqiT-Gdzv"
      },
      "source": [
        "## Inferential Statistics\n",
        "\n",
        "Normality test, test if female and males are different?"
      ]
    },
    {
      "cell_type": "code",
      "metadata": {
        "id": "vubPlnWoG8df"
      },
      "source": [
        ""
      ],
      "execution_count": 6,
      "outputs": []
    },
    {
      "cell_type": "code",
      "metadata": {
        "id": "VyFuZOr4WbyS"
      },
      "source": [
        ""
      ],
      "execution_count": 6,
      "outputs": []
    },
    {
      "cell_type": "code",
      "metadata": {
        "id": "61zz44XUVqIz"
      },
      "source": [
        "# Check for normality of the distributions\n",
        "#k2, p = stats.normaltest(male_data['BP_SYS']) # D Agostino-Pearson test\n",
        "\n"
      ],
      "execution_count": 8,
      "outputs": []
    },
    {
      "cell_type": "code",
      "metadata": {
        "id": "o_4Y6_nUW2xV"
      },
      "source": [
        "# Check if male and females are different\n"
      ],
      "execution_count": 9,
      "outputs": []
    },
    {
      "cell_type": "markdown",
      "metadata": {
        "id": "jwYb5JqzG85g"
      },
      "source": [
        "## Saving Results\n",
        "\n",
        "Save raw and cleaned data."
      ]
    },
    {
      "cell_type": "code",
      "metadata": {
        "id": "UgZSpQH5HDt_"
      },
      "source": [
        ""
      ],
      "execution_count": 9,
      "outputs": []
    },
    {
      "cell_type": "code",
      "metadata": {
        "id": "bDPGTR7tYBL3"
      },
      "source": [
        ""
      ],
      "execution_count": 9,
      "outputs": []
    },
    {
      "cell_type": "markdown",
      "metadata": {
        "id": "scmpDX-JYKXD"
      },
      "source": [
        "Where are this data files now?"
      ]
    },
    {
      "cell_type": "markdown",
      "metadata": {
        "id": "Ppm640Hutgmx"
      },
      "source": [
        "Now lets us look at the programming concepts we have used in a more formal way. Please go to the next notebook !"
      ]
    }
  ]
}