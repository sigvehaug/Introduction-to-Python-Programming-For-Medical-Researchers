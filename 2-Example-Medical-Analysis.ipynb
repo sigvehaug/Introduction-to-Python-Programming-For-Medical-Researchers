{
  "nbformat": 4,
  "nbformat_minor": 0,
  "metadata": {
    "celltoolbar": "Slideshow",
    "kernelspec": {
      "display_name": "Python 3",
      "language": "python",
      "name": "python3"
    },
    "language_info": {
      "codemirror_mode": {
        "name": "ipython",
        "version": 3
      },
      "file_extension": ".py",
      "mimetype": "text/x-python",
      "name": "python",
      "nbconvert_exporter": "python",
      "pygments_lexer": "ipython3",
      "version": "3.6.10"
    },
    "colab": {
      "name": "2-Example-Medical-Analysis.ipynb",
      "provenance": [],
      "include_colab_link": true
    }
  },
  "cells": [
    {
      "cell_type": "markdown",
      "metadata": {
        "id": "view-in-github",
        "colab_type": "text"
      },
      "source": [
        "<a href=\"https://colab.research.google.com/github/sigvehaug/Introduction-to-Python-Programming-For-Medical-Researchers/blob/master/2-Example-Medical-Analysis.ipynb\" target=\"_parent\"><img src=\"https://colab.research.google.com/assets/colab-badge.svg\" alt=\"Open In Colab\"/></a>"
      ]
    },
    {
      "cell_type": "markdown",
      "metadata": {
        "id": "eWM_s5V7x7mg"
      },
      "source": [
        "Introduction to Python Programming for Medical Researchers, 2021-09-06, University of Bern, Sigve Haug\n"
      ]
    },
    {
      "cell_type": "markdown",
      "metadata": {
        "id": "zIyueUzWhrgR"
      },
      "source": [
        "# 2. Example of a small medical data analysis with Python\n",
        "\n",
        "(Use 45 minutes to go through this notebook on colab)\n",
        " \n",
        " In this notebook we will step by step see how to do a simple data analysis with Python. We will see how to\n",
        "* read in in comma separated value data (text or excel files)\n",
        "* use Dataframes for preprocessing and cleaning of data\n",
        "* use Dataframes for descriptive statistics\n",
        "* use Dataframes for plotting\n",
        "* save data and results to a file\n",
        "\n",
        "In the next session we will then cover the Python and programming language concepts we have been using.\n"
      ]
    },
    {
      "cell_type": "markdown",
      "metadata": {
        "id": "iOE-QtGXjueI"
      },
      "source": [
        "## Read in a small medical dataset with blood pressure measurements\n",
        "\n",
        "Some colleagues provided this blood pressure [dataset](https://drive.google.com/file/d/1d8x5ZSwa9Yn-8J8NxiygFDaoMO8PRNWc/view?usp=sharing). Follow the link and take a look. If you don't understand what the columns mean, you can study this [webpage](https://www.heart.org/en/health-topics/high-blood-pressure/understanding-blood-pressure-readings).\n"
      ]
    },
    {
      "cell_type": "markdown",
      "metadata": {
        "id": "KdjLDSOL3h8H"
      },
      "source": [
        "In Python not all software libraries, called modules, are in memory. So we need to import those we need for our data analysis."
      ]
    },
    {
      "cell_type": "code",
      "metadata": {
        "id": "SQarVFzB3y88"
      },
      "source": [
        "# The data analysis module containing DataFrames\n",
        "import pandas as pd\n",
        "# The .....\n"
      ],
      "execution_count": 1,
      "outputs": []
    },
    {
      "cell_type": "code",
      "metadata": {
        "colab": {
          "base_uri": "https://localhost:8080/",
          "height": 422
        },
        "id": "b10IDckBlNVC",
        "outputId": "fb3d0f50-e0ac-4a0e-f21e-0d66e0574cf7"
      },
      "source": [
        "# Create a variable with the download link of the data file on google drive\n",
        "# and create a dataframe varible (object) into which we read the data\n",
        "url  = 'https://drive.google.com/uc?export=download&id=1d8x5ZSwa9Yn-8J8NxiygFDaoMO8PRNWc'\n",
        "data = pd.read_csv(url)\n",
        "data\n"
      ],
      "execution_count": 43,
      "outputs": [
        {
          "output_type": "execute_result",
          "data": {
            "text/html": [
              "<div>\n",
              "<style scoped>\n",
              "    .dataframe tbody tr th:only-of-type {\n",
              "        vertical-align: middle;\n",
              "    }\n",
              "\n",
              "    .dataframe tbody tr th {\n",
              "        vertical-align: top;\n",
              "    }\n",
              "\n",
              "    .dataframe thead th {\n",
              "        text-align: right;\n",
              "    }\n",
              "</style>\n",
              "<table border=\"1\" class=\"dataframe\">\n",
              "  <thead>\n",
              "    <tr style=\"text-align: right;\">\n",
              "      <th></th>\n",
              "      <th>Age</th>\n",
              "      <th>Sex</th>\n",
              "      <th>BP_SYS</th>\n",
              "      <th>BP_DIA</th>\n",
              "    </tr>\n",
              "  </thead>\n",
              "  <tbody>\n",
              "    <tr>\n",
              "      <th>0</th>\n",
              "      <td>87.76</td>\n",
              "      <td>0</td>\n",
              "      <td>#NULL!</td>\n",
              "      <td>60</td>\n",
              "    </tr>\n",
              "    <tr>\n",
              "      <th>1</th>\n",
              "      <td>76.22</td>\n",
              "      <td>0</td>\n",
              "      <td>150</td>\n",
              "      <td>77</td>\n",
              "    </tr>\n",
              "    <tr>\n",
              "      <th>2</th>\n",
              "      <td>70.28</td>\n",
              "      <td>0</td>\n",
              "      <td>115</td>\n",
              "      <td>72</td>\n",
              "    </tr>\n",
              "    <tr>\n",
              "      <th>3</th>\n",
              "      <td>100.28</td>\n",
              "      <td>1</td>\n",
              "      <td>183</td>\n",
              "      <td>82</td>\n",
              "    </tr>\n",
              "    <tr>\n",
              "      <th>4</th>\n",
              "      <td>61.62</td>\n",
              "      <td>0</td>\n",
              "      <td>#NULL!</td>\n",
              "      <td>#NULL!</td>\n",
              "    </tr>\n",
              "    <tr>\n",
              "      <th>...</th>\n",
              "      <td>...</td>\n",
              "      <td>...</td>\n",
              "      <td>...</td>\n",
              "      <td>...</td>\n",
              "    </tr>\n",
              "    <tr>\n",
              "      <th>95</th>\n",
              "      <td>93.16</td>\n",
              "      <td>1</td>\n",
              "      <td>#NULL!</td>\n",
              "      <td>#NULL!</td>\n",
              "    </tr>\n",
              "    <tr>\n",
              "      <th>96</th>\n",
              "      <td>62.69</td>\n",
              "      <td>0</td>\n",
              "      <td>133</td>\n",
              "      <td>72</td>\n",
              "    </tr>\n",
              "    <tr>\n",
              "      <th>97</th>\n",
              "      <td>79.45</td>\n",
              "      <td>1</td>\n",
              "      <td>200</td>\n",
              "      <td>70</td>\n",
              "    </tr>\n",
              "    <tr>\n",
              "      <th>98</th>\n",
              "      <td>86.94</td>\n",
              "      <td>1</td>\n",
              "      <td>149</td>\n",
              "      <td>54</td>\n",
              "    </tr>\n",
              "    <tr>\n",
              "      <th>99</th>\n",
              "      <td>81.09</td>\n",
              "      <td>1</td>\n",
              "      <td>175</td>\n",
              "      <td>88</td>\n",
              "    </tr>\n",
              "  </tbody>\n",
              "</table>\n",
              "<p>100 rows × 4 columns</p>\n",
              "</div>"
            ],
            "text/plain": [
              "       Age  Sex  BP_SYS  BP_DIA\n",
              "0    87.76    0  #NULL!      60\n",
              "1    76.22    0     150      77\n",
              "2    70.28    0     115      72\n",
              "3   100.28    1     183      82\n",
              "4    61.62    0  #NULL!  #NULL!\n",
              "..     ...  ...     ...     ...\n",
              "95   93.16    1  #NULL!  #NULL!\n",
              "96   62.69    0     133      72\n",
              "97   79.45    1     200      70\n",
              "98   86.94    1     149      54\n",
              "99   81.09    1     175      88\n",
              "\n",
              "[100 rows x 4 columns]"
            ]
          },
          "metadata": {},
          "execution_count": 43
        }
      ]
    },
    {
      "cell_type": "code",
      "metadata": {
        "id": "x-2y0jQgsyIJ"
      },
      "source": [
        "pd.set_option('max_rows',None)"
      ],
      "execution_count": 5,
      "outputs": []
    },
    {
      "cell_type": "code",
      "metadata": {
        "id": "1b4hHwwK6Zjw"
      },
      "source": [
        "#data"
      ],
      "execution_count": 9,
      "outputs": []
    },
    {
      "cell_type": "code",
      "metadata": {
        "id": "QR4ctOb666kk"
      },
      "source": [
        "pd.set_option('max_rows',20)"
      ],
      "execution_count": 39,
      "outputs": []
    },
    {
      "cell_type": "code",
      "metadata": {
        "colab": {
          "base_uri": "https://localhost:8080/"
        },
        "id": "IISMzfJe69j6",
        "outputId": "9c83746b-6ab3-49e1-81f8-5f7d1789ecf1"
      },
      "source": [
        "data.info()"
      ],
      "execution_count": 11,
      "outputs": [
        {
          "output_type": "stream",
          "name": "stdout",
          "text": [
            "<class 'pandas.core.frame.DataFrame'>\n",
            "RangeIndex: 100 entries, 0 to 99\n",
            "Data columns (total 4 columns):\n",
            " #   Column  Non-Null Count  Dtype  \n",
            "---  ------  --------------  -----  \n",
            " 0   Age     100 non-null    float64\n",
            " 1   Sex     100 non-null    int64  \n",
            " 2   BP_SYS  100 non-null    object \n",
            " 3   BP_DIA  100 non-null    object \n",
            "dtypes: float64(1), int64(1), object(2)\n",
            "memory usage: 3.2+ KB\n"
          ]
        }
      ]
    },
    {
      "cell_type": "code",
      "metadata": {
        "colab": {
          "base_uri": "https://localhost:8080/",
          "height": 297
        },
        "id": "0MJ5qbMQ6_PP",
        "outputId": "51ed5e93-8773-40e5-d4c0-d226c396b5fb"
      },
      "source": [
        "data.describe()"
      ],
      "execution_count": 12,
      "outputs": [
        {
          "output_type": "execute_result",
          "data": {
            "text/html": [
              "<div>\n",
              "<style scoped>\n",
              "    .dataframe tbody tr th:only-of-type {\n",
              "        vertical-align: middle;\n",
              "    }\n",
              "\n",
              "    .dataframe tbody tr th {\n",
              "        vertical-align: top;\n",
              "    }\n",
              "\n",
              "    .dataframe thead th {\n",
              "        text-align: right;\n",
              "    }\n",
              "</style>\n",
              "<table border=\"1\" class=\"dataframe\">\n",
              "  <thead>\n",
              "    <tr style=\"text-align: right;\">\n",
              "      <th></th>\n",
              "      <th>Age</th>\n",
              "      <th>Sex</th>\n",
              "    </tr>\n",
              "  </thead>\n",
              "  <tbody>\n",
              "    <tr>\n",
              "      <th>count</th>\n",
              "      <td>100.000000</td>\n",
              "      <td>100.000000</td>\n",
              "    </tr>\n",
              "    <tr>\n",
              "      <th>mean</th>\n",
              "      <td>70.165700</td>\n",
              "      <td>0.460000</td>\n",
              "    </tr>\n",
              "    <tr>\n",
              "      <th>std</th>\n",
              "      <td>15.152183</td>\n",
              "      <td>0.500908</td>\n",
              "    </tr>\n",
              "    <tr>\n",
              "      <th>...</th>\n",
              "      <td>...</td>\n",
              "      <td>...</td>\n",
              "    </tr>\n",
              "    <tr>\n",
              "      <th>50%</th>\n",
              "      <td>71.945000</td>\n",
              "      <td>0.000000</td>\n",
              "    </tr>\n",
              "    <tr>\n",
              "      <th>75%</th>\n",
              "      <td>81.302500</td>\n",
              "      <td>1.000000</td>\n",
              "    </tr>\n",
              "    <tr>\n",
              "      <th>max</th>\n",
              "      <td>100.810000</td>\n",
              "      <td>1.000000</td>\n",
              "    </tr>\n",
              "  </tbody>\n",
              "</table>\n",
              "<p>8 rows × 2 columns</p>\n",
              "</div>"
            ],
            "text/plain": [
              "              Age         Sex\n",
              "count  100.000000  100.000000\n",
              "mean    70.165700    0.460000\n",
              "std     15.152183    0.500908\n",
              "...           ...         ...\n",
              "50%     71.945000    0.000000\n",
              "75%     81.302500    1.000000\n",
              "max    100.810000    1.000000\n",
              "\n",
              "[8 rows x 2 columns]"
            ]
          },
          "metadata": {},
          "execution_count": 12
        }
      ]
    },
    {
      "cell_type": "code",
      "metadata": {
        "colab": {
          "base_uri": "https://localhost:8080/",
          "height": 297
        },
        "id": "GazhZv907GZp",
        "outputId": "af3a1b40-12c3-448e-a050-bfe9677978f8"
      },
      "source": [
        "round(data,2)"
      ],
      "execution_count": 13,
      "outputs": [
        {
          "output_type": "execute_result",
          "data": {
            "text/html": [
              "<div>\n",
              "<style scoped>\n",
              "    .dataframe tbody tr th:only-of-type {\n",
              "        vertical-align: middle;\n",
              "    }\n",
              "\n",
              "    .dataframe tbody tr th {\n",
              "        vertical-align: top;\n",
              "    }\n",
              "\n",
              "    .dataframe thead th {\n",
              "        text-align: right;\n",
              "    }\n",
              "</style>\n",
              "<table border=\"1\" class=\"dataframe\">\n",
              "  <thead>\n",
              "    <tr style=\"text-align: right;\">\n",
              "      <th></th>\n",
              "      <th>Age</th>\n",
              "      <th>Sex</th>\n",
              "      <th>BP_SYS</th>\n",
              "      <th>BP_DIA</th>\n",
              "    </tr>\n",
              "  </thead>\n",
              "  <tbody>\n",
              "    <tr>\n",
              "      <th>0</th>\n",
              "      <td>87.76</td>\n",
              "      <td>0</td>\n",
              "      <td>#NULL!</td>\n",
              "      <td>60</td>\n",
              "    </tr>\n",
              "    <tr>\n",
              "      <th>1</th>\n",
              "      <td>76.22</td>\n",
              "      <td>0</td>\n",
              "      <td>150</td>\n",
              "      <td>77</td>\n",
              "    </tr>\n",
              "    <tr>\n",
              "      <th>2</th>\n",
              "      <td>70.28</td>\n",
              "      <td>0</td>\n",
              "      <td>115</td>\n",
              "      <td>72</td>\n",
              "    </tr>\n",
              "    <tr>\n",
              "      <th>...</th>\n",
              "      <td>...</td>\n",
              "      <td>...</td>\n",
              "      <td>...</td>\n",
              "      <td>...</td>\n",
              "    </tr>\n",
              "    <tr>\n",
              "      <th>97</th>\n",
              "      <td>79.45</td>\n",
              "      <td>1</td>\n",
              "      <td>200</td>\n",
              "      <td>70</td>\n",
              "    </tr>\n",
              "    <tr>\n",
              "      <th>98</th>\n",
              "      <td>86.94</td>\n",
              "      <td>1</td>\n",
              "      <td>149</td>\n",
              "      <td>54</td>\n",
              "    </tr>\n",
              "    <tr>\n",
              "      <th>99</th>\n",
              "      <td>81.09</td>\n",
              "      <td>1</td>\n",
              "      <td>175</td>\n",
              "      <td>88</td>\n",
              "    </tr>\n",
              "  </tbody>\n",
              "</table>\n",
              "<p>100 rows × 4 columns</p>\n",
              "</div>"
            ],
            "text/plain": [
              "      Age  Sex  BP_SYS BP_DIA\n",
              "0   87.76    0  #NULL!     60\n",
              "1   76.22    0     150     77\n",
              "2   70.28    0     115     72\n",
              "..    ...  ...     ...    ...\n",
              "97  79.45    1     200     70\n",
              "98  86.94    1     149     54\n",
              "99  81.09    1     175     88\n",
              "\n",
              "[100 rows x 4 columns]"
            ]
          },
          "metadata": {},
          "execution_count": 13
        }
      ]
    },
    {
      "cell_type": "markdown",
      "metadata": {
        "id": "YN0zO1Fd79s3"
      },
      "source": [
        "## Data Cleaning\n",
        "\n",
        "We seem to have a problem with the blood pressure columns. They contain rows with #NULL. Pandas dataframes have ways to handle that."
      ]
    },
    {
      "cell_type": "code",
      "metadata": {
        "colab": {
          "base_uri": "https://localhost:8080/",
          "height": 422
        },
        "id": "fjyE8Gew7846",
        "outputId": "ea0c162c-fae2-44b8-d54f-198d13c89bc0"
      },
      "source": [
        "clean_data = data.replace('#NULL!',float(0))\n",
        "clean_data['BP_SYS'] = pd.to_numeric(clean_data['BP_SYS'])\n",
        "clean_data['BP_DIA'] = pd.to_numeric(clean_data['BP_DIA'])\n",
        "clean_data['BP_SYS'] = clean_data['BP_SYS'].replace(float(0),clean_data['BP_SYS'].mean())\n",
        "clean_data['BP_DIA'] = clean_data['BP_DIA'].replace(float(0),clean_data['BP_DIA'].mean())\n",
        "clean_data"
      ],
      "execution_count": 45,
      "outputs": [
        {
          "output_type": "execute_result",
          "data": {
            "text/html": [
              "<div>\n",
              "<style scoped>\n",
              "    .dataframe tbody tr th:only-of-type {\n",
              "        vertical-align: middle;\n",
              "    }\n",
              "\n",
              "    .dataframe tbody tr th {\n",
              "        vertical-align: top;\n",
              "    }\n",
              "\n",
              "    .dataframe thead th {\n",
              "        text-align: right;\n",
              "    }\n",
              "</style>\n",
              "<table border=\"1\" class=\"dataframe\">\n",
              "  <thead>\n",
              "    <tr style=\"text-align: right;\">\n",
              "      <th></th>\n",
              "      <th>Age</th>\n",
              "      <th>Sex</th>\n",
              "      <th>BP_SYS</th>\n",
              "      <th>BP_DIA</th>\n",
              "    </tr>\n",
              "  </thead>\n",
              "  <tbody>\n",
              "    <tr>\n",
              "      <th>0</th>\n",
              "      <td>87.76</td>\n",
              "      <td>0</td>\n",
              "      <td>103.42</td>\n",
              "      <td>60.00</td>\n",
              "    </tr>\n",
              "    <tr>\n",
              "      <th>1</th>\n",
              "      <td>76.22</td>\n",
              "      <td>0</td>\n",
              "      <td>150.00</td>\n",
              "      <td>77.00</td>\n",
              "    </tr>\n",
              "    <tr>\n",
              "      <th>2</th>\n",
              "      <td>70.28</td>\n",
              "      <td>0</td>\n",
              "      <td>115.00</td>\n",
              "      <td>72.00</td>\n",
              "    </tr>\n",
              "    <tr>\n",
              "      <th>3</th>\n",
              "      <td>100.28</td>\n",
              "      <td>1</td>\n",
              "      <td>183.00</td>\n",
              "      <td>82.00</td>\n",
              "    </tr>\n",
              "    <tr>\n",
              "      <th>4</th>\n",
              "      <td>61.62</td>\n",
              "      <td>0</td>\n",
              "      <td>103.42</td>\n",
              "      <td>57.53</td>\n",
              "    </tr>\n",
              "    <tr>\n",
              "      <th>...</th>\n",
              "      <td>...</td>\n",
              "      <td>...</td>\n",
              "      <td>...</td>\n",
              "      <td>...</td>\n",
              "    </tr>\n",
              "    <tr>\n",
              "      <th>95</th>\n",
              "      <td>93.16</td>\n",
              "      <td>1</td>\n",
              "      <td>103.42</td>\n",
              "      <td>57.53</td>\n",
              "    </tr>\n",
              "    <tr>\n",
              "      <th>96</th>\n",
              "      <td>62.69</td>\n",
              "      <td>0</td>\n",
              "      <td>133.00</td>\n",
              "      <td>72.00</td>\n",
              "    </tr>\n",
              "    <tr>\n",
              "      <th>97</th>\n",
              "      <td>79.45</td>\n",
              "      <td>1</td>\n",
              "      <td>200.00</td>\n",
              "      <td>70.00</td>\n",
              "    </tr>\n",
              "    <tr>\n",
              "      <th>98</th>\n",
              "      <td>86.94</td>\n",
              "      <td>1</td>\n",
              "      <td>149.00</td>\n",
              "      <td>54.00</td>\n",
              "    </tr>\n",
              "    <tr>\n",
              "      <th>99</th>\n",
              "      <td>81.09</td>\n",
              "      <td>1</td>\n",
              "      <td>175.00</td>\n",
              "      <td>88.00</td>\n",
              "    </tr>\n",
              "  </tbody>\n",
              "</table>\n",
              "<p>100 rows × 4 columns</p>\n",
              "</div>"
            ],
            "text/plain": [
              "       Age  Sex  BP_SYS  BP_DIA\n",
              "0    87.76    0  103.42   60.00\n",
              "1    76.22    0  150.00   77.00\n",
              "2    70.28    0  115.00   72.00\n",
              "3   100.28    1  183.00   82.00\n",
              "4    61.62    0  103.42   57.53\n",
              "..     ...  ...     ...     ...\n",
              "95   93.16    1  103.42   57.53\n",
              "96   62.69    0  133.00   72.00\n",
              "97   79.45    1  200.00   70.00\n",
              "98   86.94    1  149.00   54.00\n",
              "99   81.09    1  175.00   88.00\n",
              "\n",
              "[100 rows x 4 columns]"
            ]
          },
          "metadata": {},
          "execution_count": 45
        }
      ]
    },
    {
      "cell_type": "markdown",
      "metadata": {
        "id": "XPB6jRuyGRnG"
      },
      "source": [
        "## Plotting\n",
        "\n",
        "Now that we can study the summary statistics we also want to study the distributions."
      ]
    },
    {
      "cell_type": "code",
      "metadata": {
        "colab": {
          "base_uri": "https://localhost:8080/",
          "height": 269
        },
        "id": "Qj8pI_ACJUpY",
        "outputId": "8c5f2059-fbbc-4da8-a3a9-41bf17b130af"
      },
      "source": [
        "# Histograms\n",
        "import matplotlib.pyplot as plt\n",
        "fig, axes = plt.subplots(2,2)\n",
        "#axes\n",
        "clean_data['Age'].plot(kind='hist')\n",
        "clean_data['Sex'].plot(kind='hist')\n",
        "#clean_data['BP_SYS'].plot(kind='hist')\n",
        "#clean_data['BP_DIA'].plot(kind='hist')\n",
        "#plt.tight_layout()\n",
        "plt.show()"
      ],
      "execution_count": 67,
      "outputs": [
        {
          "output_type": "display_data",
          "data": {
            "image/png": "[encoded data removed]",
            "text/plain": [
              "<Figure size 432x288 with 4 Axes>"
            ]
          },
          "metadata": {
            "needs_background": "light"
          }
        }
      ]
    },
    {
      "cell_type": "markdown",
      "metadata": {
        "id": "75oTL4nPFZIX"
      },
      "source": [
        "## Descriptive Statistics\n"
      ]
    },
    {
      "cell_type": "code",
      "metadata": {
        "colab": {
          "base_uri": "https://localhost:8080/",
          "height": 300
        },
        "id": "HAYAPE-3FgxL",
        "outputId": "2567c8df-bf65-44c1-d7b9-d3de1216dcff"
      },
      "source": [
        "round(clean_data.describe(),2)"
      ],
      "execution_count": 47,
      "outputs": [
        {
          "output_type": "execute_result",
          "data": {
            "text/html": [
              "<div>\n",
              "<style scoped>\n",
              "    .dataframe tbody tr th:only-of-type {\n",
              "        vertical-align: middle;\n",
              "    }\n",
              "\n",
              "    .dataframe tbody tr th {\n",
              "        vertical-align: top;\n",
              "    }\n",
              "\n",
              "    .dataframe thead th {\n",
              "        text-align: right;\n",
              "    }\n",
              "</style>\n",
              "<table border=\"1\" class=\"dataframe\">\n",
              "  <thead>\n",
              "    <tr style=\"text-align: right;\">\n",
              "      <th></th>\n",
              "      <th>Age</th>\n",
              "      <th>Sex</th>\n",
              "      <th>BP_SYS</th>\n",
              "      <th>BP_DIA</th>\n",
              "    </tr>\n",
              "  </thead>\n",
              "  <tbody>\n",
              "    <tr>\n",
              "      <th>count</th>\n",
              "      <td>100.00</td>\n",
              "      <td>100.00</td>\n",
              "      <td>100.00</td>\n",
              "      <td>100.00</td>\n",
              "    </tr>\n",
              "    <tr>\n",
              "      <th>mean</th>\n",
              "      <td>70.17</td>\n",
              "      <td>0.46</td>\n",
              "      <td>133.41</td>\n",
              "      <td>73.64</td>\n",
              "    </tr>\n",
              "    <tr>\n",
              "      <th>std</th>\n",
              "      <td>15.15</td>\n",
              "      <td>0.50</td>\n",
              "      <td>29.43</td>\n",
              "      <td>16.66</td>\n",
              "    </tr>\n",
              "    <tr>\n",
              "      <th>min</th>\n",
              "      <td>22.08</td>\n",
              "      <td>0.00</td>\n",
              "      <td>90.00</td>\n",
              "      <td>47.00</td>\n",
              "    </tr>\n",
              "    <tr>\n",
              "      <th>25%</th>\n",
              "      <td>57.93</td>\n",
              "      <td>0.00</td>\n",
              "      <td>103.42</td>\n",
              "      <td>57.53</td>\n",
              "    </tr>\n",
              "    <tr>\n",
              "      <th>50%</th>\n",
              "      <td>71.94</td>\n",
              "      <td>0.00</td>\n",
              "      <td>131.50</td>\n",
              "      <td>72.00</td>\n",
              "    </tr>\n",
              "    <tr>\n",
              "      <th>75%</th>\n",
              "      <td>81.30</td>\n",
              "      <td>1.00</td>\n",
              "      <td>151.00</td>\n",
              "      <td>85.00</td>\n",
              "    </tr>\n",
              "    <tr>\n",
              "      <th>max</th>\n",
              "      <td>100.81</td>\n",
              "      <td>1.00</td>\n",
              "      <td>212.00</td>\n",
              "      <td>135.00</td>\n",
              "    </tr>\n",
              "  </tbody>\n",
              "</table>\n",
              "</div>"
            ],
            "text/plain": [
              "          Age     Sex  BP_SYS  BP_DIA\n",
              "count  100.00  100.00  100.00  100.00\n",
              "mean    70.17    0.46  133.41   73.64\n",
              "std     15.15    0.50   29.43   16.66\n",
              "min     22.08    0.00   90.00   47.00\n",
              "25%     57.93    0.00  103.42   57.53\n",
              "50%     71.94    0.00  131.50   72.00\n",
              "75%     81.30    1.00  151.00   85.00\n",
              "max    100.81    1.00  212.00  135.00"
            ]
          },
          "metadata": {},
          "execution_count": 47
        }
      ]
    },
    {
      "cell_type": "code",
      "metadata": {
        "colab": {
          "base_uri": "https://localhost:8080/",
          "height": 282
        },
        "id": "CG6lwY4lBBHP",
        "outputId": "d4cc2ba9-2488-4eec-f1d5-5552900d611c"
      },
      "source": [
        "# Histogram distributions and correlations\n",
        "clean_data['Age'].plot(kind='hist')"
      ],
      "execution_count": 50,
      "outputs": [
        {
          "output_type": "execute_result",
          "data": {
            "text/plain": [
              "<matplotlib.axes._subplots.AxesSubplot at 0x7f410073e350>"
            ]
          },
          "metadata": {},
          "execution_count": 50
        },
        {
          "output_type": "display_data",
          "data": {
            "image/png": "[encoded data removed]",
            "text/plain": [
              "<Figure size 432x288 with 1 Axes>"
            ]
          },
          "metadata": {
            "needs_background": "light"
          }
        }
      ]
    },
    {
      "cell_type": "code",
      "metadata": {
        "id": "lTusqmUbEZi5"
      },
      "source": [
        ""
      ],
      "execution_count": null,
      "outputs": []
    },
    {
      "cell_type": "markdown",
      "metadata": {
        "id": "kTLEqiT-Gdzv"
      },
      "source": [
        "## Inferential Statistics\n",
        "\n",
        "Normality test, test if female and males are different?"
      ]
    },
    {
      "cell_type": "code",
      "metadata": {
        "id": "vubPlnWoG8df"
      },
      "source": [
        ""
      ],
      "execution_count": null,
      "outputs": []
    },
    {
      "cell_type": "markdown",
      "metadata": {
        "id": "jwYb5JqzG85g"
      },
      "source": [
        "## Saving Results\n",
        "\n",
        "Save raw and clean data, descriptive stats and plots to a new folder."
      ]
    },
    {
      "cell_type": "code",
      "metadata": {
        "id": "UgZSpQH5HDt_"
      },
      "source": [
        ""
      ],
      "execution_count": null,
      "outputs": []
    },
    {
      "cell_type": "markdown",
      "metadata": {
        "id": "Ppm640Hutgmx"
      },
      "source": [
        "Now lets us look at the programming concepts we have used in a more formal way. Please go to the next notebook !"
      ]
    }
  ]
}