{
  "nbformat": 4,
  "nbformat_minor": 0,
  "metadata": {
    "kernelspec": {
      "display_name": "Python 3",
      "language": "python",
      "name": "python3"
    },
    "language_info": {
      "codemirror_mode": {
        "name": "ipython",
        "version": 3
      },
      "file_extension": ".py",
      "mimetype": "text/x-python",
      "name": "python",
      "nbconvert_exporter": "python",
      "pygments_lexer": "ipython3",
      "version": "3.6.7"
    },
    "toc": {
      "base_numbering": 1,
      "nav_menu": {},
      "number_sections": false,
      "sideBar": true,
      "skip_h1_title": false,
      "title_cell": "Table of Contents",
      "title_sidebar": "Contents",
      "toc_cell": false,
      "toc_position": {},
      "toc_section_display": true,
      "toc_window_display": true
    },
    "toc-autonumbering": false,
    "toc-showmarkdowntxt": false,
    "colab": {
      "name": "08-Numpy-images.ipynb",
      "provenance": [],
      "toc_visible": true,
      "include_colab_link": true
    }
  },
  "cells": [
    {
      "cell_type": "markdown",
      "metadata": {
        "id": "view-in-github",
        "colab_type": "text"
      },
      "source": [
        "<a href=\"https://colab.research.google.com/github/sigvehaug/Introduction-to-Python-for-Medical-Researchers/blob/master/08-Numpy-images.ipynb\" target=\"_parent\"><img src=\"https://colab.research.google.com/assets/colab-badge.svg\" alt=\"Open In Colab\"/></a>"
      ]
    },
    {
      "cell_type": "markdown",
      "metadata": {
        "id": "5u4tBxn7n3wx"
      },
      "source": [
        "Introduction to Python Programming for Medical Researchers, University of Bern, Sigve Haug\n",
        "\n",
        "This notebook is a slightly revised version of G. Witz' course [Image Processing with Python](https://github.com/guiwitz/Python_image_processing)."
      ]
    },
    {
      "cell_type": "markdown",
      "metadata": {
        "toc-hr-collapsed": false,
        "id": "3PYjVCn75w2h"
      },
      "source": [
        "# 8. Numpy with (Medical) Images"
      ]
    },
    {
      "cell_type": "markdown",
      "metadata": {
        "id": "u9f0WPSe5w2l"
      },
      "source": [
        "The Numpy documentation is [here](https://numpy.org/doc/stable/index.html#numpy-docs-mainpage).\n",
        "\n",
        "---\n",
        "\n",
        "All images are essentially matrices with a variable number of dimensions where each element represents the value of one pixel. The different dimensions and the pixel values can have very different meanings depending on the type of image considered, but the structure is the same.\n",
        "\n",
        "Python does not allow by default to gracefully handle multi-dimensional data. In particular it is not desgined to handle matrix operations. Numpy was developed to fill in this blank and offers a very similar framework as the one offered by Matlab. It is underlying a large number of packages and has become abolsutely essential to Python scientific programming. In particular it underlies the functions of scikit-image. The latter in turn forms the basis of other software like CellProfiler. It is thus essential to have a good understanding of Numpy to  proceed.\n",
        "\n",
        "Instead of introducing Numpy in an abstract way, we are going here to present it through the lense of image processing in order to focus on the most useful features in the context of this course."
      ]
    },
    {
      "cell_type": "markdown",
      "metadata": {
        "toc-hr-collapsed": false,
        "id": "r0bwPJTo5w2m"
      },
      "source": [
        "## 8.1 Exploring an image"
      ]
    },
    {
      "cell_type": "markdown",
      "metadata": {
        "id": "Lkds5Lnc5w2m"
      },
      "source": [
        "Some test images are provided directly in skimage, so let us look at one (we'll deal with the details of image import later). First let us import the necessary packages."
      ]
    },
    {
      "cell_type": "code",
      "metadata": {
        "id": "HVj_i4gA5w2m"
      },
      "source": [
        ""
      ],
      "execution_count": null,
      "outputs": []
    },
    {
      "cell_type": "code",
      "metadata": {
        "id": "LcwQV0qH5w2n"
      },
      "source": [
        "# This would a standard example image in the skimage package\n",
        "#image = skimage.data.coins()"
      ],
      "execution_count": null,
      "outputs": []
    },
    {
      "cell_type": "markdown",
      "metadata": {
        "id": "-jx1NHkuqqc7"
      },
      "source": [
        "We retrieve a skin lesion image from the github repository of the course."
      ]
    },
    {
      "cell_type": "code",
      "metadata": {
        "id": "ZvwLv8ugp_pl"
      },
      "source": [
        "url = 'https://raw.githubusercontent.com/sigvehaug/Introduction-to-Python-for-Medical-Researchers/master/Data/ISIC_0000015.jpg'\n"
      ],
      "execution_count": null,
      "outputs": []
    },
    {
      "cell_type": "code",
      "metadata": {
        "colab": {
          "base_uri": "https://localhost:8080/"
        },
        "id": "kCun2kD1vwKz",
        "outputId": "e760187d-9d58-4442-8954-22721ba9d91d"
      },
      "source": [
        "# What is the shape of the image ?\n"
      ],
      "execution_count": null,
      "outputs": [
        {
          "output_type": "execute_result",
          "data": {
            "text/plain": [
              "(767, 1022, 3)"
            ]
          },
          "metadata": {},
          "execution_count": 42
        }
      ]
    },
    {
      "cell_type": "markdown",
      "metadata": {
        "id": "fy3VA8E5v9hN"
      },
      "source": [
        "We see that this image has 767 rows, 1022 columns and 3 (RGB) channels. Let us now work on only one channel."
      ]
    },
    {
      "cell_type": "code",
      "metadata": {
        "id": "ZwuXmVBjwRHe"
      },
      "source": [
        ""
      ],
      "execution_count": null,
      "outputs": []
    },
    {
      "cell_type": "markdown",
      "metadata": {
        "id": "N09JIFmX5w2o"
      },
      "source": [
        "The first thing we can do is check the type of the image:"
      ]
    },
    {
      "cell_type": "code",
      "metadata": {
        "id": "juW1Ijfz5w2o"
      },
      "source": [
        ""
      ],
      "execution_count": null,
      "outputs": []
    },
    {
      "cell_type": "markdown",
      "metadata": {
        "id": "F0B_lZ7P5w2p"
      },
      "source": [
        "We thus see that the imported image is indeed a Numpy array. We can also find out what is the type of each pixel:"
      ]
    },
    {
      "cell_type": "code",
      "metadata": {
        "id": "CPFoN4jo5w2q"
      },
      "source": [
        ""
      ],
      "execution_count": null,
      "outputs": []
    },
    {
      "cell_type": "markdown",
      "metadata": {
        "id": "G4AN5XGF5w2q"
      },
      "source": [
        "We see here that the image is an 8bit image. Classical format we are going to see are 8bit (uint8), 16bit (uint16) and non-integers (usually float64). The type of the image pixels set what values they can take. For example 8bit means values from $0$ to $2^8 -1= 256-1 = 255$."
      ]
    },
    {
      "cell_type": "markdown",
      "metadata": {
        "id": "b_bJ5Y085w2r"
      },
      "source": [
        "Since typing is dynamic in Python, if we for example divide our uint8 image by 2 it ends up being a float."
      ]
    },
    {
      "cell_type": "code",
      "metadata": {
        "id": "NpDy2FmZ5w2r"
      },
      "source": [
        ""
      ],
      "execution_count": null,
      "outputs": []
    },
    {
      "cell_type": "code",
      "metadata": {
        "id": "67shCQaf5w2r"
      },
      "source": [
        ""
      ],
      "execution_count": null,
      "outputs": []
    },
    {
      "cell_type": "code",
      "metadata": {
        "id": "fvX9NfVc5w2r"
      },
      "source": [
        ""
      ],
      "execution_count": null,
      "outputs": []
    },
    {
      "cell_type": "code",
      "metadata": {
        "colab": {
          "base_uri": "https://localhost:8080/"
        },
        "id": "FIKHjcEF5w2s",
        "outputId": "51acdead-74b8-41a3-cd21-174c393ffa12"
      },
      "source": [
        "image2.dtype"
      ],
      "execution_count": null,
      "outputs": [
        {
          "output_type": "execute_result",
          "data": {
            "text/plain": [
              "dtype('float64')"
            ]
          },
          "metadata": {},
          "execution_count": 53
        }
      ]
    },
    {
      "cell_type": "markdown",
      "metadata": {
        "id": "E9N8h48G5w2s"
      },
      "source": [
        "Let us check what are the image dimensions using the shape method:"
      ]
    },
    {
      "cell_type": "code",
      "metadata": {
        "id": "gbdsBoGm5w2s"
      },
      "source": [
        ""
      ],
      "execution_count": null,
      "outputs": []
    },
    {
      "cell_type": "markdown",
      "metadata": {
        "id": "gUPm8EpX5w2s"
      },
      "source": [
        "We see that the image has 767 rows and 1022 columns. Let us have a look at it:"
      ]
    },
    {
      "cell_type": "code",
      "metadata": {
        "id": "kEYWdR8q5w2t"
      },
      "source": [
        ""
      ],
      "execution_count": null,
      "outputs": []
    },
    {
      "cell_type": "markdown",
      "metadata": {
        "id": "QBcTRjzK5w2t"
      },
      "source": [
        "Let us also look at the actual matrix behind that image:"
      ]
    },
    {
      "cell_type": "code",
      "metadata": {
        "id": "KktbimeK5w2t"
      },
      "source": [
        ""
      ],
      "execution_count": null,
      "outputs": []
    },
    {
      "cell_type": "markdown",
      "metadata": {
        "id": "Wl0XIcKP5w2t"
      },
      "source": [
        "Jupyter only shows us a part of this large matrix, adding ... between the first and last few rows/columns. Each value here corresponds to a single pixel of the image. The type of data contained in the array, here 8bit integer, is also displayed."
      ]
    },
    {
      "cell_type": "markdown",
      "metadata": {
        "id": "-QNvpBTq5w2u"
      },
      "source": [
        "## 8.2 Operations on arrays"
      ]
    },
    {
      "cell_type": "markdown",
      "metadata": {
        "id": "jeaqBlFc5w2u"
      },
      "source": [
        "### 8.2.2 Arithmetic operations"
      ]
    },
    {
      "cell_type": "markdown",
      "metadata": {
        "id": "DJ7NcmBG5w2u"
      },
      "source": [
        "Two types of simple arithmetic operations can be done on arrays. One can modify them using a scalar, for example by adding a constant:"
      ]
    },
    {
      "cell_type": "code",
      "metadata": {
        "id": "P6cKpb8k5w2u"
      },
      "source": [
        ""
      ],
      "execution_count": 2,
      "outputs": []
    },
    {
      "cell_type": "code",
      "metadata": {
        "id": "KCYWsTdv5w2u"
      },
      "source": [
        ""
      ],
      "execution_count": 2,
      "outputs": []
    },
    {
      "cell_type": "code",
      "metadata": {
        "id": "JWO39Gtz5w2v"
      },
      "source": [
        ""
      ],
      "execution_count": 2,
      "outputs": []
    },
    {
      "cell_type": "markdown",
      "metadata": {
        "id": "7fPGNDr55w2v"
      },
      "source": [
        "One has to be very careful with the type of the image."
      ]
    },
    {
      "cell_type": "markdown",
      "metadata": {
        "id": "5gGNmTC55w2v"
      },
      "source": [
        "As the array has 8bit type, with vlaues ranging from 0 to 255, any value above 255 limit gets reassigned at the start of the range.\n",
        "\n",
        "It is important to note that when doing an operation, Python adopts the most complex type of the variables involved (called upcasting). Hence if we add a float instead of an integer:"
      ]
    },
    {
      "cell_type": "code",
      "metadata": {
        "id": "n1W7wjmK5w2v"
      },
      "source": [
        ""
      ],
      "execution_count": 2,
      "outputs": []
    },
    {
      "cell_type": "markdown",
      "metadata": {
        "id": "teYTzVBM5w2w"
      },
      "source": [
        "the result is now correct and is of type float. If needed, arrays can be converted to approriate formats using the astype() method:"
      ]
    },
    {
      "cell_type": "markdown",
      "metadata": {
        "id": "O5mWzsBDt48x"
      },
      "source": [
        ""
      ]
    },
    {
      "cell_type": "code",
      "metadata": {
        "id": "YOWu8L4z5w2w"
      },
      "source": [
        ""
      ],
      "execution_count": 2,
      "outputs": []
    },
    {
      "cell_type": "code",
      "metadata": {
        "id": "I04-quSZ5w2w"
      },
      "source": [
        ""
      ],
      "execution_count": 3,
      "outputs": []
    },
    {
      "cell_type": "code",
      "metadata": {
        "colab": {
          "base_uri": "https://localhost:8080/"
        },
        "id": "ZdKwROUI5w2w",
        "outputId": "c0b2f8b4-e7f4-4cb8-e917-1e1f305b6615"
      },
      "source": [
        ""
      ],
      "execution_count": null,
      "outputs": [
        {
          "output_type": "stream",
          "name": "stdout",
          "text": [
            "[[485. 469. 485. ... 484. 470. 484.]\n",
            " [464. 272. 239. ... 307. 324. 465.]\n",
            " [485. 230. 230. ... 298. 306. 484.]\n",
            " ...\n",
            " [485. 255. 234. ... 314. 314. 484.]\n",
            " [459. 267. 230. ... 323. 338. 474.]\n",
            " [485. 470. 485. ... 474. 460. 484.]]\n"
          ]
        }
      ]
    },
    {
      "cell_type": "markdown",
      "metadata": {
        "id": "aP9M8UN45w2w"
      },
      "source": [
        "The second type of operation is element-wise by using two arrays of the same dimension. Let's change the image type to avoid the type of issue mentionded above."
      ]
    },
    {
      "cell_type": "code",
      "metadata": {
        "id": "E1ACwBTl5w2w"
      },
      "source": [
        ""
      ],
      "execution_count": null,
      "outputs": []
    },
    {
      "cell_type": "code",
      "metadata": {
        "id": "s68R9ANN5w2x"
      },
      "source": [
        ""
      ],
      "execution_count": 3,
      "outputs": []
    },
    {
      "cell_type": "markdown",
      "metadata": {
        "id": "w12JUhBB5w2x"
      },
      "source": [
        "Now we can for example multiply the image by itself:"
      ]
    },
    {
      "cell_type": "code",
      "metadata": {
        "id": "ofePQsrx5w2x"
      },
      "source": [
        ""
      ],
      "execution_count": 3,
      "outputs": []
    },
    {
      "cell_type": "code",
      "metadata": {
        "id": "hQEd9kOe5w2x"
      },
      "source": [
        ""
      ],
      "execution_count": 3,
      "outputs": []
    },
    {
      "cell_type": "code",
      "metadata": {
        "id": "mu6fyZ0J5w2x"
      },
      "source": [
        ""
      ],
      "execution_count": 4,
      "outputs": []
    },
    {
      "cell_type": "code",
      "metadata": {
        "id": "8UZG8VTC5w2x"
      },
      "source": [
        ""
      ],
      "execution_count": 4,
      "outputs": []
    },
    {
      "cell_type": "markdown",
      "metadata": {
        "id": "SwXRKpr55w2y"
      },
      "source": [
        "### 8.2.3 Logical operations"
      ]
    },
    {
      "cell_type": "markdown",
      "metadata": {
        "id": "9IyANBc35w2y"
      },
      "source": [
        "A set of important operations when processing images are logical (or boolean) operations. Those have a very simple syntax in Numpy. For example, let's compare pixel intensities to some value *a*:"
      ]
    },
    {
      "cell_type": "code",
      "metadata": {
        "id": "hlGtAhhM5w2y"
      },
      "source": [
        ""
      ],
      "execution_count": null,
      "outputs": []
    },
    {
      "cell_type": "code",
      "metadata": {
        "id": "ACSFBVtj5w2y"
      },
      "source": [
        ""
      ],
      "execution_count": null,
      "outputs": []
    },
    {
      "cell_type": "code",
      "metadata": {
        "colab": {
          "base_uri": "https://localhost:8080/"
        },
        "id": "Y1JgYUlQ5w2y",
        "outputId": "9384d620-e8fb-4499-ed8c-8475dd1ef11c"
      },
      "source": [
        ""
      ],
      "execution_count": null,
      "outputs": [
        {
          "output_type": "execute_result",
          "data": {
            "text/plain": [
              "(767, 1022)"
            ]
          },
          "metadata": {},
          "execution_count": 72
        }
      ]
    },
    {
      "cell_type": "code",
      "metadata": {
        "colab": {
          "base_uri": "https://localhost:8080/"
        },
        "id": "03hENqWo5w2y",
        "outputId": "4a7ede95-7dc0-4dcf-a997-a7c7ab3d001d"
      },
      "source": [
        ""
      ],
      "execution_count": null,
      "outputs": [
        {
          "output_type": "execute_result",
          "data": {
            "text/plain": [
              "dtype('bool')"
            ]
          },
          "metadata": {},
          "execution_count": 31
        }
      ]
    },
    {
      "cell_type": "code",
      "metadata": {
        "id": "32TSoGeo5w2y"
      },
      "source": [
        ""
      ],
      "execution_count": 4,
      "outputs": []
    },
    {
      "cell_type": "code",
      "metadata": {
        "id": "eAUQQ9CT5w2y"
      },
      "source": [
        ""
      ],
      "execution_count": 4,
      "outputs": []
    },
    {
      "cell_type": "code",
      "metadata": {
        "id": "IZr_qse_5w2z"
      },
      "source": [
        ""
      ],
      "execution_count": 4,
      "outputs": []
    },
    {
      "cell_type": "code",
      "metadata": {
        "id": "8eyKUAWJ5w2z"
      },
      "source": [
        ""
      ],
      "execution_count": 4,
      "outputs": []
    },
    {
      "cell_type": "markdown",
      "metadata": {
        "id": "Czsbjgzd5w2z"
      },
      "source": [
        "We see that the returned object is a logical matrix (containg True and False) of the same size as the image. That returned object can be directly assigned to a variable, leading to a very compact formulation:"
      ]
    },
    {
      "cell_type": "code",
      "metadata": {
        "id": "9ejEhZJ-5w2z"
      },
      "source": [
        ""
      ],
      "execution_count": 4,
      "outputs": []
    },
    {
      "cell_type": "markdown",
      "metadata": {
        "id": "Zx-QRSRD5w2z"
      },
      "source": [
        "Of course other logical operator can be used (<, >, ==, !=) and the resulting boolean matrices combined:"
      ]
    },
    {
      "cell_type": "code",
      "metadata": {
        "id": "_q-sGGF75w2z"
      },
      "source": [
        ""
      ],
      "execution_count": 4,
      "outputs": []
    },
    {
      "cell_type": "markdown",
      "metadata": {
        "id": "KlMWIRJz5w20"
      },
      "source": [
        "## 8.2.4 Functional operations"
      ]
    },
    {
      "cell_type": "markdown",
      "metadata": {
        "id": "LUn2Jnan5w20"
      },
      "source": [
        "Numpy has a large trove of functions to act on arrays. Just like the arithmetic operations described above, those functions are designed to be applied to entire arrays, and can either generate a new array or a single value. For example the mean, maximum and minmal pixel values can be abtained like this:"
      ]
    },
    {
      "cell_type": "code",
      "metadata": {
        "id": "eVMH8MD55w20"
      },
      "source": [
        ""
      ],
      "execution_count": 4,
      "outputs": []
    },
    {
      "cell_type": "code",
      "metadata": {
        "id": "bQ7Mrldn5w20"
      },
      "source": [
        ""
      ],
      "execution_count": 4,
      "outputs": []
    },
    {
      "cell_type": "code",
      "metadata": {
        "id": "CZZmnPG15w20"
      },
      "source": [
        ""
      ],
      "execution_count": 4,
      "outputs": []
    },
    {
      "cell_type": "code",
      "metadata": {
        "id": "csb-CyGf5w20"
      },
      "source": [
        ""
      ],
      "execution_count": 4,
      "outputs": []
    },
    {
      "cell_type": "code",
      "metadata": {
        "id": "69JlZ6wb5w21"
      },
      "source": [
        ""
      ],
      "execution_count": 4,
      "outputs": []
    },
    {
      "cell_type": "markdown",
      "metadata": {
        "id": "Zo2_BAvY5w21"
      },
      "source": [
        "Alternatively one can take the square root of each array element by doing:"
      ]
    },
    {
      "cell_type": "code",
      "metadata": {
        "id": "RHuOHifN5w21"
      },
      "source": [
        ""
      ],
      "execution_count": 4,
      "outputs": []
    },
    {
      "cell_type": "markdown",
      "metadata": {
        "id": "ZOHgJjJT5w21"
      },
      "source": [
        "It is impossible to give an exhaustive presentation of Numpy functions. We will simply describe functions that we use a we go through course material."
      ]
    },
    {
      "cell_type": "markdown",
      "metadata": {
        "id": "fp1QqfFy5w21"
      },
      "source": [
        "## 8.3 Slicing and indexing"
      ]
    },
    {
      "cell_type": "markdown",
      "metadata": {
        "id": "2pQRC4lp5w21"
      },
      "source": [
        "Let us now go back to our color image to explore how to select specific parts of an image."
      ]
    },
    {
      "cell_type": "code",
      "metadata": {
        "id": "fCMySnt45w21"
      },
      "source": [
        ""
      ],
      "execution_count": null,
      "outputs": []
    },
    {
      "cell_type": "code",
      "metadata": {
        "id": "PbNRGu2h5w21"
      },
      "source": [
        ""
      ],
      "execution_count": 4,
      "outputs": []
    },
    {
      "cell_type": "markdown",
      "metadata": {
        "id": "cHDSXWkU5w22"
      },
      "source": [
        "We see that the image has three dimensions, probably it's a stack of three images of size 767x1022. Let us try to have a look at this image hoping that dimensions are handled gracefully:"
      ]
    },
    {
      "cell_type": "code",
      "metadata": {
        "id": "BRymam3f5w22"
      },
      "source": [
        ""
      ],
      "execution_count": 4,
      "outputs": []
    },
    {
      "cell_type": "markdown",
      "metadata": {
        "id": "r56Kg8ky5w22"
      },
      "source": [
        "The image being in natural colors, the three dimensions probably indicate an RGB (red, green, blue) format, and the plotting function just knows what to do in that case."
      ]
    },
    {
      "cell_type": "markdown",
      "metadata": {
        "toc-hr-collapsed": false,
        "id": "xZtv3xq25w22"
      },
      "source": [
        "### 8.3.1 Array slicing"
      ]
    },
    {
      "cell_type": "markdown",
      "metadata": {
        "id": "4DL-VR075w22"
      },
      "source": [
        "Let us now just look at one of the three planes composing the image. To do that, we are going the select a portion of the image array by slicing it. One can give:\n",
        "- a single index e.g. 0 for the first element\n",
        "- a range e.g. 0:10 for the first 10 elements\n",
        "- take all elements using a semi-column :\n",
        "\n",
        "What portion is selected has to be specified for each dimensions of an array. In our particular case, we want to select all rows, all columns and a single plane of the image:"
      ]
    },
    {
      "cell_type": "code",
      "metadata": {
        "id": "CN6irgrc5w22"
      },
      "source": [
        ""
      ],
      "execution_count": 4,
      "outputs": []
    },
    {
      "cell_type": "code",
      "metadata": {
        "id": "rmzRMjco5w23"
      },
      "source": [
        ""
      ],
      "execution_count": 4,
      "outputs": []
    },
    {
      "cell_type": "code",
      "metadata": {
        "id": "c_NKm-Lm5w23"
      },
      "source": [
        ""
      ],
      "execution_count": 4,
      "outputs": []
    },
    {
      "cell_type": "code",
      "metadata": {
        "id": "ytQYwP7j5w23"
      },
      "source": [
        ""
      ],
      "execution_count": 4,
      "outputs": []
    },
    {
      "cell_type": "markdown",
      "metadata": {
        "id": "ZZaM7RyA5w23"
      },
      "source": [
        "We see now the red layer of the image. We can do the same for the others by specifying planes 0, 1, and 2:"
      ]
    },
    {
      "cell_type": "code",
      "metadata": {
        "id": "dgIKb_xo5w23"
      },
      "source": [
        ""
      ],
      "execution_count": 4,
      "outputs": []
    },
    {
      "cell_type": "markdown",
      "metadata": {
        "id": "ha2EQul-5w23"
      },
      "source": [
        "Logically intensities are different. We can confirm that by measuring the mean of each plane. To do that we use the same function as above but apply it to a singel sliced plane:"
      ]
    },
    {
      "cell_type": "code",
      "metadata": {
        "id": "WedAujzz5w24"
      },
      "source": [
        "image4 = image[:,:,0]"
      ],
      "execution_count": null,
      "outputs": []
    },
    {
      "cell_type": "code",
      "metadata": {
        "colab": {
          "base_uri": "https://localhost:8080/"
        },
        "id": "qKY0Qi6Y5w24",
        "outputId": "e2b847d1-5623-406e-f484-ad606276e80f"
      },
      "source": [
        "np.mean(image4)"
      ],
      "execution_count": null,
      "outputs": [
        {
          "output_type": "execute_result",
          "data": {
            "text/plain": [
              "174.28380071286966"
            ]
          },
          "metadata": {},
          "execution_count": 97
        }
      ]
    },
    {
      "cell_type": "markdown",
      "metadata": {
        "id": "0Cqb5_Lh5w24"
      },
      "source": [
        "and for all planes using a comprehension list:"
      ]
    },
    {
      "cell_type": "code",
      "metadata": {
        "id": "LZRgQXgx5w24"
      },
      "source": [
        ""
      ],
      "execution_count": 4,
      "outputs": []
    },
    {
      "cell_type": "code",
      "metadata": {
        "id": "68Zzdd3f5w24"
      },
      "source": [
        ""
      ],
      "execution_count": 4,
      "outputs": []
    },
    {
      "cell_type": "code",
      "metadata": {
        "id": "P4S24T6O5w24"
      },
      "source": [
        ""
      ],
      "execution_count": 4,
      "outputs": []
    },
    {
      "cell_type": "code",
      "metadata": {
        "id": "65z5qJ7t5w24"
      },
      "source": [
        ""
      ],
      "execution_count": 4,
      "outputs": []
    },
    {
      "cell_type": "markdown",
      "metadata": {
        "id": "N3aMigzI5w25"
      },
      "source": [
        "To look at some more details let us focus on a smaller portion of the image e.g. one of the lesion core. For that we are going to take a slice of the red image and store it in a new variable and display the selection. We consider pixel rows from 200 to 600 and columns from 300 to 700 of the first plane (0)."
      ]
    },
    {
      "cell_type": "code",
      "metadata": {
        "id": "_v6mr_sU5w25"
      },
      "source": [
        ""
      ],
      "execution_count": 4,
      "outputs": []
    },
    {
      "cell_type": "markdown",
      "metadata": {
        "id": "n2iNefWV5w25"
      },
      "source": [
        "There are different ways to select parts of an array. For example one can select every n'th element by giving a step size. In the case of an image, this subsamples the data:"
      ]
    },
    {
      "cell_type": "code",
      "metadata": {
        "id": "7wtCfrZ05w25"
      },
      "source": [
        ""
      ],
      "execution_count": 4,
      "outputs": []
    },
    {
      "cell_type": "markdown",
      "metadata": {
        "id": "K2bN9gKn5w25"
      },
      "source": [
        "Or use negative indices or steps to start from the end of the array. In our case this flips dimensions:"
      ]
    },
    {
      "cell_type": "code",
      "metadata": {
        "id": "5D9bb3e65w25"
      },
      "source": [
        ""
      ],
      "execution_count": 4,
      "outputs": []
    },
    {
      "cell_type": "markdown",
      "metadata": {
        "id": "-8-pLLmd5w25"
      },
      "source": [
        "### 8.3.2 Array indexing"
      ]
    },
    {
      "cell_type": "markdown",
      "metadata": {
        "id": "3V8stUN15w25"
      },
      "source": [
        "In addition to slicing an array, we can also select specific values out of it. There are [many](https://docs.scipy.org/doc/numpy-1.13.0/reference/arrays.indexing.html) different ways to achieve that, but we focus here on two main ones.\n",
        "\n",
        "First one might have a list of pixel positions and one wishes to get the values of those pixels. By passing two lists of the same size containing the rows and columns positions of those pixels, one can recover them:"
      ]
    },
    {
      "cell_type": "code",
      "metadata": {
        "id": "ofG_QySE5w26"
      },
      "source": [
        ""
      ],
      "execution_count": 4,
      "outputs": []
    },
    {
      "cell_type": "code",
      "metadata": {
        "id": "vXVWUD8v5w26"
      },
      "source": [
        ""
      ],
      "execution_count": 4,
      "outputs": []
    },
    {
      "cell_type": "code",
      "metadata": {
        "id": "WbpGS_Z75w26"
      },
      "source": [
        ""
      ],
      "execution_count": 4,
      "outputs": []
    },
    {
      "cell_type": "markdown",
      "metadata": {
        "id": "P7jQqscc5w26"
      },
      "source": [
        "Alternatively, one can pass a logical array of the same dimensions as the original array, and only the True pixels are selected. For example, let us create a logical array by picking values above a threshold:"
      ]
    },
    {
      "cell_type": "code",
      "metadata": {
        "id": "1ZDVAM5r5w26"
      },
      "source": [
        ""
      ],
      "execution_count": 4,
      "outputs": []
    },
    {
      "cell_type": "markdown",
      "metadata": {
        "id": "8SULuc3Y5w27"
      },
      "source": [
        "Let's visualize it. Matplotlib handles logical arrays simply as a binary image:"
      ]
    },
    {
      "cell_type": "code",
      "metadata": {
        "id": "8UtZvUP_5w27"
      },
      "source": [
        ""
      ],
      "execution_count": 4,
      "outputs": []
    },
    {
      "cell_type": "code",
      "metadata": {
        "id": "FIbOl32w5w27"
      },
      "source": [
        ""
      ],
      "execution_count": 5,
      "outputs": []
    },
    {
      "cell_type": "markdown",
      "metadata": {
        "id": "8s73ZgMe5w27"
      },
      "source": [
        "We can recover the value of all the \"white\" (True) pixels in the original image by using:"
      ]
    },
    {
      "cell_type": "code",
      "metadata": {
        "id": "Hs5V9z-e5w27"
      },
      "source": [
        ""
      ],
      "execution_count": 5,
      "outputs": []
    },
    {
      "cell_type": "code",
      "metadata": {
        "id": "SIzAmHdc5w28"
      },
      "source": [
        ""
      ],
      "execution_count": 5,
      "outputs": []
    },
    {
      "cell_type": "code",
      "metadata": {
        "id": "DoBioH4w5w28"
      },
      "source": [
        ""
      ],
      "execution_count": 5,
      "outputs": []
    },
    {
      "cell_type": "markdown",
      "metadata": {
        "id": "boVJJhgn5w28"
      },
      "source": [
        "And now ask how many pixels are above threshold and what their average value is."
      ]
    },
    {
      "cell_type": "code",
      "metadata": {
        "id": "Piibkblv5w28"
      },
      "source": [
        ""
      ],
      "execution_count": 5,
      "outputs": []
    },
    {
      "cell_type": "code",
      "metadata": {
        "id": "agoojgzT5w28"
      },
      "source": [
        ""
      ],
      "execution_count": 6,
      "outputs": []
    },
    {
      "cell_type": "markdown",
      "metadata": {
        "id": "YpnrRRl75w28"
      },
      "source": [
        "We now know that there are 2585 pixels above the threshold and that their mean is 153.6"
      ]
    },
    {
      "cell_type": "markdown",
      "metadata": {
        "id": "NyjGD_Pe5w29"
      },
      "source": [
        "## 8.4 Creating arrays"
      ]
    },
    {
      "cell_type": "markdown",
      "metadata": {
        "id": "zQjJG0yO5w29"
      },
      "source": [
        "Often we are going to create new arrays that we are going to then transform. There are a few common ways of doing that.\n",
        "\n",
        "Creating a zero array of dimensions 3x5:"
      ]
    },
    {
      "cell_type": "code",
      "metadata": {
        "id": "aqj8XzSE5w29"
      },
      "source": [
        ""
      ],
      "execution_count": 7,
      "outputs": []
    },
    {
      "cell_type": "markdown",
      "metadata": {
        "id": "WtG05AW45w29"
      },
      "source": [
        "Same for an array filled with ones:"
      ]
    },
    {
      "cell_type": "code",
      "metadata": {
        "id": "jTyK7rTv5w29"
      },
      "source": [
        ""
      ],
      "execution_count": 7,
      "outputs": []
    },
    {
      "cell_type": "markdown",
      "metadata": {
        "id": "8_NOiYeE5w29"
      },
      "source": [
        "Create an array filled with random uniform (0-1) values:"
      ]
    },
    {
      "cell_type": "code",
      "metadata": {
        "id": "UwFFCv5H5w29"
      },
      "source": [
        ""
      ],
      "execution_count": 7,
      "outputs": []
    },
    {
      "cell_type": "markdown",
      "metadata": {
        "id": "h7trN5Ia5w29"
      },
      "source": [
        "Clearly we did something wrong. The argument that was passed was not accepted by the functions. This is a good occasion to look at the help for a more complex function, in order to know how to pass arguments."
      ]
    },
    {
      "cell_type": "code",
      "metadata": {
        "id": "ugOJUr_d5w2-"
      },
      "source": [
        ""
      ],
      "execution_count": 7,
      "outputs": []
    },
    {
      "cell_type": "markdown",
      "metadata": {
        "id": "6yi4b9PO5w2-"
      },
      "source": [
        "So we understand now that we can just pass a list of numbers:"
      ]
    },
    {
      "cell_type": "code",
      "metadata": {
        "colab": {
          "base_uri": "https://localhost:8080/"
        },
        "id": "3_HtEvF75w2-",
        "outputId": "2a96a9f3-7777-4fcd-f40d-bf4a2bffb759"
      },
      "source": [
        "\n"
      ],
      "execution_count": null,
      "outputs": [
        {
          "output_type": "execute_result",
          "data": {
            "text/plain": [
              "array([[0., 0., 0., 0., 0.],\n",
              "       [0., 0., 0., 0., 0.],\n",
              "       [0., 0., 0., 0., 0.]])"
            ]
          },
          "metadata": {},
          "execution_count": 127
        }
      ]
    },
    {
      "cell_type": "code",
      "metadata": {
        "id": "1z8B0SeR5w2-"
      },
      "source": [
        ""
      ],
      "execution_count": 7,
      "outputs": []
    },
    {
      "cell_type": "markdown",
      "metadata": {
        "id": "z7YBb1iJ5w3A"
      },
      "source": [
        "## 8.5 Assembling arrays"
      ]
    },
    {
      "cell_type": "markdown",
      "metadata": {
        "id": "tze0HfVF5w3B"
      },
      "source": [
        "It might happen that we have separate images that need to be assembled into one larger matrix. Numpy provides several functions to achieve that. For example we can concatenate images, which means that we append an image to another. Let's grab each channel of the image:"
      ]
    },
    {
      "cell_type": "code",
      "metadata": {
        "id": "D1NUVQm05w3B"
      },
      "source": [
        ""
      ],
      "execution_count": 7,
      "outputs": []
    },
    {
      "cell_type": "markdown",
      "metadata": {
        "id": "VNra9QIm5w3B"
      },
      "source": [
        "And concateante them:"
      ]
    },
    {
      "cell_type": "code",
      "metadata": {
        "id": "IAOd-leX5w3B"
      },
      "source": [
        "\n"
      ],
      "execution_count": null,
      "outputs": []
    },
    {
      "cell_type": "code",
      "metadata": {
        "id": "3TvgxOeu5w3B"
      },
      "source": [
        ""
      ],
      "execution_count": 7,
      "outputs": []
    },
    {
      "cell_type": "markdown",
      "metadata": {
        "id": "uO6HZofu5w3B"
      },
      "source": [
        "We can specify along which axis they should be assembled:"
      ]
    },
    {
      "cell_type": "code",
      "metadata": {
        "id": "tvGrlLph5w3B"
      },
      "source": [
        "concatenated_image = np.concatenate((image_red,image_green),axis = 1)"
      ],
      "execution_count": null,
      "outputs": []
    },
    {
      "cell_type": "code",
      "metadata": {
        "id": "L6h_u3ZO5w3B"
      },
      "source": [
        ""
      ],
      "execution_count": 7,
      "outputs": []
    },
    {
      "cell_type": "markdown",
      "metadata": {
        "id": "QjKcevLl5w3C"
      },
      "source": [
        "Alternatively, we might want to create a stack of image from separate images. Let's recreate the cat image by switching the red and blue channel. We assemble the separate color images and specific that they should be stacked along the third axis (axis =2)."
      ]
    },
    {
      "cell_type": "code",
      "metadata": {
        "id": "Uu2EPmU35w3C"
      },
      "source": [
        "switch_image = np.stack((image_blue,image_green,image_red),axis = 2)"
      ],
      "execution_count": null,
      "outputs": []
    },
    {
      "cell_type": "markdown",
      "metadata": {
        "id": "0ZAsZOLs5w3C"
      },
      "source": [
        "We verify that the dimensions are the expected ones:"
      ]
    },
    {
      "cell_type": "code",
      "metadata": {
        "id": "-DMR5V7X5w3C"
      },
      "source": [
        ""
      ],
      "execution_count": 7,
      "outputs": []
    },
    {
      "cell_type": "code",
      "metadata": {
        "id": "dBcz9w2S5w3C"
      },
      "source": [
        ""
      ],
      "execution_count": 7,
      "outputs": []
    },
    {
      "cell_type": "code",
      "metadata": {
        "id": "Xc7IhMRJ5w3C"
      },
      "source": [
        ""
      ],
      "execution_count": null,
      "outputs": []
    }
  ]
}
